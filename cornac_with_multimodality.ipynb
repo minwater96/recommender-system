{
 "cells": [
  {
   "cell_type": "code",
   "execution_count": 9,
   "metadata": {},
   "outputs": [
    {
     "name": "stdout",
     "output_type": "stream",
     "text": [
      "Collecting seaborn\n",
      "  Using cached seaborn-0.13.2-py3-none-any.whl.metadata (5.4 kB)\n",
      "Collecting cornac\n",
      "  Downloading cornac-2.2.2-cp38-cp38-macosx_14_0_arm64.whl.metadata (36 kB)\n",
      "Collecting tensorflow\n",
      "  Downloading tensorflow-2.13.1-cp38-cp38-macosx_12_0_arm64.whl.metadata (2.6 kB)\n",
      "Requirement already satisfied: numpy!=1.24.0,>=1.20 in /Users/kimminsu/miniconda3/envs/myenv/lib/python3.8/site-packages (from seaborn) (1.24.4)\n",
      "Requirement already satisfied: pandas>=1.2 in /Users/kimminsu/miniconda3/envs/myenv/lib/python3.8/site-packages (from seaborn) (2.0.3)\n",
      "Requirement already satisfied: matplotlib!=3.6.1,>=3.4 in /Users/kimminsu/miniconda3/envs/myenv/lib/python3.8/site-packages (from seaborn) (3.7.5)\n",
      "Collecting scipy<=1.13.1 (from cornac)\n",
      "  Downloading scipy-1.10.1-cp38-cp38-macosx_12_0_arm64.whl.metadata (53 kB)\n",
      "Collecting tqdm (from cornac)\n",
      "  Using cached tqdm-4.67.0-py3-none-any.whl.metadata (57 kB)\n",
      "Collecting powerlaw (from cornac)\n",
      "  Using cached powerlaw-1.5-py3-none-any.whl.metadata (9.3 kB)\n",
      "INFO: pip is looking at multiple versions of tensorflow to determine which version is compatible with other requirements. This could take a while.\n",
      "Collecting tensorflow\n",
      "  Downloading tensorflow-2.13.0-cp38-cp38-macosx_12_0_arm64.whl.metadata (2.6 kB)\n",
      "Collecting tensorflow-macos==2.13.0 (from tensorflow)\n",
      "  Downloading tensorflow_macos-2.13.0-cp38-cp38-macosx_12_0_arm64.whl.metadata (3.2 kB)\n",
      "Collecting absl-py>=1.0.0 (from tensorflow-macos==2.13.0->tensorflow)\n",
      "  Using cached absl_py-2.1.0-py3-none-any.whl.metadata (2.3 kB)\n",
      "Collecting astunparse>=1.6.0 (from tensorflow-macos==2.13.0->tensorflow)\n",
      "  Using cached astunparse-1.6.3-py2.py3-none-any.whl.metadata (4.4 kB)\n",
      "Collecting flatbuffers>=23.1.21 (from tensorflow-macos==2.13.0->tensorflow)\n",
      "  Using cached flatbuffers-24.3.25-py2.py3-none-any.whl.metadata (850 bytes)\n",
      "Collecting gast<=0.4.0,>=0.2.1 (from tensorflow-macos==2.13.0->tensorflow)\n",
      "  Downloading gast-0.4.0-py3-none-any.whl.metadata (1.1 kB)\n",
      "Collecting google-pasta>=0.1.1 (from tensorflow-macos==2.13.0->tensorflow)\n",
      "  Using cached google_pasta-0.2.0-py3-none-any.whl.metadata (814 bytes)\n",
      "Collecting h5py>=2.9.0 (from tensorflow-macos==2.13.0->tensorflow)\n",
      "  Downloading h5py-3.11.0-cp38-cp38-macosx_11_0_arm64.whl.metadata (2.5 kB)\n",
      "Collecting libclang>=13.0.0 (from tensorflow-macos==2.13.0->tensorflow)\n",
      "  Using cached libclang-18.1.1-1-py2.py3-none-macosx_11_0_arm64.whl.metadata (5.2 kB)\n",
      "Collecting numpy!=1.24.0,>=1.20 (from seaborn)\n",
      "  Downloading numpy-1.24.3-cp38-cp38-macosx_11_0_arm64.whl.metadata (5.6 kB)\n",
      "Collecting opt-einsum>=2.3.2 (from tensorflow-macos==2.13.0->tensorflow)\n",
      "  Using cached opt_einsum-3.4.0-py3-none-any.whl.metadata (6.3 kB)\n",
      "Requirement already satisfied: packaging in /Users/kimminsu/miniconda3/envs/myenv/lib/python3.8/site-packages (from tensorflow-macos==2.13.0->tensorflow) (24.2)\n",
      "Collecting protobuf!=4.21.0,!=4.21.1,!=4.21.2,!=4.21.3,!=4.21.4,!=4.21.5,<5.0.0dev,>=3.20.3 (from tensorflow-macos==2.13.0->tensorflow)\n",
      "  Using cached protobuf-4.25.5-cp37-abi3-macosx_10_9_universal2.whl.metadata (541 bytes)\n",
      "Requirement already satisfied: setuptools in /Users/kimminsu/miniconda3/envs/myenv/lib/python3.8/site-packages (from tensorflow-macos==2.13.0->tensorflow) (75.1.0)\n",
      "Requirement already satisfied: six>=1.12.0 in /Users/kimminsu/miniconda3/envs/myenv/lib/python3.8/site-packages (from tensorflow-macos==2.13.0->tensorflow) (1.16.0)\n",
      "Collecting termcolor>=1.1.0 (from tensorflow-macos==2.13.0->tensorflow)\n",
      "  Using cached termcolor-2.4.0-py3-none-any.whl.metadata (6.1 kB)\n",
      "Collecting typing-extensions<4.6.0,>=3.6.6 (from tensorflow-macos==2.13.0->tensorflow)\n",
      "  Downloading typing_extensions-4.5.0-py3-none-any.whl.metadata (8.5 kB)\n",
      "Collecting wrapt>=1.11.0 (from tensorflow-macos==2.13.0->tensorflow)\n",
      "  Downloading wrapt-1.17.0-cp38-cp38-macosx_11_0_arm64.whl.metadata (6.4 kB)\n",
      "Collecting grpcio<2.0,>=1.24.3 (from tensorflow-macos==2.13.0->tensorflow)\n",
      "  Downloading grpcio-1.68.0-cp38-cp38-macosx_10_9_universal2.whl.metadata (3.9 kB)\n",
      "Collecting tensorboard<2.14,>=2.13 (from tensorflow-macos==2.13.0->tensorflow)\n",
      "  Downloading tensorboard-2.13.0-py3-none-any.whl.metadata (1.8 kB)\n",
      "Collecting tensorflow-estimator<2.14,>=2.13.0 (from tensorflow-macos==2.13.0->tensorflow)\n",
      "  Downloading tensorflow_estimator-2.13.0-py2.py3-none-any.whl.metadata (1.3 kB)\n",
      "Collecting keras<2.14,>=2.13.1 (from tensorflow-macos==2.13.0->tensorflow)\n",
      "  Downloading keras-2.13.1-py3-none-any.whl.metadata (2.4 kB)\n",
      "Requirement already satisfied: contourpy>=1.0.1 in /Users/kimminsu/miniconda3/envs/myenv/lib/python3.8/site-packages (from matplotlib!=3.6.1,>=3.4->seaborn) (1.1.1)\n",
      "Requirement already satisfied: cycler>=0.10 in /Users/kimminsu/miniconda3/envs/myenv/lib/python3.8/site-packages (from matplotlib!=3.6.1,>=3.4->seaborn) (0.12.1)\n",
      "Requirement already satisfied: fonttools>=4.22.0 in /Users/kimminsu/miniconda3/envs/myenv/lib/python3.8/site-packages (from matplotlib!=3.6.1,>=3.4->seaborn) (4.55.0)\n",
      "Requirement already satisfied: kiwisolver>=1.0.1 in /Users/kimminsu/miniconda3/envs/myenv/lib/python3.8/site-packages (from matplotlib!=3.6.1,>=3.4->seaborn) (1.4.7)\n",
      "Requirement already satisfied: pillow>=6.2.0 in /Users/kimminsu/miniconda3/envs/myenv/lib/python3.8/site-packages (from matplotlib!=3.6.1,>=3.4->seaborn) (10.4.0)\n",
      "Requirement already satisfied: pyparsing>=2.3.1 in /Users/kimminsu/miniconda3/envs/myenv/lib/python3.8/site-packages (from matplotlib!=3.6.1,>=3.4->seaborn) (3.1.4)\n",
      "Requirement already satisfied: python-dateutil>=2.7 in /Users/kimminsu/miniconda3/envs/myenv/lib/python3.8/site-packages (from matplotlib!=3.6.1,>=3.4->seaborn) (2.9.0)\n",
      "Requirement already satisfied: importlib-resources>=3.2.0 in /Users/kimminsu/miniconda3/envs/myenv/lib/python3.8/site-packages (from matplotlib!=3.6.1,>=3.4->seaborn) (6.4.5)\n",
      "Requirement already satisfied: pytz>=2020.1 in /Users/kimminsu/miniconda3/envs/myenv/lib/python3.8/site-packages (from pandas>=1.2->seaborn) (2024.2)\n",
      "Requirement already satisfied: tzdata>=2022.1 in /Users/kimminsu/miniconda3/envs/myenv/lib/python3.8/site-packages (from pandas>=1.2->seaborn) (2024.2)\n",
      "Collecting mpmath (from powerlaw->cornac)\n",
      "  Using cached mpmath-1.3.0-py3-none-any.whl.metadata (8.6 kB)\n",
      "Requirement already satisfied: wheel<1.0,>=0.23.0 in /Users/kimminsu/miniconda3/envs/myenv/lib/python3.8/site-packages (from astunparse>=1.6.0->tensorflow-macos==2.13.0->tensorflow) (0.44.0)\n",
      "Requirement already satisfied: zipp>=3.1.0 in /Users/kimminsu/miniconda3/envs/myenv/lib/python3.8/site-packages (from importlib-resources>=3.2.0->matplotlib!=3.6.1,>=3.4->seaborn) (3.21.0)\n",
      "Collecting google-auth<3,>=1.6.3 (from tensorboard<2.14,>=2.13->tensorflow-macos==2.13.0->tensorflow)\n",
      "  Downloading google_auth-2.36.0-py2.py3-none-any.whl.metadata (4.7 kB)\n",
      "Collecting google-auth-oauthlib<1.1,>=0.5 (from tensorboard<2.14,>=2.13->tensorflow-macos==2.13.0->tensorflow)\n",
      "  Downloading google_auth_oauthlib-1.0.0-py2.py3-none-any.whl.metadata (2.7 kB)\n",
      "Collecting markdown>=2.6.8 (from tensorboard<2.14,>=2.13->tensorflow-macos==2.13.0->tensorflow)\n",
      "  Using cached Markdown-3.7-py3-none-any.whl.metadata (7.0 kB)\n",
      "Collecting requests<3,>=2.21.0 (from tensorboard<2.14,>=2.13->tensorflow-macos==2.13.0->tensorflow)\n",
      "  Using cached requests-2.32.3-py3-none-any.whl.metadata (4.6 kB)\n",
      "Collecting tensorboard-data-server<0.8.0,>=0.7.0 (from tensorboard<2.14,>=2.13->tensorflow-macos==2.13.0->tensorflow)\n",
      "  Using cached tensorboard_data_server-0.7.2-py3-none-any.whl.metadata (1.1 kB)\n",
      "Collecting werkzeug>=1.0.1 (from tensorboard<2.14,>=2.13->tensorflow-macos==2.13.0->tensorflow)\n",
      "  Downloading werkzeug-3.0.6-py3-none-any.whl.metadata (3.7 kB)\n",
      "Collecting cachetools<6.0,>=2.0.0 (from google-auth<3,>=1.6.3->tensorboard<2.14,>=2.13->tensorflow-macos==2.13.0->tensorflow)\n",
      "  Using cached cachetools-5.5.0-py3-none-any.whl.metadata (5.3 kB)\n",
      "Collecting pyasn1-modules>=0.2.1 (from google-auth<3,>=1.6.3->tensorboard<2.14,>=2.13->tensorflow-macos==2.13.0->tensorflow)\n",
      "  Using cached pyasn1_modules-0.4.1-py3-none-any.whl.metadata (3.5 kB)\n",
      "Collecting rsa<5,>=3.1.4 (from google-auth<3,>=1.6.3->tensorboard<2.14,>=2.13->tensorflow-macos==2.13.0->tensorflow)\n",
      "  Using cached rsa-4.9-py3-none-any.whl.metadata (4.2 kB)\n",
      "Collecting requests-oauthlib>=0.7.0 (from google-auth-oauthlib<1.1,>=0.5->tensorboard<2.14,>=2.13->tensorflow-macos==2.13.0->tensorflow)\n",
      "  Using cached requests_oauthlib-2.0.0-py2.py3-none-any.whl.metadata (11 kB)\n",
      "Requirement already satisfied: importlib-metadata>=4.4 in /Users/kimminsu/miniconda3/envs/myenv/lib/python3.8/site-packages (from markdown>=2.6.8->tensorboard<2.14,>=2.13->tensorflow-macos==2.13.0->tensorflow) (8.5.0)\n",
      "Collecting charset-normalizer<4,>=2 (from requests<3,>=2.21.0->tensorboard<2.14,>=2.13->tensorflow-macos==2.13.0->tensorflow)\n",
      "  Downloading charset_normalizer-3.4.0-cp38-cp38-macosx_11_0_arm64.whl.metadata (34 kB)\n",
      "Collecting idna<4,>=2.5 (from requests<3,>=2.21.0->tensorboard<2.14,>=2.13->tensorflow-macos==2.13.0->tensorflow)\n",
      "  Using cached idna-3.10-py3-none-any.whl.metadata (10 kB)\n",
      "Collecting urllib3<3,>=1.21.1 (from requests<3,>=2.21.0->tensorboard<2.14,>=2.13->tensorflow-macos==2.13.0->tensorflow)\n",
      "  Using cached urllib3-2.2.3-py3-none-any.whl.metadata (6.5 kB)\n",
      "Collecting certifi>=2017.4.17 (from requests<3,>=2.21.0->tensorboard<2.14,>=2.13->tensorflow-macos==2.13.0->tensorflow)\n",
      "  Using cached certifi-2024.8.30-py3-none-any.whl.metadata (2.2 kB)\n",
      "Collecting MarkupSafe>=2.1.1 (from werkzeug>=1.0.1->tensorboard<2.14,>=2.13->tensorflow-macos==2.13.0->tensorflow)\n",
      "  Downloading MarkupSafe-2.1.5-cp38-cp38-macosx_10_9_universal2.whl.metadata (3.0 kB)\n",
      "Collecting pyasn1<0.7.0,>=0.4.6 (from pyasn1-modules>=0.2.1->google-auth<3,>=1.6.3->tensorboard<2.14,>=2.13->tensorflow-macos==2.13.0->tensorflow)\n",
      "  Using cached pyasn1-0.6.1-py3-none-any.whl.metadata (8.4 kB)\n",
      "Collecting oauthlib>=3.0.0 (from requests-oauthlib>=0.7.0->google-auth-oauthlib<1.1,>=0.5->tensorboard<2.14,>=2.13->tensorflow-macos==2.13.0->tensorflow)\n",
      "  Using cached oauthlib-3.2.2-py3-none-any.whl.metadata (7.5 kB)\n",
      "Using cached seaborn-0.13.2-py3-none-any.whl (294 kB)\n",
      "Downloading cornac-2.2.2-cp38-cp38-macosx_14_0_arm64.whl (3.3 MB)\n",
      "\u001b[2K   \u001b[90m━━━━━━━━━━━━━━━━━━━━━━━━━━━━━━━━━━━━━━━━\u001b[0m \u001b[32m3.3/3.3 MB\u001b[0m \u001b[31m3.9 MB/s\u001b[0m eta \u001b[36m0:00:00\u001b[0ma \u001b[36m0:00:01\u001b[0m\n",
      "\u001b[?25hDownloading tensorflow-2.13.0-cp38-cp38-macosx_12_0_arm64.whl (1.9 kB)\n",
      "Downloading tensorflow_macos-2.13.0-cp38-cp38-macosx_12_0_arm64.whl (189.3 MB)\n",
      "\u001b[2K   \u001b[90m━━━━━━━━━━━━━━━━━━━━━━━━━━━━━━━━━━━━━━━━\u001b[0m \u001b[32m189.3/189.3 MB\u001b[0m \u001b[31m2.3 MB/s\u001b[0m eta \u001b[36m0:00:00\u001b[0m00:01\u001b[0m00:03\u001b[0m\n",
      "\u001b[?25hDownloading numpy-1.24.3-cp38-cp38-macosx_11_0_arm64.whl (13.8 MB)\n",
      "\u001b[2K   \u001b[90m━━━━━━━━━━━━━━━━━━━━━━━━━━━━━━━━━━━━━━━━\u001b[0m \u001b[32m13.8/13.8 MB\u001b[0m \u001b[31m2.7 MB/s\u001b[0m eta \u001b[36m0:00:00\u001b[0ma \u001b[36m0:00:01\u001b[0m\n",
      "\u001b[?25hDownloading scipy-1.10.1-cp38-cp38-macosx_12_0_arm64.whl (28.8 MB)\n",
      "\u001b[2K   \u001b[90m━━━━━━━━━━━━━━━━━━━━━━━━━━━━━━━━━━━━━━━━\u001b[0m \u001b[32m28.8/28.8 MB\u001b[0m \u001b[31m2.4 MB/s\u001b[0m eta \u001b[36m0:00:00\u001b[0m00:01\u001b[0m00:01\u001b[0m\n",
      "\u001b[?25hUsing cached powerlaw-1.5-py3-none-any.whl (24 kB)\n",
      "Using cached tqdm-4.67.0-py3-none-any.whl (78 kB)\n",
      "Using cached absl_py-2.1.0-py3-none-any.whl (133 kB)\n",
      "Using cached astunparse-1.6.3-py2.py3-none-any.whl (12 kB)\n",
      "Using cached flatbuffers-24.3.25-py2.py3-none-any.whl (26 kB)\n",
      "Downloading gast-0.4.0-py3-none-any.whl (9.8 kB)\n",
      "Using cached google_pasta-0.2.0-py3-none-any.whl (57 kB)\n",
      "Downloading grpcio-1.68.0-cp38-cp38-macosx_10_9_universal2.whl (11.1 MB)\n",
      "\u001b[2K   \u001b[90m━━━━━━━━━━━━━━━━━━━━━━━━━━━━━━━━━━━━━━━━\u001b[0m \u001b[32m11.1/11.1 MB\u001b[0m \u001b[31m2.4 MB/s\u001b[0m eta \u001b[36m0:00:00\u001b[0m00:01\u001b[0m00:01\u001b[0m\n",
      "\u001b[?25hDownloading h5py-3.11.0-cp38-cp38-macosx_11_0_arm64.whl (2.9 MB)\n",
      "\u001b[2K   \u001b[90m━━━━━━━━━━━━━━━━━━━━━━━━━━━━━━━━━━━━━━━━\u001b[0m \u001b[32m2.9/2.9 MB\u001b[0m \u001b[31m2.4 MB/s\u001b[0m eta \u001b[36m0:00:00\u001b[0ma \u001b[36m0:00:01\u001b[0m\n",
      "\u001b[?25hDownloading keras-2.13.1-py3-none-any.whl (1.7 MB)\n",
      "\u001b[2K   \u001b[90m━━━━━━━━━━━━━━━━━━━━━━━━━━━━━━━━━━━━━━━━\u001b[0m \u001b[32m1.7/1.7 MB\u001b[0m \u001b[31m2.3 MB/s\u001b[0m eta \u001b[36m0:00:00\u001b[0ma \u001b[36m0:00:01\u001b[0m\n",
      "\u001b[?25hUsing cached libclang-18.1.1-1-py2.py3-none-macosx_11_0_arm64.whl (25.8 MB)\n",
      "Using cached opt_einsum-3.4.0-py3-none-any.whl (71 kB)\n",
      "Using cached protobuf-4.25.5-cp37-abi3-macosx_10_9_universal2.whl (394 kB)\n",
      "Downloading tensorboard-2.13.0-py3-none-any.whl (5.6 MB)\n",
      "\u001b[2K   \u001b[90m━━━━━━━━━━━━━━━━━━━━━━━━━━━━━━━━━━━━━━━━\u001b[0m \u001b[32m5.6/5.6 MB\u001b[0m \u001b[31m2.4 MB/s\u001b[0m eta \u001b[36m0:00:00\u001b[0m00:01\u001b[0m00:01\u001b[0m\n",
      "\u001b[?25hDownloading tensorflow_estimator-2.13.0-py2.py3-none-any.whl (440 kB)\n",
      "Using cached termcolor-2.4.0-py3-none-any.whl (7.7 kB)\n",
      "Downloading typing_extensions-4.5.0-py3-none-any.whl (27 kB)\n",
      "Downloading wrapt-1.17.0-cp38-cp38-macosx_11_0_arm64.whl (38 kB)\n",
      "Using cached mpmath-1.3.0-py3-none-any.whl (536 kB)\n",
      "Downloading google_auth-2.36.0-py2.py3-none-any.whl (209 kB)\n",
      "Downloading google_auth_oauthlib-1.0.0-py2.py3-none-any.whl (18 kB)\n",
      "Using cached Markdown-3.7-py3-none-any.whl (106 kB)\n",
      "Using cached requests-2.32.3-py3-none-any.whl (64 kB)\n",
      "Using cached tensorboard_data_server-0.7.2-py3-none-any.whl (2.4 kB)\n",
      "Downloading werkzeug-3.0.6-py3-none-any.whl (227 kB)\n",
      "Using cached cachetools-5.5.0-py3-none-any.whl (9.5 kB)\n",
      "Using cached certifi-2024.8.30-py3-none-any.whl (167 kB)\n",
      "Downloading charset_normalizer-3.4.0-cp38-cp38-macosx_11_0_arm64.whl (119 kB)\n",
      "Using cached idna-3.10-py3-none-any.whl (70 kB)\n",
      "Downloading MarkupSafe-2.1.5-cp38-cp38-macosx_10_9_universal2.whl (18 kB)\n",
      "Using cached pyasn1_modules-0.4.1-py3-none-any.whl (181 kB)\n",
      "Using cached requests_oauthlib-2.0.0-py2.py3-none-any.whl (24 kB)\n",
      "Using cached rsa-4.9-py3-none-any.whl (34 kB)\n",
      "Using cached urllib3-2.2.3-py3-none-any.whl (126 kB)\n",
      "Using cached oauthlib-3.2.2-py3-none-any.whl (151 kB)\n",
      "Using cached pyasn1-0.6.1-py3-none-any.whl (83 kB)\n",
      "Installing collected packages: mpmath, libclang, flatbuffers, wrapt, urllib3, typing-extensions, tqdm, termcolor, tensorflow-estimator, tensorboard-data-server, pyasn1, protobuf, opt-einsum, oauthlib, numpy, MarkupSafe, keras, idna, grpcio, google-pasta, gast, charset-normalizer, certifi, cachetools, astunparse, absl-py, werkzeug, scipy, rsa, requests, pyasn1-modules, markdown, h5py, requests-oauthlib, google-auth, seaborn, powerlaw, google-auth-oauthlib, tensorboard, cornac, tensorflow-macos, tensorflow\n",
      "  Attempting uninstall: typing-extensions\n",
      "    Found existing installation: typing_extensions 4.12.2\n",
      "    Uninstalling typing_extensions-4.12.2:\n",
      "      Successfully uninstalled typing_extensions-4.12.2\n",
      "  Attempting uninstall: numpy\n",
      "    Found existing installation: numpy 1.24.4\n",
      "    Uninstalling numpy-1.24.4:\n",
      "      Successfully uninstalled numpy-1.24.4\n",
      "Successfully installed MarkupSafe-2.1.5 absl-py-2.1.0 astunparse-1.6.3 cachetools-5.5.0 certifi-2024.8.30 charset-normalizer-3.4.0 cornac-2.2.2 flatbuffers-24.3.25 gast-0.4.0 google-auth-2.36.0 google-auth-oauthlib-1.0.0 google-pasta-0.2.0 grpcio-1.68.0 h5py-3.11.0 idna-3.10 keras-2.13.1 libclang-18.1.1 markdown-3.7 mpmath-1.3.0 numpy-1.24.3 oauthlib-3.2.2 opt-einsum-3.4.0 powerlaw-1.5 protobuf-4.25.5 pyasn1-0.6.1 pyasn1-modules-0.4.1 requests-2.32.3 requests-oauthlib-2.0.0 rsa-4.9 scipy-1.10.1 seaborn-0.13.2 tensorboard-2.13.0 tensorboard-data-server-0.7.2 tensorflow-2.13.0 tensorflow-estimator-2.13.0 tensorflow-macos-2.13.0 termcolor-2.4.0 tqdm-4.67.0 typing-extensions-4.5.0 urllib3-2.2.3 werkzeug-3.0.6 wrapt-1.17.0\n"
     ]
    }
   ],
   "source": [
    "!pip install seaborn cornac tensorflow"
   ]
  },
  {
   "cell_type": "code",
   "execution_count": 10,
   "metadata": {},
   "outputs": [
    {
     "name": "stderr",
     "output_type": "stream",
     "text": [
      "/Users/kimminsu/miniconda3/envs/myenv/lib/python3.8/site-packages/tqdm/auto.py:21: TqdmWarning: IProgress not found. Please update jupyter and ipywidgets. See https://ipywidgets.readthedocs.io/en/stable/user_install.html\n",
      "  from .autonotebook import tqdm as notebook_tqdm\n"
     ]
    },
    {
     "name": "stdout",
     "output_type": "stream",
     "text": [
      "System version: 3.8.20 (default, Oct  3 2024, 10:22:23) \n",
      "[Clang 14.0.6 ]\n",
      "Cornac version: 2.2.2\n",
      "Tensorflow version: 2.13.0\n"
     ]
    }
   ],
   "source": [
    "import os\n",
    "import sys\n",
    "from collections import defaultdict\n",
    "\n",
    "import numpy as np\n",
    "import pandas as pd\n",
    "import matplotlib.pyplot as plt\n",
    "import seaborn as sns\n",
    "\n",
    "import cornac\n",
    "from cornac.utils import cache\n",
    "from cornac.datasets import filmtrust, amazon_clothing\n",
    "from cornac.eval_methods import RatioSplit\n",
    "from cornac.models import PMF, SoRec, WMF, CTR, BPR, VBPR\n",
    "from cornac.data import GraphModality, TextModality, ImageModality\n",
    "from cornac.data.text import BaseTokenizer\n",
    "\n",
    "import tensorflow as tf\n",
    "print(f\"System version: {sys.version}\")\n",
    "print(f\"Cornac version: {cornac.__version__}\")\n",
    "print(f\"Tensorflow version: {tf.__version__}\")\n",
    "\n",
    "SEED = 1234\n",
    "VERBOSE = True"
   ]
  },
  {
   "cell_type": "markdown",
   "metadata": {},
   "source": [
    "## 1. Feature Modality"
   ]
  },
  {
   "cell_type": "code",
   "execution_count": 2,
   "metadata": {},
   "outputs": [],
   "source": [
    "# user_features, item_features = pd.read_pickle('features.pkl')\n",
    "\n",
    "# from cornac.data import FeatureModality\n",
    "\n",
    "# # FeatureModality를 사용하여 사용자와 아이템의 feature를 정의합니다.\n",
    "# user_feature_modality = FeatureModality(features=user_features, ids=None, normalize=False)\n",
    "# item_feature_modality = FeatureModality(features=item_features, ids=None, normalize=False)\n",
    "\n",
    "# # 평가방법 설정\n",
    "# eval_method = BaseMethod.from_splits(\n",
    "#     train_data=np.array(train), \n",
    "#     test_data=np.array(test), \n",
    "#     user_features=user_feature_modality, item_features=item_feature_modality,\n",
    "#     exclude_unknowns=True,  # Unknown users and items will be ignored.\n",
    "#     verbose=True\n",
    "# )"
   ]
  },
  {
   "cell_type": "markdown",
   "metadata": {},
   "source": [
    "# 2. GraphModality"
   ]
  },
  {
   "cell_type": "markdown",
   "metadata": {},
   "source": [
    "## Social Recommendation (SoRec)\n"
   ]
  },
  {
   "cell_type": "markdown",
   "metadata": {},
   "source": [
    "- SoRec 아키텍쳐\n",
    "<img src='image/SoRec.png' align=\"left\" width=800/>"
   ]
  },
  {
   "cell_type": "code",
   "execution_count": 11,
   "metadata": {},
   "outputs": [
    {
     "name": "stdout",
     "output_type": "stream",
     "text": [
      "Data from https://static.preferred.ai/cornac/datasets/filmtrust/filmtrust.zip\n",
      "will be cached into /Users/kimminsu/.cornac/filmtrust/ratings.txt\n"
     ]
    },
    {
     "name": "stderr",
     "output_type": "stream",
     "text": [
      "106kB [00:00, 455kB/s]                              \n",
      "/Users/kimminsu/miniconda3/envs/myenv/lib/python3.8/site-packages/cornac/data/dataset.py:335: UserWarning: 1 duplicated observations are removed!\n",
      "  warnings.warn(\"%d duplicated observations are removed!\" % dup_count)\n"
     ]
    },
    {
     "name": "stdout",
     "output_type": "stream",
     "text": [
      "Unzipping ...\n",
      "File cached!\n",
      "rating_threshold = 2.5\n",
      "exclude_unknowns = True\n",
      "---\n",
      "Training data:\n",
      "Number of users = 1475\n",
      "Number of items = 1917\n",
      "Number of ratings = 28396\n",
      "Max rating = 4.0\n",
      "Min rating = 0.5\n",
      "Global mean = 3.0\n",
      "---\n",
      "Test data:\n",
      "Number of users = 1475\n",
      "Number of items = 1917\n",
      "Number of ratings = 6873\n",
      "Number of unknown users = 0\n",
      "Number of unknown items = 0\n",
      "---\n",
      "Total users = 1475\n",
      "Total items = 1917\n",
      "\n",
      "[SoRec] Training started!\n",
      "Learning...\n",
      "epoch 0, loss: 3336.866073\n",
      "epoch 1, loss: 2928.795649\n",
      "epoch 2, loss: 2463.184595\n",
      "epoch 3, loss: 2220.541953\n",
      "epoch 4, loss: 2110.565760\n",
      "epoch 5, loss: 2044.658160\n",
      "epoch 6, loss: 1995.125000\n",
      "epoch 7, loss: 1954.012938\n",
      "epoch 8, loss: 1918.281104\n",
      "epoch 9, loss: 1886.355976\n",
      "epoch 10, loss: 1857.334871\n",
      "epoch 11, loss: 1830.593392\n",
      "epoch 12, loss: 1805.751273\n",
      "epoch 13, loss: 1782.438519\n",
      "epoch 14, loss: 1760.579884\n",
      "epoch 15, loss: 1739.915589\n",
      "epoch 16, loss: 1720.301302\n",
      "epoch 17, loss: 1701.677061\n",
      "epoch 18, loss: 1683.843279\n",
      "epoch 19, loss: 1666.720036\n",
      "epoch 20, loss: 1650.190473\n",
      "epoch 21, loss: 1634.138636\n",
      "epoch 22, loss: 1618.498840\n",
      "epoch 23, loss: 1603.170566\n",
      "epoch 24, loss: 1588.072386\n",
      "epoch 25, loss: 1573.162621\n",
      "epoch 26, loss: 1558.358803\n",
      "epoch 27, loss: 1543.639841\n",
      "epoch 28, loss: 1528.936375\n",
      "epoch 29, loss: 1514.278548\n",
      "epoch 30, loss: 1499.564991\n",
      "epoch 31, loss: 1484.921134\n",
      "epoch 32, loss: 1470.206048\n",
      "epoch 33, loss: 1455.558934\n",
      "epoch 34, loss: 1440.879926\n",
      "epoch 35, loss: 1426.297133\n",
      "epoch 36, loss: 1411.787029\n",
      "epoch 37, loss: 1397.317718\n",
      "epoch 38, loss: 1383.071672\n",
      "epoch 39, loss: 1368.839710\n",
      "epoch 40, loss: 1354.889690\n",
      "epoch 41, loss: 1340.959270\n",
      "epoch 42, loss: 1327.356135\n",
      "epoch 43, loss: 1313.816972\n",
      "epoch 44, loss: 1300.516715\n",
      "epoch 45, loss: 1287.367541\n",
      "epoch 46, loss: 1274.390471\n",
      "epoch 47, loss: 1261.651677\n",
      "epoch 48, loss: 1249.007939\n",
      "epoch 49, loss: 1236.658798\n",
      "Learning completed\n",
      "\n",
      "[SoRec] Evaluation started!\n"
     ]
    },
    {
     "name": "stderr",
     "output_type": "stream",
     "text": [
      "Rating: 100%|██████████| 6873/6873 [00:00<00:00, 196865.79it/s]"
     ]
    },
    {
     "name": "stdout",
     "output_type": "stream",
     "text": [
      "\n",
      "[PMF] Training started!\n"
     ]
    },
    {
     "name": "stderr",
     "output_type": "stream",
     "text": [
      "\n"
     ]
    },
    {
     "name": "stdout",
     "output_type": "stream",
     "text": [
      "Learning...\n",
      "epoch 0, loss: 3260.518425\n",
      "epoch 1, loss: 3123.428723\n",
      "epoch 2, loss: 2936.524485\n",
      "epoch 3, loss: 2778.610802\n",
      "epoch 4, loss: 2658.799484\n",
      "epoch 5, loss: 2567.284771\n",
      "epoch 6, loss: 2495.441571\n",
      "epoch 7, loss: 2437.683320\n",
      "epoch 8, loss: 2390.344491\n",
      "epoch 9, loss: 2350.879752\n",
      "epoch 10, loss: 2317.429363\n",
      "epoch 11, loss: 2288.622307\n",
      "epoch 12, loss: 2263.486231\n",
      "epoch 13, loss: 2241.328288\n",
      "epoch 14, loss: 2221.630328\n",
      "epoch 15, loss: 2203.990717\n",
      "epoch 16, loss: 2188.092781\n",
      "epoch 17, loss: 2173.683612\n",
      "epoch 18, loss: 2160.558220\n",
      "epoch 19, loss: 2148.548212\n",
      "epoch 20, loss: 2137.513659\n",
      "epoch 21, loss: 2127.337084\n",
      "epoch 22, loss: 2117.919045\n",
      "epoch 23, loss: 2109.174712\n",
      "epoch 24, loss: 2101.031310\n",
      "epoch 25, loss: 2093.426001\n",
      "epoch 26, loss: 2086.304263\n",
      "epoch 27, loss: 2079.618584\n",
      "epoch 28, loss: 2073.327367\n",
      "epoch 29, loss: 2067.394102\n",
      "epoch 30, loss: 2061.786625\n",
      "epoch 31, loss: 2056.476524\n",
      "epoch 32, loss: 2051.438639\n",
      "epoch 33, loss: 2046.650630\n",
      "epoch 34, loss: 2042.092605\n",
      "epoch 35, loss: 2037.746767\n",
      "epoch 36, loss: 2033.597150\n",
      "epoch 37, loss: 2029.629357\n",
      "epoch 38, loss: 2025.830327\n",
      "epoch 39, loss: 2022.188152\n",
      "epoch 40, loss: 2018.691904\n",
      "epoch 41, loss: 2015.331519\n",
      "epoch 42, loss: 2012.097674\n",
      "epoch 43, loss: 2008.981776\n",
      "epoch 44, loss: 2005.975934\n",
      "epoch 45, loss: 2003.072970\n",
      "epoch 46, loss: 2000.266365\n",
      "epoch 47, loss: 1997.550221\n",
      "epoch 48, loss: 1994.919179\n",
      "epoch 49, loss: 1992.368348\n",
      "Learning completed\n",
      "\n",
      "[PMF] Evaluation started!\n"
     ]
    },
    {
     "name": "stderr",
     "output_type": "stream",
     "text": [
      "Rating: 100%|██████████| 6873/6873 [00:00<00:00, 155623.85it/s]"
     ]
    },
    {
     "name": "stdout",
     "output_type": "stream",
     "text": [
      "\n",
      "TEST:\n",
      "...\n",
      "      |    MAE | Train (s) | Test (s)\n",
      "----- + ------ + --------- + --------\n",
      "SoRec | 0.6470 |    0.8294 |   0.0793\n",
      "PMF   | 0.6862 |    0.5972 |   0.0873\n",
      "\n"
     ]
    },
    {
     "name": "stderr",
     "output_type": "stream",
     "text": [
      "\n"
     ]
    }
   ],
   "source": [
    "K = 20\n",
    "sorec = SoRec(k=K, max_iter=50, learning_rate=0.001, verbose=VERBOSE, seed=SEED)\n",
    "pmf = PMF(k=K, max_iter=50, learning_rate=0.001, lambda_reg=0.01, verbose=VERBOSE, seed=SEED)\n",
    "\n",
    "ratings = filmtrust.load_feedback()\n",
    "trust = filmtrust.load_trust()\n",
    "\n",
    "user_graph_modality = GraphModality(data=trust)\n",
    "\n",
    "ratio_split = RatioSplit(\n",
    "    data=ratings,\n",
    "    test_size=0.2,\n",
    "    rating_threshold=2.5,\n",
    "    exclude_unknowns=True,\n",
    "    user_graph=user_graph_modality,\n",
    "    verbose=VERBOSE,\n",
    "    seed=SEED,\n",
    ")\n",
    "\n",
    "mae = cornac.metrics.MAE()\n",
    "\n",
    "cornac.Experiment(eval_method=ratio_split, models=[sorec, pmf], metrics=[mae]).run()"
   ]
  },
  {
   "cell_type": "code",
   "execution_count": 12,
   "metadata": {},
   "outputs": [
    {
     "data": {
      "image/png": "[encoded data removed]",
      "text/plain": [
       "<Figure size 1300x500 with 1 Axes>"
      ]
     },
     "metadata": {},
     "output_type": "display_data"
    }
   ],
   "source": [
    "var_df = pd.DataFrame({\"Factor\": np.arange(K), \"Variance\": np.var(sorec.U, axis=0)})\n",
    "fig, ax = plt.subplots(figsize=(13, 5))\n",
    "sns.barplot(x=\"Factor\", y=\"Variance\", data=var_df, ax=ax);"
   ]
  },
  {
   "cell_type": "code",
   "execution_count": 13,
   "metadata": {},
   "outputs": [
    {
     "data": {
      "image/png": "[encoded data removed]",
      "text/plain": [
       "<Figure size 1100x1100 with 1 Axes>"
      ]
     },
     "metadata": {},
     "output_type": "display_data"
    }
   ],
   "source": [
    "TOP2F = (9, 16)\n",
    "SAMPLE_SIZE = 200\n",
    "\n",
    "rng = np.random.RandomState(SEED)\n",
    "sample_inds = rng.choice(np.arange(sorec.U.shape[0]), size=SAMPLE_SIZE, replace=False)\n",
    "sample_df = pd.DataFrame(data=sorec.U[sample_inds][:, TOP2F], columns=[\"x\", \"y\"])\n",
    "g = sns.lmplot(x=\"x\", y=\"y\", data=sample_df, height=11.0, fit_reg=False)\n",
    "g.ax.set_title(\"Users in latent space with their social connections\", fontsize=16)\n",
    "\n",
    "adj_mat = sorec.train_set.user_graph.matrix\n",
    "for i in range(len(sample_inds)):\n",
    "  for j in range(len(sample_inds)):\n",
    "    if j != i and adj_mat[sample_inds[i], sample_inds[j]]:\n",
    "      sns.lineplot(x=\"x\", y=\"y\", data=sample_df.loc[[i, j]])"
   ]
  },
  {
   "cell_type": "markdown",
   "metadata": {},
   "source": [
    "# 3. TextModality"
   ]
  },
  {
   "cell_type": "markdown",
   "metadata": {},
   "source": [
    "## Collaborative Topic Regression (CTR)"
   ]
  },
  {
   "cell_type": "markdown",
   "metadata": {},
   "source": [
    "- CTR 아키텍쳐\n",
    "<img src='image/CTR.png' align=\"left\" width=800/>"
   ]
  },
  {
   "cell_type": "code",
   "execution_count": 14,
   "metadata": {},
   "outputs": [
    {
     "name": "stdout",
     "output_type": "stream",
     "text": [
      "Data from https://static.preferred.ai/cornac/datasets/amazon_clothing/rating.zip\n",
      "will be cached into /Users/kimminsu/.cornac/amazon_clothing/rating.txt\n"
     ]
    },
    {
     "name": "stderr",
     "output_type": "stream",
     "text": [
      "164kB [00:00, 783kB/s]                             \n"
     ]
    },
    {
     "name": "stdout",
     "output_type": "stream",
     "text": [
      "Unzipping ...\n",
      "File cached!\n",
      "Data from https://static.preferred.ai/cornac/datasets/amazon_clothing/text.zip\n",
      "will be cached into /Users/kimminsu/.cornac/amazon_clothing/text.txt\n"
     ]
    },
    {
     "name": "stderr",
     "output_type": "stream",
     "text": [
      "475kB [00:00, 1.59MB/s]                            \n"
     ]
    },
    {
     "name": "stdout",
     "output_type": "stream",
     "text": [
      "Unzipping ...\n",
      "File cached!\n",
      "rating_threshold = 4.0\n",
      "exclude_unknowns = True\n",
      "---\n",
      "Training data:\n",
      "Number of users = 5066\n",
      "Number of items = 3333\n",
      "Number of ratings = 10951\n",
      "Max rating = 5.0\n",
      "Min rating = 1.0\n",
      "Global mean = 4.4\n",
      "---\n",
      "Test data:\n",
      "Number of users = 5066\n",
      "Number of items = 3333\n",
      "Number of ratings = 2192\n",
      "Number of unknown users = 0\n",
      "Number of unknown items = 0\n",
      "---\n",
      "Total users = 5066\n",
      "Total items = 3333\n",
      "\n",
      "[CTR] Training started!\n"
     ]
    },
    {
     "name": "stderr",
     "output_type": "stream",
     "text": [
      "100%|██████████| 50/50 [00:49<00:00,  1.01it/s, cf_loss=4.09e+4, lda_likelihood=-1.08e+5]\n"
     ]
    },
    {
     "name": "stdout",
     "output_type": "stream",
     "text": [
      "Learning completed!\n",
      "\n",
      "[CTR] Evaluation started!\n"
     ]
    },
    {
     "name": "stderr",
     "output_type": "stream",
     "text": [
      "Ranking: 100%|██████████| 1823/1823 [00:00<00:00, 3660.49it/s]\n"
     ]
    },
    {
     "name": "stdout",
     "output_type": "stream",
     "text": [
      "\n",
      "[WMF] Training started!\n"
     ]
    },
    {
     "name": "stderr",
     "output_type": "stream",
     "text": [
      "100%|██████████| 50/50 [00:06<00:00,  8.20it/s, loss=26.3]\n"
     ]
    },
    {
     "name": "stdout",
     "output_type": "stream",
     "text": [
      "Learning completed!\n",
      "\n",
      "[WMF] Evaluation started!\n"
     ]
    },
    {
     "name": "stderr",
     "output_type": "stream",
     "text": [
      "Ranking: 100%|██████████| 1823/1823 [00:00<00:00, 3205.07it/s]"
     ]
    },
    {
     "name": "stdout",
     "output_type": "stream",
     "text": [
      "\n",
      "TEST:\n",
      "...\n",
      "    | Recall@50 | Train (s) | Test (s)\n",
      "--- + --------- + --------- + --------\n",
      "CTR |    0.2297 |   49.6122 |   0.5001\n",
      "WMF |    0.1720 |    6.2956 |   0.5709\n",
      "\n"
     ]
    },
    {
     "name": "stderr",
     "output_type": "stream",
     "text": [
      "\n"
     ]
    }
   ],
   "source": [
    "K = 20\n",
    "ctr = CTR(k=K, max_iter=50, a=1.0, b=0.01, lambda_u=0.01, lambda_v=0.01, verbose=VERBOSE, seed=SEED)\n",
    "wmf = WMF(k=K, max_iter=50, a=1.0, b=0.01, learning_rate=0.005, lambda_u=0.01, lambda_v=0.01, \n",
    "          verbose=VERBOSE, seed=SEED)\n",
    "\n",
    "ratings = amazon_clothing.load_feedback()\n",
    "docs, item_ids = amazon_clothing.load_text()\n",
    "\n",
    "item_text_modality = TextModality(\n",
    "    corpus=docs,\n",
    "    ids=item_ids,\n",
    "    tokenizer=BaseTokenizer(sep=\" \", stop_words=\"english\"),\n",
    "    max_vocab=8000,\n",
    "    max_doc_freq=0.5,\n",
    ")\n",
    "\n",
    "ratio_split = RatioSplit(\n",
    "    data=ratings,\n",
    "    test_size=0.2,\n",
    "    rating_threshold=4.0,\n",
    "    exclude_unknowns=True,\n",
    "    item_text=item_text_modality,\n",
    "    verbose=VERBOSE,\n",
    "    seed=SEED,\n",
    ")\n",
    "\n",
    "rec_50 = cornac.metrics.Recall(50)\n",
    "\n",
    "cornac.Experiment(eval_method=ratio_split, models=[ctr, wmf], metrics=[rec_50]).run()"
   ]
  },
  {
   "cell_type": "code",
   "execution_count": 15,
   "metadata": {},
   "outputs": [
    {
     "name": "stdout",
     "output_type": "stream",
     "text": [
      "WORD TOPICS:\n"
     ]
    },
    {
     "data": {
      "text/html": [
       "<div>\n",
       "<style scoped>\n",
       "    .dataframe tbody tr th:only-of-type {\n",
       "        vertical-align: middle;\n",
       "    }\n",
       "\n",
       "    .dataframe tbody tr th {\n",
       "        vertical-align: top;\n",
       "    }\n",
       "\n",
       "    .dataframe thead th {\n",
       "        text-align: right;\n",
       "    }\n",
       "</style>\n",
       "<table border=\"1\" class=\"dataframe\">\n",
       "  <thead>\n",
       "    <tr style=\"text-align: right;\">\n",
       "      <th></th>\n",
       "      <th>Topic</th>\n",
       "      <th>Top words</th>\n",
       "    </tr>\n",
       "  </thead>\n",
       "  <tbody>\n",
       "    <tr>\n",
       "      <th>0</th>\n",
       "      <td>1</td>\n",
       "      <td>x, company, display, motion, growth, allow, fe...</td>\n",
       "    </tr>\n",
       "    <tr>\n",
       "      <th>1</th>\n",
       "      <td>2</td>\n",
       "      <td>earrings, easily, style, helps, steel, sweat, ...</td>\n",
       "    </tr>\n",
       "    <tr>\n",
       "      <th>2</th>\n",
       "      <td>3</td>\n",
       "      <td>high, fit, cold, inches, waterproof, womens, l...</td>\n",
       "    </tr>\n",
       "    <tr>\n",
       "      <th>3</th>\n",
       "      <td>4</td>\n",
       "      <td>plus, perfect, innovative, fabric, team, shirt...</td>\n",
       "    </tr>\n",
       "    <tr>\n",
       "      <th>4</th>\n",
       "      <td>5</td>\n",
       "      <td>shoulder, use, jacket, heat, short, rubies, ho...</td>\n",
       "    </tr>\n",
       "    <tr>\n",
       "      <th>5</th>\n",
       "      <td>6</td>\n",
       "      <td>feature, little, hat, performance, s, zipper, ...</td>\n",
       "    </tr>\n",
       "    <tr>\n",
       "      <th>6</th>\n",
       "      <td>7</td>\n",
       "      <td>weight, hood, new, comfort, beautiful, large, ...</td>\n",
       "    </tr>\n",
       "    <tr>\n",
       "      <th>7</th>\n",
       "      <td>8</td>\n",
       "      <td>warm, fabric, protect, halloween, inches, idea...</td>\n",
       "    </tr>\n",
       "    <tr>\n",
       "      <th>8</th>\n",
       "      <td>9</td>\n",
       "      <td>size, color, day, comfortable, shoes, perfect,...</td>\n",
       "    </tr>\n",
       "    <tr>\n",
       "      <th>9</th>\n",
       "      <td>10</td>\n",
       "      <td>material, costume, air, designed, transport, c...</td>\n",
       "    </tr>\n",
       "    <tr>\n",
       "      <th>10</th>\n",
       "      <td>11</td>\n",
       "      <td>size, construction, x, s, hand, support, like,...</td>\n",
       "    </tr>\n",
       "    <tr>\n",
       "      <th>11</th>\n",
       "      <td>12</td>\n",
       "      <td>moisture, sports, classic, product, warmth, ge...</td>\n",
       "    </tr>\n",
       "    <tr>\n",
       "      <th>12</th>\n",
       "      <td>13</td>\n",
       "      <td>panel, comfortable, band, superior, sizes, rem...</td>\n",
       "    </tr>\n",
       "    <tr>\n",
       "      <th>13</th>\n",
       "      <td>14</td>\n",
       "      <td>prevents, mens, x, provide, perfect, organizer...</td>\n",
       "    </tr>\n",
       "    <tr>\n",
       "      <th>14</th>\n",
       "      <td>15</td>\n",
       "      <td>just, sock, provides, want, ultimate, travel, ...</td>\n",
       "    </tr>\n",
       "    <tr>\n",
       "      <th>15</th>\n",
       "      <td>16</td>\n",
       "      <td>fit, fun, foot, used, items, cotton, pant, smo...</td>\n",
       "    </tr>\n",
       "    <tr>\n",
       "      <th>16</th>\n",
       "      <td>17</td>\n",
       "      <td>nylon, signature, merino, storage, approximate...</td>\n",
       "    </tr>\n",
       "    <tr>\n",
       "      <th>17</th>\n",
       "      <td>18</td>\n",
       "      <td>body, accessories, gift, x, oz, bag, water, cl...</td>\n",
       "    </tr>\n",
       "    <tr>\n",
       "      <th>18</th>\n",
       "      <td>19</td>\n",
       "      <td>costume, new, seams, layer, stretch, years, sk...</td>\n",
       "    </tr>\n",
       "    <tr>\n",
       "      <th>19</th>\n",
       "      <td>20</td>\n",
       "      <td>great, black, easy, away, includes, dry, pocke...</td>\n",
       "    </tr>\n",
       "  </tbody>\n",
       "</table>\n",
       "</div>"
      ],
      "text/plain": [
       "    Topic                                          Top words\n",
       "0       1  x, company, display, motion, growth, allow, fe...\n",
       "1       2  earrings, easily, style, helps, steel, sweat, ...\n",
       "2       3  high, fit, cold, inches, waterproof, womens, l...\n",
       "3       4  plus, perfect, innovative, fabric, team, shirt...\n",
       "4       5  shoulder, use, jacket, heat, short, rubies, ho...\n",
       "5       6  feature, little, hat, performance, s, zipper, ...\n",
       "6       7  weight, hood, new, comfort, beautiful, large, ...\n",
       "7       8  warm, fabric, protect, halloween, inches, idea...\n",
       "8       9  size, color, day, comfortable, shoes, perfect,...\n",
       "9      10  material, costume, air, designed, transport, c...\n",
       "10     11  size, construction, x, s, hand, support, like,...\n",
       "11     12  moisture, sports, classic, product, warmth, ge...\n",
       "12     13  panel, comfortable, band, superior, sizes, rem...\n",
       "13     14  prevents, mens, x, provide, perfect, organizer...\n",
       "14     15  just, sock, provides, want, ultimate, travel, ...\n",
       "15     16  fit, fun, foot, used, items, cotton, pant, smo...\n",
       "16     17  nylon, signature, merino, storage, approximate...\n",
       "17     18  body, accessories, gift, x, oz, bag, water, cl...\n",
       "18     19  costume, new, seams, layer, stretch, years, sk...\n",
       "19     20  great, black, easy, away, includes, dry, pocke..."
      ]
     },
     "execution_count": 15,
     "metadata": {},
     "output_type": "execute_result"
    }
   ],
   "source": [
    "vocab = ctr.train_set.item_text.vocab\n",
    "topic_word_dist = ctr.model.beta.T[:, -ctr.train_set.item_text.max_vocab:] \n",
    "top_word_inds = np.argsort(topic_word_dist, axis=1) + 4  # ingore 4 special tokens\n",
    "\n",
    "topic_words = {}\n",
    "topic_df = defaultdict(list)\n",
    "print(\"WORD TOPICS:\")\n",
    "for t in range(len(topic_word_dist)):\n",
    "  top_words = vocab.to_text(top_word_inds[t][-10:][::-1], sep=\", \")\n",
    "  topic_words[t+1] = top_words\n",
    "  topic_df[\"Topic\"].append(t + 1)\n",
    "  topic_df[\"Top words\"].append(top_words)\n",
    "topic_df = pd.DataFrame(topic_df)\n",
    "topic_df"
   ]
  },
  {
   "cell_type": "code",
   "execution_count": 16,
   "metadata": {},
   "outputs": [
    {
     "name": "stdout",
     "output_type": "stream",
     "text": [
      "USER 123 TOP-3 TOPICS:\n"
     ]
    },
    {
     "data": {
      "text/html": [
       "<div>\n",
       "<style scoped>\n",
       "    .dataframe tbody tr th:only-of-type {\n",
       "        vertical-align: middle;\n",
       "    }\n",
       "\n",
       "    .dataframe tbody tr th {\n",
       "        vertical-align: top;\n",
       "    }\n",
       "\n",
       "    .dataframe thead th {\n",
       "        text-align: right;\n",
       "    }\n",
       "</style>\n",
       "<table border=\"1\" class=\"dataframe\">\n",
       "  <thead>\n",
       "    <tr style=\"text-align: right;\">\n",
       "      <th></th>\n",
       "      <th>Topic</th>\n",
       "      <th>Top words</th>\n",
       "    </tr>\n",
       "  </thead>\n",
       "  <tbody>\n",
       "    <tr>\n",
       "      <th>6</th>\n",
       "      <td>7</td>\n",
       "      <td>weight, hood, new, comfort, beautiful, large, ...</td>\n",
       "    </tr>\n",
       "    <tr>\n",
       "      <th>15</th>\n",
       "      <td>16</td>\n",
       "      <td>fit, fun, foot, used, items, cotton, pant, smo...</td>\n",
       "    </tr>\n",
       "    <tr>\n",
       "      <th>4</th>\n",
       "      <td>5</td>\n",
       "      <td>shoulder, use, jacket, heat, short, rubies, ho...</td>\n",
       "    </tr>\n",
       "  </tbody>\n",
       "</table>\n",
       "</div>"
      ],
      "text/plain": [
       "    Topic                                          Top words\n",
       "6       7  weight, hood, new, comfort, beautiful, large, ...\n",
       "15     16  fit, fun, foot, used, items, cotton, pant, smo...\n",
       "4       5  shoulder, use, jacket, heat, short, rubies, ho..."
      ]
     },
     "execution_count": 16,
     "metadata": {},
     "output_type": "execute_result"
    }
   ],
   "source": [
    "UIDX = 123\n",
    "TOPK = 5\n",
    "item_id2idx = ctr.train_set.iid_map\n",
    "item_idx2id = list(ctr.train_set.item_ids)\n",
    "print(f\"USER {UIDX} TOP-3 TOPICS:\")\n",
    "topic_df.loc[np.argsort(ctr.U[UIDX])[-3:][::-1]]"
   ]
  },
  {
   "cell_type": "code",
   "execution_count": 17,
   "metadata": {},
   "outputs": [
    {
     "name": "stdout",
     "output_type": "stream",
     "text": [
      "\n",
      "TOP 5 RECOMMENDATIONS FOR USER 123:\n"
     ]
    },
    {
     "data": {
      "text/html": [
       "<div>\n",
       "<style scoped>\n",
       "    .dataframe tbody tr th:only-of-type {\n",
       "        vertical-align: middle;\n",
       "    }\n",
       "\n",
       "    .dataframe tbody tr th {\n",
       "        vertical-align: top;\n",
       "    }\n",
       "\n",
       "    .dataframe thead th {\n",
       "        text-align: right;\n",
       "    }\n",
       "</style>\n",
       "<table border=\"1\" class=\"dataframe\">\n",
       "  <thead>\n",
       "    <tr style=\"text-align: right;\">\n",
       "      <th></th>\n",
       "      <th>URL</th>\n",
       "      <th>Description</th>\n",
       "    </tr>\n",
       "  </thead>\n",
       "  <tbody>\n",
       "    <tr>\n",
       "      <th>0</th>\n",
       "      <td>https://www.amazon.com/dp/B001BBN2X4</td>\n",
       "      <td>Pink Felt Tiara Cowboy or Cowgirl Hat is adorn...</td>\n",
       "    </tr>\n",
       "    <tr>\n",
       "      <th>1</th>\n",
       "      <td>https://www.amazon.com/dp/B001DKDAVW</td>\n",
       "      <td>Clean your fine jewelry, eyeglasses, dentures,...</td>\n",
       "    </tr>\n",
       "    <tr>\n",
       "      <th>2</th>\n",
       "      <td>https://www.amazon.com/dp/B00064V6LM</td>\n",
       "      <td>Child Padded Bike Shorts are Very High Quality...</td>\n",
       "    </tr>\n",
       "    <tr>\n",
       "      <th>3</th>\n",
       "      <td>https://www.amazon.com/dp/B007DLVLAW</td>\n",
       "      <td>Patented elastic shoelace and fastening system...</td>\n",
       "    </tr>\n",
       "    <tr>\n",
       "      <th>4</th>\n",
       "      <td>https://www.amazon.com/dp/B003VY9BK2</td>\n",
       "      <td>Beautiful color Egyptian belly dancing hip wra...</td>\n",
       "    </tr>\n",
       "  </tbody>\n",
       "</table>\n",
       "</div>"
      ],
      "text/plain": [
       "                                    URL  \\\n",
       "0  https://www.amazon.com/dp/B001BBN2X4   \n",
       "1  https://www.amazon.com/dp/B001DKDAVW   \n",
       "2  https://www.amazon.com/dp/B00064V6LM   \n",
       "3  https://www.amazon.com/dp/B007DLVLAW   \n",
       "4  https://www.amazon.com/dp/B003VY9BK2   \n",
       "\n",
       "                                         Description  \n",
       "0  Pink Felt Tiara Cowboy or Cowgirl Hat is adorn...  \n",
       "1  Clean your fine jewelry, eyeglasses, dentures,...  \n",
       "2  Child Padded Bike Shorts are Very High Quality...  \n",
       "3  Patented elastic shoelace and fastening system...  \n",
       "4  Beautiful color Egyptian belly dancing hip wra...  "
      ]
     },
     "execution_count": 17,
     "metadata": {},
     "output_type": "execute_result"
    }
   ],
   "source": [
    "recommendations, scores = ctr.rank(UIDX)\n",
    "print(f\"\\nTOP {TOPK} RECOMMENDATIONS FOR USER {UIDX}:\")\n",
    "rec_df = defaultdict(list)\n",
    "for i in recommendations[:TOPK]:\n",
    "  rec_df[\"URL\"].append(f\"https://www.amazon.com/dp/{item_idx2id[i]}\")\n",
    "  rec_df[\"Description\"].append(ctr.train_set.item_text.corpus[i])\n",
    "pd.DataFrame(rec_df)"
   ]
  },
  {
   "cell_type": "markdown",
   "metadata": {},
   "source": [
    "# 4. ImageModality"
   ]
  },
  {
   "cell_type": "markdown",
   "metadata": {},
   "source": [
    "## Visual Bayesian Personalized Ranking (VBPR)"
   ]
  },
  {
   "cell_type": "code",
   "execution_count": 19,
   "metadata": {},
   "outputs": [
    {
     "name": "stdout",
     "output_type": "stream",
     "text": [
      "Collecting torch\n",
      "  Downloading torch-2.4.1-cp38-none-macosx_11_0_arm64.whl.metadata (26 kB)\n",
      "Collecting torchvision\n",
      "  Downloading torchvision-0.19.1-cp38-cp38-macosx_11_0_arm64.whl.metadata (6.0 kB)\n",
      "Collecting torchaudio\n",
      "  Downloading torchaudio-2.4.1-cp38-cp38-macosx_11_0_arm64.whl.metadata (6.4 kB)\n",
      "Collecting filelock (from torch)\n",
      "  Using cached filelock-3.16.1-py3-none-any.whl.metadata (2.9 kB)\n",
      "Collecting typing-extensions>=4.8.0 (from torch)\n",
      "  Using cached typing_extensions-4.12.2-py3-none-any.whl.metadata (3.0 kB)\n",
      "Collecting sympy (from torch)\n",
      "  Downloading sympy-1.13.3-py3-none-any.whl.metadata (12 kB)\n",
      "Collecting networkx (from torch)\n",
      "  Downloading networkx-3.1-py3-none-any.whl.metadata (5.3 kB)\n",
      "Collecting jinja2 (from torch)\n",
      "  Using cached jinja2-3.1.4-py3-none-any.whl.metadata (2.6 kB)\n",
      "Collecting fsspec (from torch)\n",
      "  Using cached fsspec-2024.10.0-py3-none-any.whl.metadata (11 kB)\n",
      "Requirement already satisfied: numpy in /Users/kimminsu/miniconda3/envs/myenv/lib/python3.8/site-packages (from torchvision) (1.24.3)\n",
      "Requirement already satisfied: pillow!=8.3.*,>=5.3.0 in /Users/kimminsu/miniconda3/envs/myenv/lib/python3.8/site-packages (from torchvision) (10.4.0)\n",
      "Requirement already satisfied: MarkupSafe>=2.0 in /Users/kimminsu/miniconda3/envs/myenv/lib/python3.8/site-packages (from jinja2->torch) (2.1.5)\n",
      "Requirement already satisfied: mpmath<1.4,>=1.1.0 in /Users/kimminsu/miniconda3/envs/myenv/lib/python3.8/site-packages (from sympy->torch) (1.3.0)\n",
      "Downloading torch-2.4.1-cp38-none-macosx_11_0_arm64.whl (62.1 MB)\n",
      "\u001b[2K   \u001b[90m━━━━━━━━━━━━━━━━━━━━━━━━━━━━━━━━━━━━━━━━\u001b[0m \u001b[32m62.1/62.1 MB\u001b[0m \u001b[31m2.4 MB/s\u001b[0m eta \u001b[36m0:00:00\u001b[0m00:01\u001b[0m00:01\u001b[0m\n",
      "\u001b[?25hDownloading torchvision-0.19.1-cp38-cp38-macosx_11_0_arm64.whl (1.7 MB)\n",
      "\u001b[2K   \u001b[90m━━━━━━━━━━━━━━━━━━━━━━━━━━━━━━━━━━━━━━━━\u001b[0m \u001b[32m1.7/1.7 MB\u001b[0m \u001b[31m2.8 MB/s\u001b[0m eta \u001b[36m0:00:00\u001b[0ma \u001b[36m0:00:01\u001b[0m\n",
      "\u001b[?25hDownloading torchaudio-2.4.1-cp38-cp38-macosx_11_0_arm64.whl (1.8 MB)\n",
      "\u001b[2K   \u001b[90m━━━━━━━━━━━━━━━━━━━━━━━━━━━━━━━━━━━━━━━━\u001b[0m \u001b[32m1.8/1.8 MB\u001b[0m \u001b[31m2.4 MB/s\u001b[0m eta \u001b[36m0:00:00\u001b[0ma \u001b[36m0:00:01\u001b[0m\n",
      "\u001b[?25hUsing cached typing_extensions-4.12.2-py3-none-any.whl (37 kB)\n",
      "Using cached filelock-3.16.1-py3-none-any.whl (16 kB)\n",
      "Using cached fsspec-2024.10.0-py3-none-any.whl (179 kB)\n",
      "Using cached jinja2-3.1.4-py3-none-any.whl (133 kB)\n",
      "Downloading networkx-3.1-py3-none-any.whl (2.1 MB)\n",
      "\u001b[2K   \u001b[90m━━━━━━━━━━━━━━━━━━━━━━━━━━━━━━━━━━━━━━━━\u001b[0m \u001b[32m2.1/2.1 MB\u001b[0m \u001b[31m2.3 MB/s\u001b[0m eta \u001b[36m0:00:00\u001b[0ma \u001b[36m0:00:01\u001b[0m\n",
      "\u001b[?25hDownloading sympy-1.13.3-py3-none-any.whl (6.2 MB)\n",
      "\u001b[2K   \u001b[90m━━━━━━━━━━━━━━━━━━━━━━━━━━━━━━━━━━━━━━━━\u001b[0m \u001b[32m6.2/6.2 MB\u001b[0m \u001b[31m2.4 MB/s\u001b[0m eta \u001b[36m0:00:00\u001b[0ma \u001b[36m0:00:01\u001b[0m\n",
      "\u001b[?25hInstalling collected packages: typing-extensions, sympy, networkx, jinja2, fsspec, filelock, torch, torchvision, torchaudio\n",
      "  Attempting uninstall: typing-extensions\n",
      "    Found existing installation: typing_extensions 4.5.0\n",
      "    Uninstalling typing_extensions-4.5.0:\n",
      "      Successfully uninstalled typing_extensions-4.5.0\n",
      "\u001b[31mERROR: pip's dependency resolver does not currently take into account all the packages that are installed. This behaviour is the source of the following dependency conflicts.\n",
      "tensorflow-macos 2.13.0 requires typing-extensions<4.6.0,>=3.6.6, but you have typing-extensions 4.12.2 which is incompatible.\u001b[0m\u001b[31m\n",
      "\u001b[0mSuccessfully installed filelock-3.16.1 fsspec-2024.10.0 jinja2-3.1.4 networkx-3.1 sympy-1.13.3 torch-2.4.1 torchaudio-2.4.1 torchvision-0.19.1 typing-extensions-4.12.2\n"
     ]
    }
   ],
   "source": [
    "!pip install torch torchvision torchaudio"
   ]
  },
  {
   "cell_type": "markdown",
   "metadata": {},
   "source": [
    "- VBPR 아키텍쳐\n",
    "<img src='image/VBPR.png' align=\"left\" width=800/>"
   ]
  },
  {
   "cell_type": "code",
   "execution_count": 20,
   "metadata": {},
   "outputs": [
    {
     "name": "stdout",
     "output_type": "stream",
     "text": [
      "rating_threshold = 4.0\n",
      "exclude_unknowns = True\n",
      "---\n",
      "Training data:\n",
      "Number of users = 5066\n",
      "Number of items = 3333\n",
      "Number of ratings = 10951\n",
      "Max rating = 5.0\n",
      "Min rating = 1.0\n",
      "Global mean = 4.4\n",
      "---\n",
      "Test data:\n",
      "Number of users = 5066\n",
      "Number of items = 3333\n",
      "Number of ratings = 2192\n",
      "Number of unknown users = 0\n",
      "Number of unknown items = 0\n",
      "---\n",
      "Total users = 5066\n",
      "Total items = 3333\n",
      "\n",
      "[VBPR] Training started!\n"
     ]
    },
    {
     "name": "stderr",
     "output_type": "stream",
     "text": [
      "Epoch 1/50: 100%|██████████| 110/110 [00:00<00:00, 219.84it/s, loss=68.7]\n",
      "Epoch 2/50: 100%|██████████| 110/110 [00:00<00:00, 277.40it/s, loss=65] \n",
      "Epoch 3/50: 100%|██████████| 110/110 [00:00<00:00, 213.85it/s, loss=57] \n",
      "Epoch 4/50: 100%|██████████| 110/110 [00:00<00:00, 301.82it/s, loss=48] \n",
      "Epoch 5/50: 100%|██████████| 110/110 [00:00<00:00, 211.44it/s, loss=41.5]\n",
      "Epoch 6/50: 100%|██████████| 110/110 [00:00<00:00, 208.71it/s, loss=36.7]\n",
      "Epoch 7/50: 100%|██████████| 110/110 [00:00<00:00, 303.34it/s, loss=32] \n",
      "Epoch 8/50: 100%|██████████| 110/110 [00:00<00:00, 234.94it/s, loss=28.6]\n",
      "Epoch 9/50: 100%|██████████| 110/110 [00:00<00:00, 128.33it/s, loss=25.8]\n",
      "Epoch 10/50: 100%|██████████| 110/110 [00:00<00:00, 123.58it/s, loss=23.3]\n",
      "Epoch 11/50: 100%|██████████| 110/110 [00:00<00:00, 118.00it/s, loss=21.7]\n",
      "Epoch 12/50: 100%|██████████| 110/110 [00:00<00:00, 139.64it/s, loss=20.2]\n",
      "Epoch 13/50: 100%|██████████| 110/110 [00:00<00:00, 144.71it/s, loss=18.8]\n",
      "Epoch 14/50: 100%|██████████| 110/110 [00:00<00:00, 191.94it/s, loss=17.8]\n",
      "Epoch 15/50: 100%|██████████| 110/110 [00:00<00:00, 216.67it/s, loss=16.1]\n",
      "Epoch 16/50: 100%|██████████| 110/110 [00:00<00:00, 151.64it/s, loss=15.2]\n",
      "Epoch 17/50: 100%|██████████| 110/110 [00:00<00:00, 228.98it/s, loss=14.2]\n",
      "Epoch 18/50: 100%|██████████| 110/110 [00:00<00:00, 207.47it/s, loss=13.7]\n",
      "Epoch 19/50: 100%|██████████| 110/110 [00:00<00:00, 311.00it/s, loss=13.3]\n",
      "Epoch 20/50: 100%|██████████| 110/110 [00:00<00:00, 162.18it/s, loss=12.6]\n",
      "Epoch 21/50: 100%|██████████| 110/110 [00:00<00:00, 233.77it/s, loss=11.8]\n",
      "Epoch 22/50: 100%|██████████| 110/110 [00:00<00:00, 190.96it/s, loss=11.8]\n",
      "Epoch 23/50: 100%|██████████| 110/110 [00:00<00:00, 155.53it/s, loss=10.9]\n",
      "Epoch 24/50: 100%|██████████| 110/110 [00:00<00:00, 222.25it/s, loss=10.5]\n",
      "Epoch 25/50: 100%|██████████| 110/110 [00:00<00:00, 180.55it/s, loss=9.95]\n",
      "Epoch 26/50: 100%|██████████| 110/110 [00:00<00:00, 190.92it/s, loss=9.62]\n",
      "Epoch 27/50: 100%|██████████| 110/110 [00:00<00:00, 142.98it/s, loss=9.26]\n",
      "Epoch 28/50: 100%|██████████| 110/110 [00:00<00:00, 189.52it/s, loss=8.54]\n",
      "Epoch 29/50: 100%|██████████| 110/110 [00:00<00:00, 214.64it/s, loss=8.54]\n",
      "Epoch 30/50: 100%|██████████| 110/110 [00:00<00:00, 231.08it/s, loss=8.65]\n",
      "Epoch 31/50: 100%|██████████| 110/110 [00:00<00:00, 214.81it/s, loss=8.21]\n",
      "Epoch 32/50: 100%|██████████| 110/110 [00:00<00:00, 259.94it/s, loss=8.18]\n",
      "Epoch 33/50: 100%|██████████| 110/110 [00:00<00:00, 341.97it/s, loss=8.04]\n",
      "Epoch 34/50: 100%|██████████| 110/110 [00:00<00:00, 342.47it/s, loss=7.77]\n",
      "Epoch 35/50: 100%|██████████| 110/110 [00:00<00:00, 184.78it/s, loss=7.16]\n",
      "Epoch 36/50: 100%|██████████| 110/110 [00:00<00:00, 341.49it/s, loss=6.86]\n",
      "Epoch 37/50: 100%|██████████| 110/110 [00:00<00:00, 216.21it/s, loss=7.11]\n",
      "Epoch 38/50: 100%|██████████| 110/110 [00:00<00:00, 222.93it/s, loss=6.58]\n",
      "Epoch 39/50: 100%|██████████| 110/110 [00:00<00:00, 153.66it/s, loss=6.46]\n",
      "Epoch 40/50: 100%|██████████| 110/110 [00:00<00:00, 297.47it/s, loss=6.38]\n",
      "Epoch 41/50: 100%|██████████| 110/110 [00:00<00:00, 305.37it/s, loss=6.32]\n",
      "Epoch 42/50: 100%|██████████| 110/110 [00:00<00:00, 351.52it/s, loss=6.24]\n",
      "Epoch 43/50: 100%|██████████| 110/110 [00:00<00:00, 375.46it/s, loss=6.11]\n",
      "Epoch 44/50: 100%|██████████| 110/110 [00:00<00:00, 391.15it/s, loss=6.2]\n",
      "Epoch 45/50: 100%|██████████| 110/110 [00:00<00:00, 398.65it/s, loss=6.01]\n",
      "Epoch 46/50: 100%|██████████| 110/110 [00:00<00:00, 383.43it/s, loss=5.74]\n",
      "Epoch 47/50: 100%|██████████| 110/110 [00:00<00:00, 382.57it/s, loss=5.7]\n",
      "Epoch 48/50: 100%|██████████| 110/110 [00:00<00:00, 337.06it/s, loss=5.14]\n",
      "Epoch 49/50: 100%|██████████| 110/110 [00:00<00:00, 386.69it/s, loss=5.35]\n",
      "Epoch 50/50: 100%|██████████| 110/110 [00:00<00:00, 383.48it/s, loss=5.35]\n"
     ]
    },
    {
     "name": "stdout",
     "output_type": "stream",
     "text": [
      "Optimization finished!\n",
      "\n",
      "[VBPR] Evaluation started!\n"
     ]
    },
    {
     "name": "stderr",
     "output_type": "stream",
     "text": [
      "Ranking: 100%|██████████| 1823/1823 [00:01<00:00, 1621.43it/s]\n"
     ]
    },
    {
     "name": "stdout",
     "output_type": "stream",
     "text": [
      "\n",
      "[BPR] Training started!\n"
     ]
    },
    {
     "name": "stderr",
     "output_type": "stream",
     "text": [
      "100%|██████████| 50/50 [00:00<00:00, 1316.45it/s, correct=70.33%, skipped=0.05%]\n"
     ]
    },
    {
     "name": "stdout",
     "output_type": "stream",
     "text": [
      "Optimization finished!\n",
      "\n",
      "[BPR] Evaluation started!\n"
     ]
    },
    {
     "name": "stderr",
     "output_type": "stream",
     "text": [
      "Ranking: 100%|██████████| 1823/1823 [00:00<00:00, 2325.21it/s]"
     ]
    },
    {
     "name": "stdout",
     "output_type": "stream",
     "text": [
      "\n",
      "TEST:\n",
      "...\n",
      "     |    AUC | Train (s) | Test (s)\n",
      "---- + ------ + --------- + --------\n",
      "VBPR | 0.7120 |   29.5659 |   1.1300\n",
      "BPR  | 0.6002 |    0.0451 |   0.7852\n",
      "\n"
     ]
    },
    {
     "name": "stderr",
     "output_type": "stream",
     "text": [
      "\n"
     ]
    }
   ],
   "source": [
    "K = 10\n",
    "vbpr = VBPR(k=K, k2=K, n_epochs=50, batch_size=100, learning_rate=0.001,\n",
    "            lambda_w=1, lambda_b=0.01, lambda_e=0.0, use_gpu=True, verbose=VERBOSE, seed=SEED)\n",
    "bpr = BPR(k=(K * 2), max_iter=50, learning_rate=0.001, lambda_reg=0.001, verbose=VERBOSE, seed=SEED)\n",
    "\n",
    "ratings = amazon_clothing.load_feedback()\n",
    "img_features, item_ids = amazon_clothing.load_visual_feature()\n",
    "\n",
    "item_image_modality = ImageModality(features=img_features, ids=item_ids, normalized=True)\n",
    "\n",
    "ratio_split = RatioSplit(\n",
    "    data=ratings,\n",
    "    test_size=0.2,\n",
    "    rating_threshold=4.0,\n",
    "    exclude_unknowns=True,\n",
    "    item_image=item_image_modality,\n",
    "    verbose=VERBOSE,\n",
    "    seed=SEED,\n",
    ")\n",
    "\n",
    "auc = cornac.metrics.AUC()\n",
    "\n",
    "cornac.Experiment(eval_method=ratio_split, models=[vbpr, bpr], metrics=[auc]).run()"
   ]
  },
  {
   "cell_type": "code",
   "execution_count": 11,
   "metadata": {},
   "outputs": [
    {
     "name": "stdout",
     "output_type": "stream",
     "text": [
      "RATED ITEMS BY USER 111:\n"
     ]
    },
    {
     "data": {
      "text/html": [
       "<div>\n",
       "<style scoped>\n",
       "    .dataframe tbody tr th:only-of-type {\n",
       "        vertical-align: middle;\n",
       "    }\n",
       "\n",
       "    .dataframe tbody tr th {\n",
       "        vertical-align: top;\n",
       "    }\n",
       "\n",
       "    .dataframe thead th {\n",
       "        text-align: right;\n",
       "    }\n",
       "</style>\n",
       "<table border=\"1\" class=\"dataframe\">\n",
       "  <thead>\n",
       "    <tr style=\"text-align: right;\">\n",
       "      <th></th>\n",
       "      <th>URL</th>\n",
       "      <th>Description</th>\n",
       "    </tr>\n",
       "  </thead>\n",
       "  <tbody>\n",
       "    <tr>\n",
       "      <th>0</th>\n",
       "      <td>https://www.amazon.com/dp/B001GR05W4</td>\n",
       "      <td>Childhood Memories Musical Ballerina Jewelry B...</td>\n",
       "    </tr>\n",
       "    <tr>\n",
       "      <th>1</th>\n",
       "      <td>https://www.amazon.com/dp/B001RYA3QY</td>\n",
       "      <td>This 8\"X4\"X4\" Enchantmints Music box is nice a...</td>\n",
       "    </tr>\n",
       "    <tr>\n",
       "      <th>2</th>\n",
       "      <td>https://www.amazon.com/dp/B004A1PW1W</td>\n",
       "      <td>New unicorn check book wallet.</td>\n",
       "    </tr>\n",
       "  </tbody>\n",
       "</table>\n",
       "</div>"
      ],
      "text/plain": [
       "                                    URL  \\\n",
       "0  https://www.amazon.com/dp/B001GR05W4   \n",
       "1  https://www.amazon.com/dp/B001RYA3QY   \n",
       "2  https://www.amazon.com/dp/B004A1PW1W   \n",
       "\n",
       "                                         Description  \n",
       "0  Childhood Memories Musical Ballerina Jewelry B...  \n",
       "1  This 8\"X4\"X4\" Enchantmints Music box is nice a...  \n",
       "2                     New unicorn check book wallet.  "
      ]
     },
     "execution_count": 11,
     "metadata": {},
     "output_type": "execute_result"
    }
   ],
   "source": [
    "UIDX = 111\n",
    "\n",
    "item_id2idx = vbpr.train_set.iid_map\n",
    "item_idx2id = list(vbpr.train_set.item_ids)\n",
    "img_features = vbpr.train_set.item_image.features\n",
    "item_desc = {iid: desc for desc, iid in zip(*amazon_clothing.load_text())}\n",
    "\n",
    "print(f\"RATED ITEMS BY USER {UIDX}:\")\n",
    "rated_items = np.nonzero(vbpr.train_set.matrix[UIDX].A)[1]\n",
    "rated_df = defaultdict(list)\n",
    "for i in rated_items:\n",
    "  rated_df[\"URL\"].append(f\"https://www.amazon.com/dp/{item_idx2id[i]}\")\n",
    "  rated_df[\"Description\"].append(item_desc[item_idx2id[i]])\n",
    "pd.DataFrame(rated_df)"
   ]
  },
  {
   "cell_type": "code",
   "execution_count": 12,
   "metadata": {},
   "outputs": [
    {
     "name": "stdout",
     "output_type": "stream",
     "text": [
      "\n",
      "TOP 5 RECOMMENDATIONS:\n"
     ]
    },
    {
     "data": {
      "text/html": [
       "<div>\n",
       "<style scoped>\n",
       "    .dataframe tbody tr th:only-of-type {\n",
       "        vertical-align: middle;\n",
       "    }\n",
       "\n",
       "    .dataframe tbody tr th {\n",
       "        vertical-align: top;\n",
       "    }\n",
       "\n",
       "    .dataframe thead th {\n",
       "        text-align: right;\n",
       "    }\n",
       "</style>\n",
       "<table border=\"1\" class=\"dataframe\">\n",
       "  <thead>\n",
       "    <tr style=\"text-align: right;\">\n",
       "      <th></th>\n",
       "      <th>URL</th>\n",
       "      <th>Score</th>\n",
       "      <th>CF Contribution</th>\n",
       "      <th>Visual Contribution</th>\n",
       "      <th>Description</th>\n",
       "    </tr>\n",
       "  </thead>\n",
       "  <tbody>\n",
       "    <tr>\n",
       "      <th>0</th>\n",
       "      <td>https://www.amazon.com/dp/B0036FFHBS</td>\n",
       "      <td>7.952936</td>\n",
       "      <td>0.330606</td>\n",
       "      <td>7.622330</td>\n",
       "      <td>this item is for 10 Pcs these assorted colored...</td>\n",
       "    </tr>\n",
       "    <tr>\n",
       "      <th>1</th>\n",
       "      <td>https://www.amazon.com/dp/B000I7ZHO4</td>\n",
       "      <td>7.934871</td>\n",
       "      <td>-0.035678</td>\n",
       "      <td>7.970549</td>\n",
       "      <td>Play music in the tub. Real flutes for the tub...</td>\n",
       "    </tr>\n",
       "    <tr>\n",
       "      <th>2</th>\n",
       "      <td>https://www.amazon.com/dp/B007OSAY2U</td>\n",
       "      <td>7.389404</td>\n",
       "      <td>-0.068125</td>\n",
       "      <td>7.457529</td>\n",
       "      <td>This offer includes 100 pieces HIGH PREMIUM QU...</td>\n",
       "    </tr>\n",
       "    <tr>\n",
       "      <th>3</th>\n",
       "      <td>https://www.amazon.com/dp/B001GR05W4</td>\n",
       "      <td>7.338340</td>\n",
       "      <td>0.621271</td>\n",
       "      <td>6.717068</td>\n",
       "      <td>Childhood Memories Musical Ballerina Jewelry B...</td>\n",
       "    </tr>\n",
       "    <tr>\n",
       "      <th>4</th>\n",
       "      <td>https://www.amazon.com/dp/B0000CNR1L</td>\n",
       "      <td>6.929195</td>\n",
       "      <td>0.229353</td>\n",
       "      <td>6.699842</td>\n",
       "      <td>No more digging around in deep toiletries bags...</td>\n",
       "    </tr>\n",
       "  </tbody>\n",
       "</table>\n",
       "</div>"
      ],
      "text/plain": [
       "                                    URL     Score  CF Contribution  \\\n",
       "0  https://www.amazon.com/dp/B0036FFHBS  7.952936         0.330606   \n",
       "1  https://www.amazon.com/dp/B000I7ZHO4  7.934871        -0.035678   \n",
       "2  https://www.amazon.com/dp/B007OSAY2U  7.389404        -0.068125   \n",
       "3  https://www.amazon.com/dp/B001GR05W4  7.338340         0.621271   \n",
       "4  https://www.amazon.com/dp/B0000CNR1L  6.929195         0.229353   \n",
       "\n",
       "   Visual Contribution                                        Description  \n",
       "0             7.622330  this item is for 10 Pcs these assorted colored...  \n",
       "1             7.970549  Play music in the tub. Real flutes for the tub...  \n",
       "2             7.457529  This offer includes 100 pieces HIGH PREMIUM QU...  \n",
       "3             6.717068  Childhood Memories Musical Ballerina Jewelry B...  \n",
       "4             6.699842  No more digging around in deep toiletries bags...  "
      ]
     },
     "execution_count": 12,
     "metadata": {},
     "output_type": "execute_result"
    }
   ],
   "source": [
    "TOPK = 5\n",
    "\n",
    "recommendations, scores = vbpr.rank(UIDX)\n",
    "\n",
    "print(f\"\\nTOP {TOPK} RECOMMENDATIONS:\")\n",
    "rec_df = defaultdict(list)\n",
    "for i in recommendations[:TOPK]:\n",
    "  cf_contrib = vbpr.beta_item[i] + np.dot(vbpr.gamma_item[i], vbpr.gamma_user[UIDX])\n",
    "  vis_contrib = vbpr.visual_bias[i] + np.dot(vbpr.theta_item[i], vbpr.theta_user[UIDX])\n",
    "  rec_df[\"URL\"].append(f\"https://www.amazon.com/dp/{item_idx2id[i]}\")\n",
    "  rec_df[\"Score\"].append(scores[i])\n",
    "  rec_df[\"CF Contribution\"].append(cf_contrib)\n",
    "  rec_df[\"Visual Contribution\"].append(vis_contrib)\n",
    "  rec_df[\"Description\"].append(item_desc[item_idx2id[i]])\n",
    "pd.DataFrame(rec_df)"
   ]
  }
 ],
 "metadata": {
  "kernelspec": {
   "display_name": "moontorch",
   "language": "python",
   "name": "python3"
  },
  "language_info": {
   "codemirror_mode": {
    "name": "ipython",
    "version": 3
   },
   "file_extension": ".py",
   "mimetype": "text/x-python",
   "name": "python",
   "nbconvert_exporter": "python",
   "pygments_lexer": "ipython3",
   "version": "3.8.20"
  }
 },
 "nbformat": 4,
 "nbformat_minor": 2
}
