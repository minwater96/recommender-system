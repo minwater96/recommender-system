{
 "cells": [
  {
   "cell_type": "code",
   "execution_count": 1,
   "metadata": {},
   "outputs": [
    {
     "name": "stdout",
     "output_type": "stream",
     "text": [
      "System version: 3.8.19 | packaged by conda-forge | (default, Mar 20 2024, 12:49:57) \n",
      "[Clang 16.0.6 ]\n",
      "Cornac version: 2.2.2\n",
      "Tensorflow version: 2.13.0\n"
     ]
    }
   ],
   "source": [
    "import os\n",
    "import sys\n",
    "from collections import defaultdict\n",
    "\n",
    "import numpy as np\n",
    "import pandas as pd\n",
    "import matplotlib.pyplot as plt\n",
    "import seaborn as sns\n",
    "\n",
    "import cornac\n",
    "from cornac.utils import cache\n",
    "from cornac.datasets import filmtrust, amazon_clothing\n",
    "from cornac.eval_methods import RatioSplit\n",
    "from cornac.models import PMF, SoRec, WMF, CTR, BPR, VBPR\n",
    "from cornac.data import GraphModality, TextModality, ImageModality\n",
    "from cornac.data.text import BaseTokenizer\n",
    "\n",
    "import tensorflow as tf\n",
    "print(f\"System version: {sys.version}\")\n",
    "print(f\"Cornac version: {cornac.__version__}\")\n",
    "print(f\"Tensorflow version: {tf.__version__}\")\n",
    "\n",
    "SEED = 1234\n",
    "VERBOSE = True"
   ]
  },
  {
   "cell_type": "markdown",
   "metadata": {},
   "source": [
    "## 1. Feature Modality"
   ]
  },
  {
   "cell_type": "code",
   "execution_count": 2,
   "metadata": {},
   "outputs": [],
   "source": [
    "# user_features, item_features = pd.read_pickle('features.pkl')\n",
    "\n",
    "# from cornac.data import FeatureModality\n",
    "\n",
    "# # FeatureModality를 사용하여 사용자와 아이템의 feature를 정의합니다.\n",
    "# user_feature_modality = FeatureModality(features=user_features, ids=None, normalize=False)\n",
    "# item_feature_modality = FeatureModality(features=item_features, ids=None, normalize=False)\n",
    "\n",
    "# # 평가방법 설정\n",
    "# eval_method = BaseMethod.from_splits(\n",
    "#     train_data=np.array(train), \n",
    "#     test_data=np.array(test), \n",
    "#     user_features=user_feature_modality, item_features=item_feature_modality,\n",
    "#     exclude_unknowns=True,  # Unknown users and items will be ignored.\n",
    "#     verbose=True\n",
    "# )"
   ]
  },
  {
   "cell_type": "markdown",
   "metadata": {},
   "source": [
    "# 2. GraphModality"
   ]
  },
  {
   "cell_type": "markdown",
   "metadata": {},
   "source": [
    "## Social Recommendation (SoRec)\n"
   ]
  },
  {
   "cell_type": "markdown",
   "metadata": {},
   "source": [
    "- SoRec 아키텍쳐\n",
    "<img src='image/SoRec.png' align=\"left\" width=800/>"
   ]
  },
  {
   "cell_type": "code",
   "execution_count": 3,
   "metadata": {},
   "outputs": [
    {
     "name": "stdout",
     "output_type": "stream",
     "text": [
      "rating_threshold = 2.5\n",
      "exclude_unknowns = True\n",
      "---\n",
      "Training data:\n",
      "Number of users = 1475\n",
      "Number of items = 1917\n",
      "Number of ratings = 28396\n",
      "Max rating = 4.0\n",
      "Min rating = 0.5\n",
      "Global mean = 3.0\n",
      "---\n",
      "Test data:\n",
      "Number of users = 1475\n",
      "Number of items = 1917\n",
      "Number of ratings = 6873\n",
      "Number of unknown users = 0\n",
      "Number of unknown items = 0\n",
      "---\n",
      "Total users = 1475\n",
      "Total items = 1917\n",
      "\n",
      "[SoRec] Training started!\n",
      "Learning...\n",
      "epoch 0, loss: 3336.866073\n",
      "epoch 1, loss: 2928.795649\n",
      "epoch 2, loss: 2463.184595\n",
      "epoch 3, loss: 2220.541953\n",
      "epoch 4, loss: 2110.565760\n",
      "epoch 5, loss: 2044.658160\n",
      "epoch 6, loss: 1995.125000\n",
      "epoch 7, loss: 1954.012938\n",
      "epoch 8, loss: 1918.281104\n",
      "epoch 9, loss: 1886.355976\n",
      "epoch 10, loss: 1857.334871\n"
     ]
    },
    {
     "name": "stderr",
     "output_type": "stream",
     "text": [
      "/Users/moon/miniforge3/envs/moontorch/lib/python3.8/site-packages/cornac/data/dataset.py:335: UserWarning: 1 duplicated observations are removed!\n",
      "  warnings.warn(\"%d duplicated observations are removed!\" % dup_count)\n"
     ]
    },
    {
     "name": "stdout",
     "output_type": "stream",
     "text": [
      "epoch 11, loss: 1830.593392\n",
      "epoch 12, loss: 1805.751273\n",
      "epoch 13, loss: 1782.438519\n",
      "epoch 14, loss: 1760.579884\n",
      "epoch 15, loss: 1739.915589\n",
      "epoch 16, loss: 1720.301302\n",
      "epoch 17, loss: 1701.677061\n",
      "epoch 18, loss: 1683.843279\n",
      "epoch 19, loss: 1666.720036\n",
      "epoch 20, loss: 1650.190473\n",
      "epoch 21, loss: 1634.138636\n",
      "epoch 22, loss: 1618.498840\n",
      "epoch 23, loss: 1603.170566\n",
      "epoch 24, loss: 1588.072386\n",
      "epoch 25, loss: 1573.162621\n",
      "epoch 26, loss: 1558.358803\n",
      "epoch 27, loss: 1543.639841\n",
      "epoch 28, loss: 1528.936375\n",
      "epoch 29, loss: 1514.278548\n",
      "epoch 30, loss: 1499.564991\n",
      "epoch 31, loss: 1484.921134\n",
      "epoch 32, loss: 1470.206048\n",
      "epoch 33, loss: 1455.558934\n",
      "epoch 34, loss: 1440.879926\n",
      "epoch 35, loss: 1426.297133\n",
      "epoch 36, loss: 1411.787029\n",
      "epoch 37, loss: 1397.317718\n",
      "epoch 38, loss: 1383.071672\n",
      "epoch 39, loss: 1368.839710\n",
      "epoch 40, loss: 1354.889690\n",
      "epoch 41, loss: 1340.959270\n",
      "epoch 42, loss: 1327.356135\n",
      "epoch 43, loss: 1313.816972\n",
      "epoch 44, loss: 1300.516715\n",
      "epoch 45, loss: 1287.367541\n",
      "epoch 46, loss: 1274.390471\n",
      "epoch 47, loss: 1261.651677\n",
      "epoch 48, loss: 1249.007939\n",
      "epoch 49, loss: 1236.658798\n",
      "Learning completed\n",
      "\n",
      "[SoRec] Evaluation started!\n"
     ]
    },
    {
     "data": {
      "application/vnd.jupyter.widget-view+json": {
       "model_id": "0c0f277befb74bde8e4c69ef46bb55ae",
       "version_major": 2,
       "version_minor": 0
      },
      "text/plain": [
       "Rating:   0%|          | 0/6873 [00:00<?, ?it/s]"
      ]
     },
     "metadata": {},
     "output_type": "display_data"
    },
    {
     "name": "stdout",
     "output_type": "stream",
     "text": [
      "\n",
      "[PMF] Training started!\n",
      "Learning...\n",
      "epoch 0, loss: 3260.518425\n",
      "epoch 1, loss: 3123.428723\n",
      "epoch 2, loss: 2936.524485\n",
      "epoch 3, loss: 2778.610802\n",
      "epoch 4, loss: 2658.799484\n",
      "epoch 5, loss: 2567.284771\n",
      "epoch 6, loss: 2495.441571\n",
      "epoch 7, loss: 2437.683320\n",
      "epoch 8, loss: 2390.344491\n",
      "epoch 9, loss: 2350.879752\n",
      "epoch 10, loss: 2317.429363\n",
      "epoch 11, loss: 2288.622307\n",
      "epoch 12, loss: 2263.486231\n",
      "epoch 13, loss: 2241.328288\n",
      "epoch 14, loss: 2221.630328\n",
      "epoch 15, loss: 2203.990717\n",
      "epoch 16, loss: 2188.092781\n",
      "epoch 17, loss: 2173.683612\n",
      "epoch 18, loss: 2160.558220\n",
      "epoch 19, loss: 2148.548212\n",
      "epoch 20, loss: 2137.513659\n",
      "epoch 21, loss: 2127.337084\n",
      "epoch 22, loss: 2117.919045\n",
      "epoch 23, loss: 2109.174712\n",
      "epoch 24, loss: 2101.031310\n",
      "epoch 25, loss: 2093.426001\n",
      "epoch 26, loss: 2086.304263\n",
      "epoch 27, loss: 2079.618584\n",
      "epoch 28, loss: 2073.327367\n",
      "epoch 29, loss: 2067.394102\n",
      "epoch 30, loss: 2061.786625\n",
      "epoch 31, loss: 2056.476524\n",
      "epoch 32, loss: 2051.438639\n",
      "epoch 33, loss: 2046.650630\n",
      "epoch 34, loss: 2042.092605\n",
      "epoch 35, loss: 2037.746767\n",
      "epoch 36, loss: 2033.597150\n",
      "epoch 37, loss: 2029.629357\n",
      "epoch 38, loss: 2025.830327\n",
      "epoch 39, loss: 2022.188152\n",
      "epoch 40, loss: 2018.691904\n",
      "epoch 41, loss: 2015.331519\n",
      "epoch 42, loss: 2012.097674\n",
      "epoch 43, loss: 2008.981776\n",
      "epoch 44, loss: 2005.975934\n",
      "epoch 45, loss: 2003.072970\n",
      "epoch 46, loss: 2000.266365\n",
      "epoch 47, loss: 1997.550221\n",
      "epoch 48, loss: 1994.919179\n",
      "epoch 49, loss: 1992.368348\n",
      "Learning completed\n",
      "\n",
      "[PMF] Evaluation started!\n"
     ]
    },
    {
     "data": {
      "application/vnd.jupyter.widget-view+json": {
       "model_id": "8ecca662c1104d1fbb1e01cd875e4e8d",
       "version_major": 2,
       "version_minor": 0
      },
      "text/plain": [
       "Rating:   0%|          | 0/6873 [00:00<?, ?it/s]"
      ]
     },
     "metadata": {},
     "output_type": "display_data"
    },
    {
     "name": "stdout",
     "output_type": "stream",
     "text": [
      "\n",
      "TEST:\n",
      "...\n",
      "      |    MAE | Train (s) | Test (s)\n",
      "----- + ------ + --------- + --------\n",
      "SoRec | 0.6470 |    0.4612 |   0.1171\n",
      "PMF   | 0.6862 |    0.2695 |   0.0837\n",
      "\n"
     ]
    }
   ],
   "source": [
    "K = 20\n",
    "sorec = SoRec(k=K, max_iter=50, learning_rate=0.001, verbose=VERBOSE, seed=SEED)\n",
    "pmf = PMF(k=K, max_iter=50, learning_rate=0.001, lambda_reg=0.01, verbose=VERBOSE, seed=SEED)\n",
    "\n",
    "ratings = filmtrust.load_feedback()\n",
    "trust = filmtrust.load_trust()\n",
    "\n",
    "user_graph_modality = GraphModality(data=trust)\n",
    "\n",
    "ratio_split = RatioSplit(\n",
    "    data=ratings,\n",
    "    test_size=0.2,\n",
    "    rating_threshold=2.5,\n",
    "    exclude_unknowns=True,\n",
    "    user_graph=user_graph_modality,\n",
    "    verbose=VERBOSE,\n",
    "    seed=SEED,\n",
    ")\n",
    "\n",
    "mae = cornac.metrics.MAE()\n",
    "\n",
    "cornac.Experiment(eval_method=ratio_split, models=[sorec, pmf], metrics=[mae]).run()"
   ]
  },
  {
   "cell_type": "code",
   "execution_count": 4,
   "metadata": {},
   "outputs": [
    {
     "data": {
      "image/png": "[encoded data removed]",
      "text/plain": [
       "<Figure size 1300x500 with 1 Axes>"
      ]
     },
     "metadata": {},
     "output_type": "display_data"
    }
   ],
   "source": [
    "var_df = pd.DataFrame({\"Factor\": np.arange(K), \"Variance\": np.var(sorec.U, axis=0)})\n",
    "fig, ax = plt.subplots(figsize=(13, 5))\n",
    "sns.barplot(x=\"Factor\", y=\"Variance\", data=var_df, ax=ax);"
   ]
  },
  {
   "cell_type": "code",
   "execution_count": 5,
   "metadata": {},
   "outputs": [
    {
     "data": {
      "image/png": "[encoded data removed]",
      "text/plain": [
       "<Figure size 1100x1100 with 1 Axes>"
      ]
     },
     "metadata": {},
     "output_type": "display_data"
    }
   ],
   "source": [
    "TOP2F = (9, 16)\n",
    "SAMPLE_SIZE = 200\n",
    "\n",
    "rng = np.random.RandomState(SEED)\n",
    "sample_inds = rng.choice(np.arange(sorec.U.shape[0]), size=SAMPLE_SIZE, replace=False)\n",
    "sample_df = pd.DataFrame(data=sorec.U[sample_inds][:, TOP2F], columns=[\"x\", \"y\"])\n",
    "g = sns.lmplot(x=\"x\", y=\"y\", data=sample_df, height=11.0, fit_reg=False)\n",
    "g.ax.set_title(\"Users in latent space with their social connections\", fontsize=16)\n",
    "\n",
    "adj_mat = sorec.train_set.user_graph.matrix\n",
    "for i in range(len(sample_inds)):\n",
    "  for j in range(len(sample_inds)):\n",
    "    if j != i and adj_mat[sample_inds[i], sample_inds[j]]:\n",
    "      sns.lineplot(x=\"x\", y=\"y\", data=sample_df.loc[[i, j]])"
   ]
  },
  {
   "cell_type": "markdown",
   "metadata": {},
   "source": [
    "# 3. TextModality"
   ]
  },
  {
   "cell_type": "markdown",
   "metadata": {},
   "source": [
    "## Collaborative Topic Regression (CTR)"
   ]
  },
  {
   "cell_type": "markdown",
   "metadata": {},
   "source": [
    "- CTR 아키텍쳐\n",
    "<img src='CTR.png' align=\"left\" width=800/>"
   ]
  },
  {
   "cell_type": "code",
   "execution_count": 6,
   "metadata": {},
   "outputs": [
    {
     "name": "stdout",
     "output_type": "stream",
     "text": [
      "rating_threshold = 4.0\n",
      "exclude_unknowns = True\n",
      "---\n",
      "Training data:\n",
      "Number of users = 5066\n",
      "Number of items = 3333\n",
      "Number of ratings = 10951\n",
      "Max rating = 5.0\n",
      "Min rating = 1.0\n",
      "Global mean = 4.4\n",
      "---\n",
      "Test data:\n",
      "Number of users = 5066\n",
      "Number of items = 3333\n",
      "Number of ratings = 2192\n",
      "Number of unknown users = 0\n",
      "Number of unknown items = 0\n",
      "---\n",
      "Total users = 5066\n",
      "Total items = 3333\n",
      "\n",
      "[CTR] Training started!\n"
     ]
    },
    {
     "data": {
      "application/vnd.jupyter.widget-view+json": {
       "model_id": "e17fe9385d664e84bb7e72e7f15f636a",
       "version_major": 2,
       "version_minor": 0
      },
      "text/plain": [
       "  0%|          | 0/50 [00:00<?, ?it/s]"
      ]
     },
     "metadata": {},
     "output_type": "display_data"
    },
    {
     "name": "stdout",
     "output_type": "stream",
     "text": [
      "Learning completed!\n",
      "\n",
      "[CTR] Evaluation started!\n"
     ]
    },
    {
     "data": {
      "application/vnd.jupyter.widget-view+json": {
       "model_id": "0da86237bbcb4a588942b185458873af",
       "version_major": 2,
       "version_minor": 0
      },
      "text/plain": [
       "Ranking:   0%|          | 0/1823 [00:00<?, ?it/s]"
      ]
     },
     "metadata": {},
     "output_type": "display_data"
    },
    {
     "name": "stdout",
     "output_type": "stream",
     "text": [
      "\n",
      "[WMF] Training started!\n"
     ]
    },
    {
     "data": {
      "application/vnd.jupyter.widget-view+json": {
       "model_id": "dded69d3ab7245debd6a89555f08ecd6",
       "version_major": 2,
       "version_minor": 0
      },
      "text/plain": [
       "  0%|          | 0/50 [00:00<?, ?it/s]"
      ]
     },
     "metadata": {},
     "output_type": "display_data"
    },
    {
     "name": "stdout",
     "output_type": "stream",
     "text": [
      "Learning completed!\n",
      "\n",
      "[WMF] Evaluation started!\n"
     ]
    },
    {
     "data": {
      "application/vnd.jupyter.widget-view+json": {
       "model_id": "75f3391dfdd240cd83f71682ef339443",
       "version_major": 2,
       "version_minor": 0
      },
      "text/plain": [
       "Ranking:   0%|          | 0/1823 [00:00<?, ?it/s]"
      ]
     },
     "metadata": {},
     "output_type": "display_data"
    },
    {
     "name": "stdout",
     "output_type": "stream",
     "text": [
      "\n",
      "TEST:\n",
      "...\n",
      "    | Recall@50 | Train (s) | Test (s)\n",
      "--- + --------- + --------- + --------\n",
      "CTR |    0.2297 |   43.1849 |   0.3026\n",
      "WMF |    0.1720 |    5.7785 |   0.3010\n",
      "\n"
     ]
    }
   ],
   "source": [
    "K = 20\n",
    "ctr = CTR(k=K, max_iter=50, a=1.0, b=0.01, lambda_u=0.01, lambda_v=0.01, verbose=VERBOSE, seed=SEED)\n",
    "wmf = WMF(k=K, max_iter=50, a=1.0, b=0.01, learning_rate=0.005, lambda_u=0.01, lambda_v=0.01, \n",
    "          verbose=VERBOSE, seed=SEED)\n",
    "\n",
    "ratings = amazon_clothing.load_feedback()\n",
    "docs, item_ids = amazon_clothing.load_text()\n",
    "\n",
    "item_text_modality = TextModality(\n",
    "    corpus=docs,\n",
    "    ids=item_ids,\n",
    "    tokenizer=BaseTokenizer(sep=\" \", stop_words=\"english\"),\n",
    "    max_vocab=8000,\n",
    "    max_doc_freq=0.5,\n",
    ")\n",
    "\n",
    "ratio_split = RatioSplit(\n",
    "    data=ratings,\n",
    "    test_size=0.2,\n",
    "    rating_threshold=4.0,\n",
    "    exclude_unknowns=True,\n",
    "    item_text=item_text_modality,\n",
    "    verbose=VERBOSE,\n",
    "    seed=SEED,\n",
    ")\n",
    "\n",
    "rec_50 = cornac.metrics.Recall(50)\n",
    "\n",
    "cornac.Experiment(eval_method=ratio_split, models=[ctr, wmf], metrics=[rec_50]).run()"
   ]
  },
  {
   "cell_type": "code",
   "execution_count": 7,
   "metadata": {},
   "outputs": [
    {
     "name": "stdout",
     "output_type": "stream",
     "text": [
      "WORD TOPICS:\n"
     ]
    },
    {
     "data": {
      "text/html": [
       "<div>\n",
       "<style scoped>\n",
       "    .dataframe tbody tr th:only-of-type {\n",
       "        vertical-align: middle;\n",
       "    }\n",
       "\n",
       "    .dataframe tbody tr th {\n",
       "        vertical-align: top;\n",
       "    }\n",
       "\n",
       "    .dataframe thead th {\n",
       "        text-align: right;\n",
       "    }\n",
       "</style>\n",
       "<table border=\"1\" class=\"dataframe\">\n",
       "  <thead>\n",
       "    <tr style=\"text-align: right;\">\n",
       "      <th></th>\n",
       "      <th>Topic</th>\n",
       "      <th>Top words</th>\n",
       "    </tr>\n",
       "  </thead>\n",
       "  <tbody>\n",
       "    <tr>\n",
       "      <th>0</th>\n",
       "      <td>1</td>\n",
       "      <td>x, company, display, motion, growth, allow, fe...</td>\n",
       "    </tr>\n",
       "    <tr>\n",
       "      <th>1</th>\n",
       "      <td>2</td>\n",
       "      <td>earrings, easily, style, helps, steel, sweat, ...</td>\n",
       "    </tr>\n",
       "    <tr>\n",
       "      <th>2</th>\n",
       "      <td>3</td>\n",
       "      <td>high, fit, cold, inches, waterproof, womens, l...</td>\n",
       "    </tr>\n",
       "    <tr>\n",
       "      <th>3</th>\n",
       "      <td>4</td>\n",
       "      <td>plus, perfect, innovative, fabric, team, shirt...</td>\n",
       "    </tr>\n",
       "    <tr>\n",
       "      <th>4</th>\n",
       "      <td>5</td>\n",
       "      <td>shoulder, use, jacket, heat, short, rubies, ho...</td>\n",
       "    </tr>\n",
       "    <tr>\n",
       "      <th>5</th>\n",
       "      <td>6</td>\n",
       "      <td>feature, little, hat, performance, s, zipper, ...</td>\n",
       "    </tr>\n",
       "    <tr>\n",
       "      <th>6</th>\n",
       "      <td>7</td>\n",
       "      <td>weight, hood, new, comfort, beautiful, large, ...</td>\n",
       "    </tr>\n",
       "    <tr>\n",
       "      <th>7</th>\n",
       "      <td>8</td>\n",
       "      <td>warm, fabric, protect, halloween, inches, idea...</td>\n",
       "    </tr>\n",
       "    <tr>\n",
       "      <th>8</th>\n",
       "      <td>9</td>\n",
       "      <td>size, color, day, comfortable, shoes, perfect,...</td>\n",
       "    </tr>\n",
       "    <tr>\n",
       "      <th>9</th>\n",
       "      <td>10</td>\n",
       "      <td>material, costume, air, designed, transport, c...</td>\n",
       "    </tr>\n",
       "    <tr>\n",
       "      <th>10</th>\n",
       "      <td>11</td>\n",
       "      <td>size, construction, x, s, hand, support, like,...</td>\n",
       "    </tr>\n",
       "    <tr>\n",
       "      <th>11</th>\n",
       "      <td>12</td>\n",
       "      <td>moisture, sports, classic, product, warmth, ge...</td>\n",
       "    </tr>\n",
       "    <tr>\n",
       "      <th>12</th>\n",
       "      <td>13</td>\n",
       "      <td>panel, comfortable, band, superior, sizes, rem...</td>\n",
       "    </tr>\n",
       "    <tr>\n",
       "      <th>13</th>\n",
       "      <td>14</td>\n",
       "      <td>prevents, mens, x, provide, perfect, organizer...</td>\n",
       "    </tr>\n",
       "    <tr>\n",
       "      <th>14</th>\n",
       "      <td>15</td>\n",
       "      <td>just, sock, provides, want, ultimate, travel, ...</td>\n",
       "    </tr>\n",
       "    <tr>\n",
       "      <th>15</th>\n",
       "      <td>16</td>\n",
       "      <td>fit, fun, foot, used, items, cotton, pant, smo...</td>\n",
       "    </tr>\n",
       "    <tr>\n",
       "      <th>16</th>\n",
       "      <td>17</td>\n",
       "      <td>nylon, signature, merino, storage, approximate...</td>\n",
       "    </tr>\n",
       "    <tr>\n",
       "      <th>17</th>\n",
       "      <td>18</td>\n",
       "      <td>body, accessories, gift, x, oz, bag, water, cl...</td>\n",
       "    </tr>\n",
       "    <tr>\n",
       "      <th>18</th>\n",
       "      <td>19</td>\n",
       "      <td>costume, new, seams, layer, stretch, years, sk...</td>\n",
       "    </tr>\n",
       "    <tr>\n",
       "      <th>19</th>\n",
       "      <td>20</td>\n",
       "      <td>great, black, easy, away, includes, dry, pocke...</td>\n",
       "    </tr>\n",
       "  </tbody>\n",
       "</table>\n",
       "</div>"
      ],
      "text/plain": [
       "    Topic                                          Top words\n",
       "0       1  x, company, display, motion, growth, allow, fe...\n",
       "1       2  earrings, easily, style, helps, steel, sweat, ...\n",
       "2       3  high, fit, cold, inches, waterproof, womens, l...\n",
       "3       4  plus, perfect, innovative, fabric, team, shirt...\n",
       "4       5  shoulder, use, jacket, heat, short, rubies, ho...\n",
       "5       6  feature, little, hat, performance, s, zipper, ...\n",
       "6       7  weight, hood, new, comfort, beautiful, large, ...\n",
       "7       8  warm, fabric, protect, halloween, inches, idea...\n",
       "8       9  size, color, day, comfortable, shoes, perfect,...\n",
       "9      10  material, costume, air, designed, transport, c...\n",
       "10     11  size, construction, x, s, hand, support, like,...\n",
       "11     12  moisture, sports, classic, product, warmth, ge...\n",
       "12     13  panel, comfortable, band, superior, sizes, rem...\n",
       "13     14  prevents, mens, x, provide, perfect, organizer...\n",
       "14     15  just, sock, provides, want, ultimate, travel, ...\n",
       "15     16  fit, fun, foot, used, items, cotton, pant, smo...\n",
       "16     17  nylon, signature, merino, storage, approximate...\n",
       "17     18  body, accessories, gift, x, oz, bag, water, cl...\n",
       "18     19  costume, new, seams, layer, stretch, years, sk...\n",
       "19     20  great, black, easy, away, includes, dry, pocke..."
      ]
     },
     "execution_count": 7,
     "metadata": {},
     "output_type": "execute_result"
    }
   ],
   "source": [
    "vocab = ctr.train_set.item_text.vocab\n",
    "topic_word_dist = ctr.model.beta.T[:, -ctr.train_set.item_text.max_vocab:] \n",
    "top_word_inds = np.argsort(topic_word_dist, axis=1) + 4  # ingore 4 special tokens\n",
    "\n",
    "topic_words = {}\n",
    "topic_df = defaultdict(list)\n",
    "print(\"WORD TOPICS:\")\n",
    "for t in range(len(topic_word_dist)):\n",
    "  top_words = vocab.to_text(top_word_inds[t][-10:][::-1], sep=\", \")\n",
    "  topic_words[t+1] = top_words\n",
    "  topic_df[\"Topic\"].append(t + 1)\n",
    "  topic_df[\"Top words\"].append(top_words)\n",
    "topic_df = pd.DataFrame(topic_df)\n",
    "topic_df"
   ]
  },
  {
   "cell_type": "code",
   "execution_count": 8,
   "metadata": {},
   "outputs": [
    {
     "name": "stdout",
     "output_type": "stream",
     "text": [
      "USER 123 TOP-3 TOPICS:\n"
     ]
    },
    {
     "data": {
      "text/html": [
       "<div>\n",
       "<style scoped>\n",
       "    .dataframe tbody tr th:only-of-type {\n",
       "        vertical-align: middle;\n",
       "    }\n",
       "\n",
       "    .dataframe tbody tr th {\n",
       "        vertical-align: top;\n",
       "    }\n",
       "\n",
       "    .dataframe thead th {\n",
       "        text-align: right;\n",
       "    }\n",
       "</style>\n",
       "<table border=\"1\" class=\"dataframe\">\n",
       "  <thead>\n",
       "    <tr style=\"text-align: right;\">\n",
       "      <th></th>\n",
       "      <th>Topic</th>\n",
       "      <th>Top words</th>\n",
       "    </tr>\n",
       "  </thead>\n",
       "  <tbody>\n",
       "    <tr>\n",
       "      <th>6</th>\n",
       "      <td>7</td>\n",
       "      <td>weight, hood, new, comfort, beautiful, large, ...</td>\n",
       "    </tr>\n",
       "    <tr>\n",
       "      <th>15</th>\n",
       "      <td>16</td>\n",
       "      <td>fit, fun, foot, used, items, cotton, pant, smo...</td>\n",
       "    </tr>\n",
       "    <tr>\n",
       "      <th>4</th>\n",
       "      <td>5</td>\n",
       "      <td>shoulder, use, jacket, heat, short, rubies, ho...</td>\n",
       "    </tr>\n",
       "  </tbody>\n",
       "</table>\n",
       "</div>"
      ],
      "text/plain": [
       "    Topic                                          Top words\n",
       "6       7  weight, hood, new, comfort, beautiful, large, ...\n",
       "15     16  fit, fun, foot, used, items, cotton, pant, smo...\n",
       "4       5  shoulder, use, jacket, heat, short, rubies, ho..."
      ]
     },
     "execution_count": 8,
     "metadata": {},
     "output_type": "execute_result"
    }
   ],
   "source": [
    "UIDX = 123\n",
    "TOPK = 5\n",
    "item_id2idx = ctr.train_set.iid_map\n",
    "item_idx2id = list(ctr.train_set.item_ids)\n",
    "print(f\"USER {UIDX} TOP-3 TOPICS:\")\n",
    "topic_df.loc[np.argsort(ctr.U[UIDX])[-3:][::-1]]"
   ]
  },
  {
   "cell_type": "code",
   "execution_count": 9,
   "metadata": {},
   "outputs": [
    {
     "name": "stdout",
     "output_type": "stream",
     "text": [
      "\n",
      "TOP 5 RECOMMENDATIONS FOR USER 123:\n"
     ]
    },
    {
     "data": {
      "text/html": [
       "<div>\n",
       "<style scoped>\n",
       "    .dataframe tbody tr th:only-of-type {\n",
       "        vertical-align: middle;\n",
       "    }\n",
       "\n",
       "    .dataframe tbody tr th {\n",
       "        vertical-align: top;\n",
       "    }\n",
       "\n",
       "    .dataframe thead th {\n",
       "        text-align: right;\n",
       "    }\n",
       "</style>\n",
       "<table border=\"1\" class=\"dataframe\">\n",
       "  <thead>\n",
       "    <tr style=\"text-align: right;\">\n",
       "      <th></th>\n",
       "      <th>URL</th>\n",
       "      <th>Description</th>\n",
       "    </tr>\n",
       "  </thead>\n",
       "  <tbody>\n",
       "    <tr>\n",
       "      <th>0</th>\n",
       "      <td>https://www.amazon.com/dp/B001BBN2X4</td>\n",
       "      <td>Pink Felt Tiara Cowboy or Cowgirl Hat is adorn...</td>\n",
       "    </tr>\n",
       "    <tr>\n",
       "      <th>1</th>\n",
       "      <td>https://www.amazon.com/dp/B001DKDAVW</td>\n",
       "      <td>Clean your fine jewelry, eyeglasses, dentures,...</td>\n",
       "    </tr>\n",
       "    <tr>\n",
       "      <th>2</th>\n",
       "      <td>https://www.amazon.com/dp/B00064V6LM</td>\n",
       "      <td>Child Padded Bike Shorts are Very High Quality...</td>\n",
       "    </tr>\n",
       "    <tr>\n",
       "      <th>3</th>\n",
       "      <td>https://www.amazon.com/dp/B007DLVLAW</td>\n",
       "      <td>Patented elastic shoelace and fastening system...</td>\n",
       "    </tr>\n",
       "    <tr>\n",
       "      <th>4</th>\n",
       "      <td>https://www.amazon.com/dp/B003VY9BK2</td>\n",
       "      <td>Beautiful color Egyptian belly dancing hip wra...</td>\n",
       "    </tr>\n",
       "  </tbody>\n",
       "</table>\n",
       "</div>"
      ],
      "text/plain": [
       "                                    URL  \\\n",
       "0  https://www.amazon.com/dp/B001BBN2X4   \n",
       "1  https://www.amazon.com/dp/B001DKDAVW   \n",
       "2  https://www.amazon.com/dp/B00064V6LM   \n",
       "3  https://www.amazon.com/dp/B007DLVLAW   \n",
       "4  https://www.amazon.com/dp/B003VY9BK2   \n",
       "\n",
       "                                         Description  \n",
       "0  Pink Felt Tiara Cowboy or Cowgirl Hat is adorn...  \n",
       "1  Clean your fine jewelry, eyeglasses, dentures,...  \n",
       "2  Child Padded Bike Shorts are Very High Quality...  \n",
       "3  Patented elastic shoelace and fastening system...  \n",
       "4  Beautiful color Egyptian belly dancing hip wra...  "
      ]
     },
     "execution_count": 9,
     "metadata": {},
     "output_type": "execute_result"
    }
   ],
   "source": [
    "recommendations, scores = ctr.rank(UIDX)\n",
    "print(f\"\\nTOP {TOPK} RECOMMENDATIONS FOR USER {UIDX}:\")\n",
    "rec_df = defaultdict(list)\n",
    "for i in recommendations[:TOPK]:\n",
    "  rec_df[\"URL\"].append(f\"https://www.amazon.com/dp/{item_idx2id[i]}\")\n",
    "  rec_df[\"Description\"].append(ctr.train_set.item_text.corpus[i])\n",
    "pd.DataFrame(rec_df)"
   ]
  },
  {
   "cell_type": "markdown",
   "metadata": {},
   "source": [
    "# 4. ImageModality"
   ]
  },
  {
   "cell_type": "markdown",
   "metadata": {},
   "source": [
    "## Visual Bayesian Personalized Ranking (VBPR)"
   ]
  },
  {
   "cell_type": "markdown",
   "metadata": {},
   "source": [
    "- VBPR 아키텍쳐\n",
    "<img src='VBPR.png' align=\"left\" width=800/>"
   ]
  },
  {
   "cell_type": "code",
   "execution_count": 10,
   "metadata": {},
   "outputs": [
    {
     "name": "stdout",
     "output_type": "stream",
     "text": [
      "rating_threshold = 4.0\n",
      "exclude_unknowns = True\n",
      "---\n",
      "Training data:\n",
      "Number of users = 5066\n",
      "Number of items = 3333\n",
      "Number of ratings = 10951\n",
      "Max rating = 5.0\n",
      "Min rating = 1.0\n",
      "Global mean = 4.4\n",
      "---\n",
      "Test data:\n",
      "Number of users = 5066\n",
      "Number of items = 3333\n",
      "Number of ratings = 2192\n",
      "Number of unknown users = 0\n",
      "Number of unknown items = 0\n",
      "---\n",
      "Total users = 5066\n",
      "Total items = 3333\n",
      "\n",
      "[VBPR] Training started!\n"
     ]
    },
    {
     "data": {
      "application/vnd.jupyter.widget-view+json": {
       "model_id": "8811af6dba5c4f2e8a07a52fbe2f1d64",
       "version_major": 2,
       "version_minor": 0
      },
      "text/plain": [
       "Epoch 1/50:   0%|          | 0/110 [00:00<?, ?it/s]"
      ]
     },
     "metadata": {},
     "output_type": "display_data"
    },
    {
     "data": {
      "application/vnd.jupyter.widget-view+json": {
       "model_id": "28150a47fc8a40a9b950ea889c44aed7",
       "version_major": 2,
       "version_minor": 0
      },
      "text/plain": [
       "Epoch 2/50:   0%|          | 0/110 [00:00<?, ?it/s]"
      ]
     },
     "metadata": {},
     "output_type": "display_data"
    },
    {
     "data": {
      "application/vnd.jupyter.widget-view+json": {
       "model_id": "3e325ec0de74434b8c5e6328dc25544e",
       "version_major": 2,
       "version_minor": 0
      },
      "text/plain": [
       "Epoch 3/50:   0%|          | 0/110 [00:00<?, ?it/s]"
      ]
     },
     "metadata": {},
     "output_type": "display_data"
    },
    {
     "data": {
      "application/vnd.jupyter.widget-view+json": {
       "model_id": "9e88f897189a4fe291bbcd0fac006198",
       "version_major": 2,
       "version_minor": 0
      },
      "text/plain": [
       "Epoch 4/50:   0%|          | 0/110 [00:00<?, ?it/s]"
      ]
     },
     "metadata": {},
     "output_type": "display_data"
    },
    {
     "data": {
      "application/vnd.jupyter.widget-view+json": {
       "model_id": "be3c4eb4124747f98a6d5dbe998d2973",
       "version_major": 2,
       "version_minor": 0
      },
      "text/plain": [
       "Epoch 5/50:   0%|          | 0/110 [00:00<?, ?it/s]"
      ]
     },
     "metadata": {},
     "output_type": "display_data"
    },
    {
     "data": {
      "application/vnd.jupyter.widget-view+json": {
       "model_id": "ca615e32fe2c42cda9a0f6577f582425",
       "version_major": 2,
       "version_minor": 0
      },
      "text/plain": [
       "Epoch 6/50:   0%|          | 0/110 [00:00<?, ?it/s]"
      ]
     },
     "metadata": {},
     "output_type": "display_data"
    },
    {
     "data": {
      "application/vnd.jupyter.widget-view+json": {
       "model_id": "f17c6fe5ee864d389c418d7b6df28258",
       "version_major": 2,
       "version_minor": 0
      },
      "text/plain": [
       "Epoch 7/50:   0%|          | 0/110 [00:00<?, ?it/s]"
      ]
     },
     "metadata": {},
     "output_type": "display_data"
    },
    {
     "data": {
      "application/vnd.jupyter.widget-view+json": {
       "model_id": "ad001658aa644c73b4335e93c8f3f5fd",
       "version_major": 2,
       "version_minor": 0
      },
      "text/plain": [
       "Epoch 8/50:   0%|          | 0/110 [00:00<?, ?it/s]"
      ]
     },
     "metadata": {},
     "output_type": "display_data"
    },
    {
     "data": {
      "application/vnd.jupyter.widget-view+json": {
       "model_id": "f9df6b870adc4bf5b2a012b3f0489ffc",
       "version_major": 2,
       "version_minor": 0
      },
      "text/plain": [
       "Epoch 9/50:   0%|          | 0/110 [00:00<?, ?it/s]"
      ]
     },
     "metadata": {},
     "output_type": "display_data"
    },
    {
     "data": {
      "application/vnd.jupyter.widget-view+json": {
       "model_id": "ee2311096f164bfeb5f2708062402e27",
       "version_major": 2,
       "version_minor": 0
      },
      "text/plain": [
       "Epoch 10/50:   0%|          | 0/110 [00:00<?, ?it/s]"
      ]
     },
     "metadata": {},
     "output_type": "display_data"
    },
    {
     "data": {
      "application/vnd.jupyter.widget-view+json": {
       "model_id": "abb9427a187a42efa629386188987e35",
       "version_major": 2,
       "version_minor": 0
      },
      "text/plain": [
       "Epoch 11/50:   0%|          | 0/110 [00:00<?, ?it/s]"
      ]
     },
     "metadata": {},
     "output_type": "display_data"
    },
    {
     "data": {
      "application/vnd.jupyter.widget-view+json": {
       "model_id": "bb7f1d427a5a47f9bdcb7cf012676205",
       "version_major": 2,
       "version_minor": 0
      },
      "text/plain": [
       "Epoch 12/50:   0%|          | 0/110 [00:00<?, ?it/s]"
      ]
     },
     "metadata": {},
     "output_type": "display_data"
    },
    {
     "data": {
      "application/vnd.jupyter.widget-view+json": {
       "model_id": "519d6fd3d897490392d95225d7afdb65",
       "version_major": 2,
       "version_minor": 0
      },
      "text/plain": [
       "Epoch 13/50:   0%|          | 0/110 [00:00<?, ?it/s]"
      ]
     },
     "metadata": {},
     "output_type": "display_data"
    },
    {
     "data": {
      "application/vnd.jupyter.widget-view+json": {
       "model_id": "342bf04280b247d6b349b3a250ff18d4",
       "version_major": 2,
       "version_minor": 0
      },
      "text/plain": [
       "Epoch 14/50:   0%|          | 0/110 [00:00<?, ?it/s]"
      ]
     },
     "metadata": {},
     "output_type": "display_data"
    },
    {
     "data": {
      "application/vnd.jupyter.widget-view+json": {
       "model_id": "5349c792a47e43dcae9d87c5dbb6091f",
       "version_major": 2,
       "version_minor": 0
      },
      "text/plain": [
       "Epoch 15/50:   0%|          | 0/110 [00:00<?, ?it/s]"
      ]
     },
     "metadata": {},
     "output_type": "display_data"
    },
    {
     "data": {
      "application/vnd.jupyter.widget-view+json": {
       "model_id": "9558eaf7643443e1be939e65361ef3b7",
       "version_major": 2,
       "version_minor": 0
      },
      "text/plain": [
       "Epoch 16/50:   0%|          | 0/110 [00:00<?, ?it/s]"
      ]
     },
     "metadata": {},
     "output_type": "display_data"
    },
    {
     "data": {
      "application/vnd.jupyter.widget-view+json": {
       "model_id": "d94efaa641084fb3bc4410192e56f70e",
       "version_major": 2,
       "version_minor": 0
      },
      "text/plain": [
       "Epoch 17/50:   0%|          | 0/110 [00:00<?, ?it/s]"
      ]
     },
     "metadata": {},
     "output_type": "display_data"
    },
    {
     "data": {
      "application/vnd.jupyter.widget-view+json": {
       "model_id": "fbb4834fc5774d72958d3707ec096fed",
       "version_major": 2,
       "version_minor": 0
      },
      "text/plain": [
       "Epoch 18/50:   0%|          | 0/110 [00:00<?, ?it/s]"
      ]
     },
     "metadata": {},
     "output_type": "display_data"
    },
    {
     "data": {
      "application/vnd.jupyter.widget-view+json": {
       "model_id": "3736d4b58f404c7a9be09fc2868e8b84",
       "version_major": 2,
       "version_minor": 0
      },
      "text/plain": [
       "Epoch 19/50:   0%|          | 0/110 [00:00<?, ?it/s]"
      ]
     },
     "metadata": {},
     "output_type": "display_data"
    },
    {
     "data": {
      "application/vnd.jupyter.widget-view+json": {
       "model_id": "b94aefdca17a47fd82362d48655c525e",
       "version_major": 2,
       "version_minor": 0
      },
      "text/plain": [
       "Epoch 20/50:   0%|          | 0/110 [00:00<?, ?it/s]"
      ]
     },
     "metadata": {},
     "output_type": "display_data"
    },
    {
     "data": {
      "application/vnd.jupyter.widget-view+json": {
       "model_id": "6797f830c00342e198256ec0e11623f0",
       "version_major": 2,
       "version_minor": 0
      },
      "text/plain": [
       "Epoch 21/50:   0%|          | 0/110 [00:00<?, ?it/s]"
      ]
     },
     "metadata": {},
     "output_type": "display_data"
    },
    {
     "data": {
      "application/vnd.jupyter.widget-view+json": {
       "model_id": "fb52e96c096c46309f86ff65a1bc7a34",
       "version_major": 2,
       "version_minor": 0
      },
      "text/plain": [
       "Epoch 22/50:   0%|          | 0/110 [00:00<?, ?it/s]"
      ]
     },
     "metadata": {},
     "output_type": "display_data"
    },
    {
     "data": {
      "application/vnd.jupyter.widget-view+json": {
       "model_id": "bfee73e548644574a0266c98d6250652",
       "version_major": 2,
       "version_minor": 0
      },
      "text/plain": [
       "Epoch 23/50:   0%|          | 0/110 [00:00<?, ?it/s]"
      ]
     },
     "metadata": {},
     "output_type": "display_data"
    },
    {
     "data": {
      "application/vnd.jupyter.widget-view+json": {
       "model_id": "44da6fad8bbc42e8a585da2c9039ac64",
       "version_major": 2,
       "version_minor": 0
      },
      "text/plain": [
       "Epoch 24/50:   0%|          | 0/110 [00:00<?, ?it/s]"
      ]
     },
     "metadata": {},
     "output_type": "display_data"
    },
    {
     "data": {
      "application/vnd.jupyter.widget-view+json": {
       "model_id": "24bb0ca23539467091eb566f80fde959",
       "version_major": 2,
       "version_minor": 0
      },
      "text/plain": [
       "Epoch 25/50:   0%|          | 0/110 [00:00<?, ?it/s]"
      ]
     },
     "metadata": {},
     "output_type": "display_data"
    },
    {
     "data": {
      "application/vnd.jupyter.widget-view+json": {
       "model_id": "8bb59941171f434ca4fe45d753c1dc65",
       "version_major": 2,
       "version_minor": 0
      },
      "text/plain": [
       "Epoch 26/50:   0%|          | 0/110 [00:00<?, ?it/s]"
      ]
     },
     "metadata": {},
     "output_type": "display_data"
    },
    {
     "data": {
      "application/vnd.jupyter.widget-view+json": {
       "model_id": "eacc264d35914fc0a18a2eb08aa913cb",
       "version_major": 2,
       "version_minor": 0
      },
      "text/plain": [
       "Epoch 27/50:   0%|          | 0/110 [00:00<?, ?it/s]"
      ]
     },
     "metadata": {},
     "output_type": "display_data"
    },
    {
     "data": {
      "application/vnd.jupyter.widget-view+json": {
       "model_id": "bd6f4f7a5d7e4912a99469f7ec78d537",
       "version_major": 2,
       "version_minor": 0
      },
      "text/plain": [
       "Epoch 28/50:   0%|          | 0/110 [00:00<?, ?it/s]"
      ]
     },
     "metadata": {},
     "output_type": "display_data"
    },
    {
     "data": {
      "application/vnd.jupyter.widget-view+json": {
       "model_id": "dd0bcf8798234c41b8b339d4aae3487b",
       "version_major": 2,
       "version_minor": 0
      },
      "text/plain": [
       "Epoch 29/50:   0%|          | 0/110 [00:00<?, ?it/s]"
      ]
     },
     "metadata": {},
     "output_type": "display_data"
    },
    {
     "data": {
      "application/vnd.jupyter.widget-view+json": {
       "model_id": "56d0cb3136ab40f699782bf29b21bfcd",
       "version_major": 2,
       "version_minor": 0
      },
      "text/plain": [
       "Epoch 30/50:   0%|          | 0/110 [00:00<?, ?it/s]"
      ]
     },
     "metadata": {},
     "output_type": "display_data"
    },
    {
     "data": {
      "application/vnd.jupyter.widget-view+json": {
       "model_id": "f9b77636a2fb4004a5b28d44944587f9",
       "version_major": 2,
       "version_minor": 0
      },
      "text/plain": [
       "Epoch 31/50:   0%|          | 0/110 [00:00<?, ?it/s]"
      ]
     },
     "metadata": {},
     "output_type": "display_data"
    },
    {
     "data": {
      "application/vnd.jupyter.widget-view+json": {
       "model_id": "dbaea71f1bc94e37b6f38a8f28a5e29c",
       "version_major": 2,
       "version_minor": 0
      },
      "text/plain": [
       "Epoch 32/50:   0%|          | 0/110 [00:00<?, ?it/s]"
      ]
     },
     "metadata": {},
     "output_type": "display_data"
    },
    {
     "data": {
      "application/vnd.jupyter.widget-view+json": {
       "model_id": "de7de42095124f34a5298afd9c8f0ba7",
       "version_major": 2,
       "version_minor": 0
      },
      "text/plain": [
       "Epoch 33/50:   0%|          | 0/110 [00:00<?, ?it/s]"
      ]
     },
     "metadata": {},
     "output_type": "display_data"
    },
    {
     "data": {
      "application/vnd.jupyter.widget-view+json": {
       "model_id": "695be766267d4ff894a73323fc3fde44",
       "version_major": 2,
       "version_minor": 0
      },
      "text/plain": [
       "Epoch 34/50:   0%|          | 0/110 [00:00<?, ?it/s]"
      ]
     },
     "metadata": {},
     "output_type": "display_data"
    },
    {
     "data": {
      "application/vnd.jupyter.widget-view+json": {
       "model_id": "1ee61277f4884ffdbbe2f8d7bfa01e04",
       "version_major": 2,
       "version_minor": 0
      },
      "text/plain": [
       "Epoch 35/50:   0%|          | 0/110 [00:00<?, ?it/s]"
      ]
     },
     "metadata": {},
     "output_type": "display_data"
    },
    {
     "data": {
      "application/vnd.jupyter.widget-view+json": {
       "model_id": "a62aa8a93f4343fbb9c65af802a5b64a",
       "version_major": 2,
       "version_minor": 0
      },
      "text/plain": [
       "Epoch 36/50:   0%|          | 0/110 [00:00<?, ?it/s]"
      ]
     },
     "metadata": {},
     "output_type": "display_data"
    },
    {
     "data": {
      "application/vnd.jupyter.widget-view+json": {
       "model_id": "b958be82c12844829dd9bc5b67476b20",
       "version_major": 2,
       "version_minor": 0
      },
      "text/plain": [
       "Epoch 37/50:   0%|          | 0/110 [00:00<?, ?it/s]"
      ]
     },
     "metadata": {},
     "output_type": "display_data"
    },
    {
     "data": {
      "application/vnd.jupyter.widget-view+json": {
       "model_id": "8883e1628fff462aacd3d739c6a35b2a",
       "version_major": 2,
       "version_minor": 0
      },
      "text/plain": [
       "Epoch 38/50:   0%|          | 0/110 [00:00<?, ?it/s]"
      ]
     },
     "metadata": {},
     "output_type": "display_data"
    },
    {
     "data": {
      "application/vnd.jupyter.widget-view+json": {
       "model_id": "ed213dd9694b4d819073d7bef795425d",
       "version_major": 2,
       "version_minor": 0
      },
      "text/plain": [
       "Epoch 39/50:   0%|          | 0/110 [00:00<?, ?it/s]"
      ]
     },
     "metadata": {},
     "output_type": "display_data"
    },
    {
     "data": {
      "application/vnd.jupyter.widget-view+json": {
       "model_id": "3b655afafdec45d49cbc60bf7f0375e3",
       "version_major": 2,
       "version_minor": 0
      },
      "text/plain": [
       "Epoch 40/50:   0%|          | 0/110 [00:00<?, ?it/s]"
      ]
     },
     "metadata": {},
     "output_type": "display_data"
    },
    {
     "data": {
      "application/vnd.jupyter.widget-view+json": {
       "model_id": "67f7b4a78c5940f086f3469334b74a78",
       "version_major": 2,
       "version_minor": 0
      },
      "text/plain": [
       "Epoch 41/50:   0%|          | 0/110 [00:00<?, ?it/s]"
      ]
     },
     "metadata": {},
     "output_type": "display_data"
    },
    {
     "data": {
      "application/vnd.jupyter.widget-view+json": {
       "model_id": "b22bc15ccf0649c596c6a0eb0bea87be",
       "version_major": 2,
       "version_minor": 0
      },
      "text/plain": [
       "Epoch 42/50:   0%|          | 0/110 [00:00<?, ?it/s]"
      ]
     },
     "metadata": {},
     "output_type": "display_data"
    },
    {
     "data": {
      "application/vnd.jupyter.widget-view+json": {
       "model_id": "a0c23a6bd869472991115b561dfbffd8",
       "version_major": 2,
       "version_minor": 0
      },
      "text/plain": [
       "Epoch 43/50:   0%|          | 0/110 [00:00<?, ?it/s]"
      ]
     },
     "metadata": {},
     "output_type": "display_data"
    },
    {
     "data": {
      "application/vnd.jupyter.widget-view+json": {
       "model_id": "881a250b6f7a42d7bf20f81456047f5c",
       "version_major": 2,
       "version_minor": 0
      },
      "text/plain": [
       "Epoch 44/50:   0%|          | 0/110 [00:00<?, ?it/s]"
      ]
     },
     "metadata": {},
     "output_type": "display_data"
    },
    {
     "data": {
      "application/vnd.jupyter.widget-view+json": {
       "model_id": "31189dd4ec2d44f497efff2670af18c2",
       "version_major": 2,
       "version_minor": 0
      },
      "text/plain": [
       "Epoch 45/50:   0%|          | 0/110 [00:00<?, ?it/s]"
      ]
     },
     "metadata": {},
     "output_type": "display_data"
    },
    {
     "data": {
      "application/vnd.jupyter.widget-view+json": {
       "model_id": "fc99224d5d4d4a62b9c44ec71d06af8b",
       "version_major": 2,
       "version_minor": 0
      },
      "text/plain": [
       "Epoch 46/50:   0%|          | 0/110 [00:00<?, ?it/s]"
      ]
     },
     "metadata": {},
     "output_type": "display_data"
    },
    {
     "data": {
      "application/vnd.jupyter.widget-view+json": {
       "model_id": "81807647ba5d43f5a90a0767f1a6c404",
       "version_major": 2,
       "version_minor": 0
      },
      "text/plain": [
       "Epoch 47/50:   0%|          | 0/110 [00:00<?, ?it/s]"
      ]
     },
     "metadata": {},
     "output_type": "display_data"
    },
    {
     "data": {
      "application/vnd.jupyter.widget-view+json": {
       "model_id": "e24f6467bebf44a28004d6d9c7ec3af5",
       "version_major": 2,
       "version_minor": 0
      },
      "text/plain": [
       "Epoch 48/50:   0%|          | 0/110 [00:00<?, ?it/s]"
      ]
     },
     "metadata": {},
     "output_type": "display_data"
    },
    {
     "data": {
      "application/vnd.jupyter.widget-view+json": {
       "model_id": "2ecd9542d6324e9e9fd4ad9eee77ee8b",
       "version_major": 2,
       "version_minor": 0
      },
      "text/plain": [
       "Epoch 49/50:   0%|          | 0/110 [00:00<?, ?it/s]"
      ]
     },
     "metadata": {},
     "output_type": "display_data"
    },
    {
     "data": {
      "application/vnd.jupyter.widget-view+json": {
       "model_id": "08ea016cbfff47f4a0f4c7f469db87a3",
       "version_major": 2,
       "version_minor": 0
      },
      "text/plain": [
       "Epoch 50/50:   0%|          | 0/110 [00:00<?, ?it/s]"
      ]
     },
     "metadata": {},
     "output_type": "display_data"
    },
    {
     "name": "stdout",
     "output_type": "stream",
     "text": [
      "Optimization finished!\n",
      "\n",
      "[VBPR] Evaluation started!\n"
     ]
    },
    {
     "data": {
      "application/vnd.jupyter.widget-view+json": {
       "model_id": "e35e564fab7a4d358bbcab99388b8bd6",
       "version_major": 2,
       "version_minor": 0
      },
      "text/plain": [
       "Ranking:   0%|          | 0/1823 [00:00<?, ?it/s]"
      ]
     },
     "metadata": {},
     "output_type": "display_data"
    },
    {
     "name": "stdout",
     "output_type": "stream",
     "text": [
      "\n",
      "[BPR] Training started!\n"
     ]
    },
    {
     "data": {
      "application/vnd.jupyter.widget-view+json": {
       "model_id": "02d438b5c482467bab0b6d90d128297b",
       "version_major": 2,
       "version_minor": 0
      },
      "text/plain": [
       "  0%|          | 0/50 [00:00<?, ?it/s]"
      ]
     },
     "metadata": {},
     "output_type": "display_data"
    },
    {
     "name": "stdout",
     "output_type": "stream",
     "text": [
      "Optimization finished!\n",
      "\n",
      "[BPR] Evaluation started!\n"
     ]
    },
    {
     "data": {
      "application/vnd.jupyter.widget-view+json": {
       "model_id": "578b7ec579f644698ff983ab6037ac73",
       "version_major": 2,
       "version_minor": 0
      },
      "text/plain": [
       "Ranking:   0%|          | 0/1823 [00:00<?, ?it/s]"
      ]
     },
     "metadata": {},
     "output_type": "display_data"
    },
    {
     "name": "stdout",
     "output_type": "stream",
     "text": [
      "\n",
      "TEST:\n",
      "...\n",
      "     |    AUC | Train (s) | Test (s)\n",
      "---- + ------ + --------- + --------\n",
      "VBPR | 0.7120 |   31.8309 |   0.8360\n",
      "BPR  | 0.6002 |    0.0369 |   0.7020\n",
      "\n"
     ]
    }
   ],
   "source": [
    "K = 10\n",
    "vbpr = VBPR(k=K, k2=K, n_epochs=50, batch_size=100, learning_rate=0.001,\n",
    "            lambda_w=1, lambda_b=0.01, lambda_e=0.0, use_gpu=True, verbose=VERBOSE, seed=SEED)\n",
    "bpr = BPR(k=(K * 2), max_iter=50, learning_rate=0.001, lambda_reg=0.001, verbose=VERBOSE, seed=SEED)\n",
    "\n",
    "ratings = amazon_clothing.load_feedback()\n",
    "img_features, item_ids = amazon_clothing.load_visual_feature()\n",
    "\n",
    "item_image_modality = ImageModality(features=img_features, ids=item_ids, normalized=True)\n",
    "\n",
    "ratio_split = RatioSplit(\n",
    "    data=ratings,\n",
    "    test_size=0.2,\n",
    "    rating_threshold=4.0,\n",
    "    exclude_unknowns=True,\n",
    "    item_image=item_image_modality,\n",
    "    verbose=VERBOSE,\n",
    "    seed=SEED,\n",
    ")\n",
    "\n",
    "auc = cornac.metrics.AUC()\n",
    "\n",
    "cornac.Experiment(eval_method=ratio_split, models=[vbpr, bpr], metrics=[auc]).run()"
   ]
  },
  {
   "cell_type": "code",
   "execution_count": 11,
   "metadata": {},
   "outputs": [
    {
     "name": "stdout",
     "output_type": "stream",
     "text": [
      "RATED ITEMS BY USER 111:\n"
     ]
    },
    {
     "data": {
      "text/html": [
       "<div>\n",
       "<style scoped>\n",
       "    .dataframe tbody tr th:only-of-type {\n",
       "        vertical-align: middle;\n",
       "    }\n",
       "\n",
       "    .dataframe tbody tr th {\n",
       "        vertical-align: top;\n",
       "    }\n",
       "\n",
       "    .dataframe thead th {\n",
       "        text-align: right;\n",
       "    }\n",
       "</style>\n",
       "<table border=\"1\" class=\"dataframe\">\n",
       "  <thead>\n",
       "    <tr style=\"text-align: right;\">\n",
       "      <th></th>\n",
       "      <th>URL</th>\n",
       "      <th>Description</th>\n",
       "    </tr>\n",
       "  </thead>\n",
       "  <tbody>\n",
       "    <tr>\n",
       "      <th>0</th>\n",
       "      <td>https://www.amazon.com/dp/B001GR05W4</td>\n",
       "      <td>Childhood Memories Musical Ballerina Jewelry B...</td>\n",
       "    </tr>\n",
       "    <tr>\n",
       "      <th>1</th>\n",
       "      <td>https://www.amazon.com/dp/B001RYA3QY</td>\n",
       "      <td>This 8\"X4\"X4\" Enchantmints Music box is nice a...</td>\n",
       "    </tr>\n",
       "    <tr>\n",
       "      <th>2</th>\n",
       "      <td>https://www.amazon.com/dp/B004A1PW1W</td>\n",
       "      <td>New unicorn check book wallet.</td>\n",
       "    </tr>\n",
       "  </tbody>\n",
       "</table>\n",
       "</div>"
      ],
      "text/plain": [
       "                                    URL  \\\n",
       "0  https://www.amazon.com/dp/B001GR05W4   \n",
       "1  https://www.amazon.com/dp/B001RYA3QY   \n",
       "2  https://www.amazon.com/dp/B004A1PW1W   \n",
       "\n",
       "                                         Description  \n",
       "0  Childhood Memories Musical Ballerina Jewelry B...  \n",
       "1  This 8\"X4\"X4\" Enchantmints Music box is nice a...  \n",
       "2                     New unicorn check book wallet.  "
      ]
     },
     "execution_count": 11,
     "metadata": {},
     "output_type": "execute_result"
    }
   ],
   "source": [
    "UIDX = 111\n",
    "\n",
    "item_id2idx = vbpr.train_set.iid_map\n",
    "item_idx2id = list(vbpr.train_set.item_ids)\n",
    "img_features = vbpr.train_set.item_image.features\n",
    "item_desc = {iid: desc for desc, iid in zip(*amazon_clothing.load_text())}\n",
    "\n",
    "print(f\"RATED ITEMS BY USER {UIDX}:\")\n",
    "rated_items = np.nonzero(vbpr.train_set.matrix[UIDX].A)[1]\n",
    "rated_df = defaultdict(list)\n",
    "for i in rated_items:\n",
    "  rated_df[\"URL\"].append(f\"https://www.amazon.com/dp/{item_idx2id[i]}\")\n",
    "  rated_df[\"Description\"].append(item_desc[item_idx2id[i]])\n",
    "pd.DataFrame(rated_df)"
   ]
  },
  {
   "cell_type": "code",
   "execution_count": 12,
   "metadata": {},
   "outputs": [
    {
     "name": "stdout",
     "output_type": "stream",
     "text": [
      "\n",
      "TOP 5 RECOMMENDATIONS:\n"
     ]
    },
    {
     "data": {
      "text/html": [
       "<div>\n",
       "<style scoped>\n",
       "    .dataframe tbody tr th:only-of-type {\n",
       "        vertical-align: middle;\n",
       "    }\n",
       "\n",
       "    .dataframe tbody tr th {\n",
       "        vertical-align: top;\n",
       "    }\n",
       "\n",
       "    .dataframe thead th {\n",
       "        text-align: right;\n",
       "    }\n",
       "</style>\n",
       "<table border=\"1\" class=\"dataframe\">\n",
       "  <thead>\n",
       "    <tr style=\"text-align: right;\">\n",
       "      <th></th>\n",
       "      <th>URL</th>\n",
       "      <th>Score</th>\n",
       "      <th>CF Contribution</th>\n",
       "      <th>Visual Contribution</th>\n",
       "      <th>Description</th>\n",
       "    </tr>\n",
       "  </thead>\n",
       "  <tbody>\n",
       "    <tr>\n",
       "      <th>0</th>\n",
       "      <td>https://www.amazon.com/dp/B0036FFHBS</td>\n",
       "      <td>7.952936</td>\n",
       "      <td>0.330606</td>\n",
       "      <td>7.622330</td>\n",
       "      <td>this item is for 10 Pcs these assorted colored...</td>\n",
       "    </tr>\n",
       "    <tr>\n",
       "      <th>1</th>\n",
       "      <td>https://www.amazon.com/dp/B000I7ZHO4</td>\n",
       "      <td>7.934871</td>\n",
       "      <td>-0.035678</td>\n",
       "      <td>7.970549</td>\n",
       "      <td>Play music in the tub. Real flutes for the tub...</td>\n",
       "    </tr>\n",
       "    <tr>\n",
       "      <th>2</th>\n",
       "      <td>https://www.amazon.com/dp/B007OSAY2U</td>\n",
       "      <td>7.389404</td>\n",
       "      <td>-0.068125</td>\n",
       "      <td>7.457529</td>\n",
       "      <td>This offer includes 100 pieces HIGH PREMIUM QU...</td>\n",
       "    </tr>\n",
       "    <tr>\n",
       "      <th>3</th>\n",
       "      <td>https://www.amazon.com/dp/B001GR05W4</td>\n",
       "      <td>7.338340</td>\n",
       "      <td>0.621271</td>\n",
       "      <td>6.717068</td>\n",
       "      <td>Childhood Memories Musical Ballerina Jewelry B...</td>\n",
       "    </tr>\n",
       "    <tr>\n",
       "      <th>4</th>\n",
       "      <td>https://www.amazon.com/dp/B0000CNR1L</td>\n",
       "      <td>6.929195</td>\n",
       "      <td>0.229353</td>\n",
       "      <td>6.699842</td>\n",
       "      <td>No more digging around in deep toiletries bags...</td>\n",
       "    </tr>\n",
       "  </tbody>\n",
       "</table>\n",
       "</div>"
      ],
      "text/plain": [
       "                                    URL     Score  CF Contribution  \\\n",
       "0  https://www.amazon.com/dp/B0036FFHBS  7.952936         0.330606   \n",
       "1  https://www.amazon.com/dp/B000I7ZHO4  7.934871        -0.035678   \n",
       "2  https://www.amazon.com/dp/B007OSAY2U  7.389404        -0.068125   \n",
       "3  https://www.amazon.com/dp/B001GR05W4  7.338340         0.621271   \n",
       "4  https://www.amazon.com/dp/B0000CNR1L  6.929195         0.229353   \n",
       "\n",
       "   Visual Contribution                                        Description  \n",
       "0             7.622330  this item is for 10 Pcs these assorted colored...  \n",
       "1             7.970549  Play music in the tub. Real flutes for the tub...  \n",
       "2             7.457529  This offer includes 100 pieces HIGH PREMIUM QU...  \n",
       "3             6.717068  Childhood Memories Musical Ballerina Jewelry B...  \n",
       "4             6.699842  No more digging around in deep toiletries bags...  "
      ]
     },
     "execution_count": 12,
     "metadata": {},
     "output_type": "execute_result"
    }
   ],
   "source": [
    "TOPK = 5\n",
    "\n",
    "recommendations, scores = vbpr.rank(UIDX)\n",
    "\n",
    "print(f\"\\nTOP {TOPK} RECOMMENDATIONS:\")\n",
    "rec_df = defaultdict(list)\n",
    "for i in recommendations[:TOPK]:\n",
    "  cf_contrib = vbpr.beta_item[i] + np.dot(vbpr.gamma_item[i], vbpr.gamma_user[UIDX])\n",
    "  vis_contrib = vbpr.visual_bias[i] + np.dot(vbpr.theta_item[i], vbpr.theta_user[UIDX])\n",
    "  rec_df[\"URL\"].append(f\"https://www.amazon.com/dp/{item_idx2id[i]}\")\n",
    "  rec_df[\"Score\"].append(scores[i])\n",
    "  rec_df[\"CF Contribution\"].append(cf_contrib)\n",
    "  rec_df[\"Visual Contribution\"].append(vis_contrib)\n",
    "  rec_df[\"Description\"].append(item_desc[item_idx2id[i]])\n",
    "pd.DataFrame(rec_df)"
   ]
  }
 ],
 "metadata": {
  "kernelspec": {
   "display_name": "moontorch",
   "language": "python",
   "name": "python3"
  },
  "language_info": {
   "codemirror_mode": {
    "name": "ipython",
    "version": 3
   },
   "file_extension": ".py",
   "mimetype": "text/x-python",
   "name": "python",
   "nbconvert_exporter": "python",
   "pygments_lexer": "ipython3",
   "version": "3.12.4"
  }
 },
 "nbformat": 4,
 "nbformat_minor": 2
}
