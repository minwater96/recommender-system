{
 "cells": [
  {
   "cell_type": "markdown",
   "id": "7d036ee2",
   "metadata": {},
   "source": [
    "<font color='tomato'><font color=\"#CC3D3D\"><p>\n",
    "# A Tutorial on Cornac version of ConvNCF"
   ]
  },
  {
   "cell_type": "markdown",
   "id": "0f3b8867",
   "metadata": {},
   "source": [
    "- *\"Outer Product-based Neural Collaborative Filtering\", X. He, et al., IJCAI 2018.*\n",
    "- 원 논문에서는 BPR(Bayesian Personalized Ranking)을 사용하여 학습했으나, 코드의 복잡도를 고려하여 이 버전에서는 제외함. \n",
    "- 임베딩층, 컨볼루션층, 출력층 각각에 서로 다른 가중치 규제를 적용했으나, 이 버전에서는 적용하지 않음.\n",
    "\n",
    "<img align='left' src='ConvNcf.png' width=800/>"
   ]
  },
  {
   "cell_type": "markdown",
   "id": "1e0d985e",
   "metadata": {},
   "source": [
    "### Setup"
   ]
  },
  {
   "cell_type": "code",
   "execution_count": null,
   "id": "4a9584e0",
   "metadata": {},
   "outputs": [],
   "source": [
    "import pandas as pd\n",
    "import numpy as np\n",
    "\n",
    "from msr.cornac_utils import predict_ranking\n",
    "from msr.python_splitters import python_stratified_split\n",
    "\n",
    "# Cornac API \n",
    "import cornac\n",
    "print(f\"Cornac version: {cornac.__version__}\")\n",
    "from cornac.eval_methods import BaseMethod, RatioSplit, StratifiedSplit, CrossValidation\n",
    "from cornac.metrics import Precision, Recall, NDCG, AUC, MAP\n",
    "\n",
    "# Custom models\n",
    "from recom_convncf import ConvNCF"
   ]
  },
  {
   "cell_type": "code",
   "execution_count": null,
   "id": "86eecaea",
   "metadata": {},
   "outputs": [],
   "source": [
    "# Data column definition\n",
    "DEFAULT_USER_COL = 'resume_seq'\n",
    "DEFAULT_ITEM_COL = 'recruitment_seq'\n",
    "DEFAULT_RATING_COL = 'rating'\n",
    "DEFAULT_PREDICTION_COL = 'prediction'\n",
    "\n",
    "# Top k items to recommend\n",
    "TOP_K = 5\n",
    "\n",
    "# Random seed, Verbose, etc.\n",
    "SEED = 202311\n",
    "VERBOSE = True"
   ]
  },
  {
   "cell_type": "markdown",
   "id": "be84a3ae",
   "metadata": {},
   "source": [
    "### Preprocessing"
   ]
  },
  {
   "cell_type": "code",
   "execution_count": null,
   "id": "75e23a63",
   "metadata": {},
   "outputs": [],
   "source": [
    "# 데이터 로딩\n",
    "data = pd.read_csv('apply_train.csv')\n",
    "data[DEFAULT_RATING_COL] = 1  # Cornac에서 지정한 데이터형식(UIR: User, Item, Rating)에 따라\n",
    "\n",
    "# 데이터 분할\n",
    "train, test = python_stratified_split(\n",
    "    data, \n",
    "    filter_by=\"user\", \n",
    "    ratio=0.7,\n",
    "    col_user=DEFAULT_USER_COL, col_item=DEFAULT_ITEM_COL,\n",
    "    seed=SEED\n",
    ")"
   ]
  },
  {
   "cell_type": "markdown",
   "id": "927d3d41",
   "metadata": {},
   "source": [
    "### Modeling"
   ]
  },
  {
   "cell_type": "code",
   "execution_count": null,
   "id": "e6083aba",
   "metadata": {},
   "outputs": [],
   "source": [
    "params = {\n",
    "    'num_factors': 64,\n",
    "    'num_channel': 32,\n",
    "    'act_fn': \"relu\",\n",
    "    'n_epochs': 1000,\n",
    "    'batch_size': 512,\n",
    "    'num_neg': 4,\n",
    "    'learner': \"adam\",     \n",
    "    'learning_rate': 0.001,\n",
    "}\n",
    "\n",
    "model = ConvNCF(**params, seed=SEED, verbose=VERBOSE)"
   ]
  },
  {
   "cell_type": "markdown",
   "id": "c77c92f6",
   "metadata": {},
   "source": [
    "### Evaluation"
   ]
  },
  {
   "cell_type": "code",
   "execution_count": null,
   "id": "cdb1d657",
   "metadata": {
    "scrolled": true
   },
   "outputs": [],
   "source": [
    "# 평가방법 설정\n",
    "eval_method = BaseMethod.from_splits(\n",
    "    train_data=np.array(train), \n",
    "    test_data=np.array(test), \n",
    "    exclude_unknowns=True,  # Unknown users and items will be ignored.\n",
    "    verbose=True\n",
    ")\n",
    "\n",
    "# 평가척도 설정\n",
    "metrics = [Recall(k=TOP_K), NDCG(k=TOP_K)]\n",
    "\n",
    "# 실험 수행\n",
    "cornac.Experiment(\n",
    "    eval_method=eval_method,\n",
    "    models=[model],\n",
    "    metrics=metrics,\n",
    ").run()"
   ]
  },
  {
   "cell_type": "markdown",
   "id": "4d143939",
   "metadata": {},
   "source": [
    "### Deployment"
   ]
  },
  {
   "cell_type": "code",
   "execution_count": null,
   "id": "6fb27c54",
   "metadata": {},
   "outputs": [],
   "source": [
    "# 전체 데이터로 다시 학습\n",
    "full_data = cornac.data.Dataset.from_uir(data.itertuples(index=False), seed=SEED)\n",
    "model = ConvNCF(**params, verbose=VERBOSE, seed=SEED)  \n",
    "model.fit(full_data)\n",
    "\n",
    "# 모든 item에 대한 예측값 생성\n",
    "all_pred = predict_ranking(\n",
    "    model, data, \n",
    "    usercol=DEFAULT_USER_COL, itemcol=DEFAULT_ITEM_COL, \n",
    "    remove_seen=True\n",
    ")\n",
    "\n",
    "# Top-K item 생성\n",
    "top_k = (\n",
    "    all_pred\n",
    "    .groupby(DEFAULT_USER_COL)\n",
    "    .apply(lambda x: x.nlargest(TOP_K, DEFAULT_PREDICTION_COL))\n",
    "    .reset_index(drop=True)\n",
    "    .drop(DEFAULT_PREDICTION_COL, axis=1)\n",
    "    .sort_values(by=DEFAULT_USER_COL)\n",
    ")\n",
    "\n",
    "# submission 화일 저장\n",
    "#t = pd.Timestamp.now()\n",
    "#fname = f\"submit_{model.name}_{t.month:02}{t.day:02}{t.hour:02}{t.minute:02}.csv\"\n",
    "#top_k.to_csv(fname, index=False)"
   ]
  },
  {
   "cell_type": "markdown",
   "id": "eda7c9e4",
   "metadata": {},
   "source": [
    "<font color='tomato'><font color=\"#CC3D3D\"><p>\n",
    "# End"
   ]
  }
 ],
 "metadata": {
  "kernelspec": {
   "display_name": "moontorch",
   "language": "python",
   "name": "python3"
  },
  "language_info": {
   "codemirror_mode": {
    "name": "ipython",
    "version": 3
   },
   "file_extension": ".py",
   "mimetype": "text/x-python",
   "name": "python",
   "nbconvert_exporter": "python",
   "pygments_lexer": "ipython3",
   "version": "3.8.19"
  }
 },
 "nbformat": 4,
 "nbformat_minor": 5
}
