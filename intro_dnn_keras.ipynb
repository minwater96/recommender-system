{
 "cells": [
  {
   "cell_type": "markdown",
   "id": "5da7e746",
   "metadata": {},
   "source": [
    "<font color=\"#CC3D3D\"><p>\n",
    "# Building a DNN Model with Keras"
   ]
  },
  {
   "cell_type": "markdown",
   "id": "56d30296",
   "metadata": {},
   "source": [
    "####  전역변수 설정"
   ]
  },
  {
   "cell_type": "code",
   "execution_count": 9,
   "id": "fdd241e7",
   "metadata": {},
   "outputs": [],
   "source": [
    "DNN_VERSION = 1.0  # Model version\n",
    "SEED = 0           # random_state 지정"
   ]
  },
  {
   "cell_type": "code",
   "execution_count": 8,
   "id": "753b3348",
   "metadata": {},
   "outputs": [
    {
     "name": "stdout",
     "output_type": "stream",
     "text": [
      "Collecting keras-tuner\n",
      "  Downloading keras_tuner-1.4.7-py3-none-any.whl.metadata (5.4 kB)\n",
      "Requirement already satisfied: keras in ./venv/lib/python3.12/site-packages (from keras-tuner) (3.6.0)\n",
      "Requirement already satisfied: packaging in ./venv/lib/python3.12/site-packages (from keras-tuner) (24.1)\n",
      "Requirement already satisfied: requests in ./venv/lib/python3.12/site-packages (from keras-tuner) (2.32.3)\n",
      "Collecting kt-legacy (from keras-tuner)\n",
      "  Downloading kt_legacy-1.0.5-py3-none-any.whl.metadata (221 bytes)\n",
      "Requirement already satisfied: absl-py in ./venv/lib/python3.12/site-packages (from keras->keras-tuner) (2.1.0)\n",
      "Requirement already satisfied: numpy in ./venv/lib/python3.12/site-packages (from keras->keras-tuner) (2.0.2)\n",
      "Requirement already satisfied: rich in ./venv/lib/python3.12/site-packages (from keras->keras-tuner) (13.9.4)\n",
      "Requirement already satisfied: namex in ./venv/lib/python3.12/site-packages (from keras->keras-tuner) (0.0.8)\n",
      "Requirement already satisfied: h5py in ./venv/lib/python3.12/site-packages (from keras->keras-tuner) (3.12.1)\n",
      "Requirement already satisfied: optree in ./venv/lib/python3.12/site-packages (from keras->keras-tuner) (0.13.0)\n",
      "Requirement already satisfied: ml-dtypes in ./venv/lib/python3.12/site-packages (from keras->keras-tuner) (0.4.1)\n",
      "Requirement already satisfied: charset-normalizer<4,>=2 in ./venv/lib/python3.12/site-packages (from requests->keras-tuner) (3.4.0)\n",
      "Requirement already satisfied: idna<4,>=2.5 in ./venv/lib/python3.12/site-packages (from requests->keras-tuner) (3.10)\n",
      "Requirement already satisfied: urllib3<3,>=1.21.1 in ./venv/lib/python3.12/site-packages (from requests->keras-tuner) (2.2.3)\n",
      "Requirement already satisfied: certifi>=2017.4.17 in ./venv/lib/python3.12/site-packages (from requests->keras-tuner) (2024.8.30)\n",
      "Requirement already satisfied: typing-extensions>=4.5.0 in ./venv/lib/python3.12/site-packages (from optree->keras->keras-tuner) (4.12.2)\n",
      "Requirement already satisfied: markdown-it-py>=2.2.0 in ./venv/lib/python3.12/site-packages (from rich->keras->keras-tuner) (3.0.0)\n",
      "Requirement already satisfied: pygments<3.0.0,>=2.13.0 in ./venv/lib/python3.12/site-packages (from rich->keras->keras-tuner) (2.18.0)\n",
      "Requirement already satisfied: mdurl~=0.1 in ./venv/lib/python3.12/site-packages (from markdown-it-py>=2.2.0->rich->keras->keras-tuner) (0.1.2)\n",
      "Downloading keras_tuner-1.4.7-py3-none-any.whl (129 kB)\n",
      "\u001b[2K   \u001b[90m━━━━━━━━━━━━━━━━━━━━━━━━━━━━━━━━━━━━━━━━\u001b[0m \u001b[32m129.1/129.1 kB\u001b[0m \u001b[31m4.3 MB/s\u001b[0m eta \u001b[36m0:00:00\u001b[0m\n",
      "\u001b[?25hDownloading kt_legacy-1.0.5-py3-none-any.whl (9.6 kB)\n",
      "Installing collected packages: kt-legacy, keras-tuner\n",
      "Successfully installed keras-tuner-1.4.7 kt-legacy-1.0.5\n",
      "\n",
      "\u001b[1m[\u001b[0m\u001b[34;49mnotice\u001b[0m\u001b[1;39;49m]\u001b[0m\u001b[39;49m A new release of pip is available: \u001b[0m\u001b[31;49m24.0\u001b[0m\u001b[39;49m -> \u001b[0m\u001b[32;49m24.3.1\u001b[0m\n",
      "\u001b[1m[\u001b[0m\u001b[34;49mnotice\u001b[0m\u001b[1;39;49m]\u001b[0m\u001b[39;49m To update, run: \u001b[0m\u001b[32;49mpip install --upgrade pip\u001b[0m\n",
      "Note: you may need to restart the kernel to use updated packages.\n"
     ]
    }
   ],
   "source": [
    "pip install keras-tuner"
   ]
  },
  {
   "cell_type": "code",
   "execution_count": 6,
   "id": "2c26e42c",
   "metadata": {},
   "outputs": [
    {
     "name": "stdout",
     "output_type": "stream",
     "text": [
      "Collecting keras-tuner\n",
      "  Using cached keras_tuner-1.4.7-py3-none-any.whl.metadata (5.4 kB)\n",
      "Requirement already satisfied: keras in /Users/kimminsu/.pyenv/versions/3.12.4/lib/python3.12/site-packages (from keras-tuner) (3.4.1)\n",
      "Requirement already satisfied: packaging in /Users/kimminsu/.pyenv/versions/3.12.4/lib/python3.12/site-packages (from keras-tuner) (24.1)\n",
      "Requirement already satisfied: requests in /Users/kimminsu/.pyenv/versions/3.12.4/lib/python3.12/site-packages (from keras-tuner) (2.32.3)\n",
      "Collecting kt-legacy (from keras-tuner)\n",
      "  Using cached kt_legacy-1.0.5-py3-none-any.whl.metadata (221 bytes)\n",
      "Requirement already satisfied: absl-py in /Users/kimminsu/.pyenv/versions/3.12.4/lib/python3.12/site-packages (from keras->keras-tuner) (2.1.0)\n",
      "Requirement already satisfied: numpy in /Users/kimminsu/.pyenv/versions/3.12.4/lib/python3.12/site-packages (from keras->keras-tuner) (1.26.4)\n",
      "Requirement already satisfied: rich in /Users/kimminsu/.pyenv/versions/3.12.4/lib/python3.12/site-packages (from keras->keras-tuner) (13.8.0)\n",
      "Requirement already satisfied: namex in /Users/kimminsu/.pyenv/versions/3.12.4/lib/python3.12/site-packages (from keras->keras-tuner) (0.0.8)\n",
      "Requirement already satisfied: h5py in /Users/kimminsu/.pyenv/versions/3.12.4/lib/python3.12/site-packages (from keras->keras-tuner) (3.11.0)\n",
      "Requirement already satisfied: optree in /Users/kimminsu/.pyenv/versions/3.12.4/lib/python3.12/site-packages (from keras->keras-tuner) (0.12.1)\n",
      "Requirement already satisfied: ml-dtypes in /Users/kimminsu/.pyenv/versions/3.12.4/lib/python3.12/site-packages (from keras->keras-tuner) (0.4.0)\n",
      "Requirement already satisfied: charset-normalizer<4,>=2 in /Users/kimminsu/.pyenv/versions/3.12.4/lib/python3.12/site-packages (from requests->keras-tuner) (3.3.2)\n",
      "Requirement already satisfied: idna<4,>=2.5 in /Users/kimminsu/.pyenv/versions/3.12.4/lib/python3.12/site-packages (from requests->keras-tuner) (3.8)\n",
      "Requirement already satisfied: urllib3<3,>=1.21.1 in /Users/kimminsu/.pyenv/versions/3.12.4/lib/python3.12/site-packages (from requests->keras-tuner) (2.2.2)\n",
      "Requirement already satisfied: certifi>=2017.4.17 in /Users/kimminsu/.pyenv/versions/3.12.4/lib/python3.12/site-packages (from requests->keras-tuner) (2024.8.30)\n",
      "Requirement already satisfied: typing-extensions>=4.5.0 in /Users/kimminsu/.pyenv/versions/3.12.4/lib/python3.12/site-packages (from optree->keras->keras-tuner) (4.12.2)\n",
      "Requirement already satisfied: markdown-it-py>=2.2.0 in /Users/kimminsu/.pyenv/versions/3.12.4/lib/python3.12/site-packages (from rich->keras->keras-tuner) (3.0.0)\n",
      "Requirement already satisfied: pygments<3.0.0,>=2.13.0 in /Users/kimminsu/.pyenv/versions/3.12.4/lib/python3.12/site-packages (from rich->keras->keras-tuner) (2.18.0)\n",
      "Requirement already satisfied: mdurl~=0.1 in /Users/kimminsu/.pyenv/versions/3.12.4/lib/python3.12/site-packages (from markdown-it-py>=2.2.0->rich->keras->keras-tuner) (0.1.2)\n",
      "Using cached keras_tuner-1.4.7-py3-none-any.whl (129 kB)\n",
      "Using cached kt_legacy-1.0.5-py3-none-any.whl (9.6 kB)\n",
      "Installing collected packages: kt-legacy, keras-tuner\n",
      "Successfully installed keras-tuner-1.4.7 kt-legacy-1.0.5\n",
      "\n",
      "\u001b[1m[\u001b[0m\u001b[34;49mnotice\u001b[0m\u001b[1;39;49m]\u001b[0m\u001b[39;49m A new release of pip is available: \u001b[0m\u001b[31;49m24.0\u001b[0m\u001b[39;49m -> \u001b[0m\u001b[32;49m24.3.1\u001b[0m\n",
      "\u001b[1m[\u001b[0m\u001b[34;49mnotice\u001b[0m\u001b[1;39;49m]\u001b[0m\u001b[39;49m To update, run: \u001b[0m\u001b[32;49mpip install --upgrade pip\u001b[0m\n",
      "Note: you may need to restart the kernel to use updated packages.\n"
     ]
    }
   ],
   "source": [
    "   pip install keras-tuner"
   ]
  },
  {
   "cell_type": "code",
   "execution_count": 10,
   "id": "b30716da",
   "metadata": {},
   "outputs": [
    {
     "name": "stdout",
     "output_type": "stream",
     "text": [
      "2.17.0\n"
     ]
    }
   ],
   "source": [
    "%matplotlib inline\n",
    "import warnings\n",
    "warnings.filterwarnings(\"ignore\")\n",
    "\n",
    "import pandas as pd\n",
    "import numpy as np\n",
    "import matplotlib.pyplot as plt\n",
    "import seaborn as sns\n",
    "from sklearn.model_selection import train_test_split\n",
    "import random\n",
    "\n",
    "import tensorflow as tf\n",
    "from tensorflow import keras\n",
    "import kerastuner as kt\n",
    "print(tf.__version__)"
   ]
  },
  {
   "cell_type": "code",
   "execution_count": 11,
   "id": "57bb9d53",
   "metadata": {},
   "outputs": [
    {
     "name": "stdout",
     "output_type": "stream",
     "text": [
      "RANDOM SEEDS RESET\n"
     ]
    }
   ],
   "source": [
    "# 매번 모델링을 할 때마다 동일한 결과를 얻으려면 아래 코드를 실행해야 함.\n",
    "\n",
    "def reset_seeds(reset_graph_with_backend=None):\n",
    "    if reset_graph_with_backend is not None:\n",
    "        K = reset_graph_with_backend\n",
    "        K.clear_session()\n",
    "        tf.compat.v1.reset_default_graph()\n",
    "        print(\"KERAS AND TENSORFLOW GRAPHS RESET\")  # optional\n",
    "\n",
    "    np.random.seed(SEED)\n",
    "    random.seed(SEED)\n",
    "    tf.compat.v1.set_random_seed(SEED)\n",
    "#    os.environ['CUDA_VISIBLE_DEVICES'] = ''  # for GPU\n",
    "    print(\"RANDOM SEEDS RESET\")  # optional\n",
    "   \n",
    "reset_seeds()"
   ]
  },
  {
   "cell_type": "markdown",
   "id": "ba99e2ab",
   "metadata": {},
   "source": [
    "#### (전처리된) 데이터 로딩"
   ]
  },
  {
   "cell_type": "code",
   "execution_count": 14,
   "id": "66e6b3f0",
   "metadata": {},
   "outputs": [],
   "source": [
    "# 학습 데이터\n",
    "X_train = pd.read_csv('/Users/kimminsu/Desktop/AI,BIGDATA CLASS/Recommender System/data/X_train.csv').drop(columns='ID')\n",
    "y_train = pd.read_csv('/Users/kimminsu/Desktop/AI,BIGDATA CLASS/Recommender System/data/y_train.csv').Salary\n",
    "\n",
    "# 평가 데이터\n",
    "X_test = pd.read_csv('/Users/kimminsu/Desktop/AI,BIGDATA CLASS/Recommender System/data/X_test.csv')\n",
    "test_id = X_test.ID\n",
    "X_test = X_test.drop(columns='ID')"
   ]
  },
  {
   "cell_type": "code",
   "execution_count": 15,
   "id": "3274ade7",
   "metadata": {},
   "outputs": [
    {
     "data": {
      "text/html": [
       "<div>\n",
       "<style scoped>\n",
       "    .dataframe tbody tr th:only-of-type {\n",
       "        vertical-align: middle;\n",
       "    }\n",
       "\n",
       "    .dataframe tbody tr th {\n",
       "        vertical-align: top;\n",
       "    }\n",
       "\n",
       "    .dataframe thead th {\n",
       "        text-align: right;\n",
       "    }\n",
       "</style>\n",
       "<table border=\"1\" class=\"dataframe\">\n",
       "  <thead>\n",
       "    <tr style=\"text-align: right;\">\n",
       "      <th></th>\n",
       "      <th>f001</th>\n",
       "      <th>f002</th>\n",
       "      <th>f003</th>\n",
       "      <th>f004</th>\n",
       "      <th>f005</th>\n",
       "      <th>f006</th>\n",
       "      <th>f007</th>\n",
       "      <th>f008</th>\n",
       "      <th>f009</th>\n",
       "      <th>f010</th>\n",
       "      <th>...</th>\n",
       "      <th>f678</th>\n",
       "      <th>f679</th>\n",
       "      <th>f680</th>\n",
       "      <th>f681</th>\n",
       "      <th>f682</th>\n",
       "      <th>f683</th>\n",
       "      <th>f684</th>\n",
       "      <th>f685</th>\n",
       "      <th>f686</th>\n",
       "      <th>f687</th>\n",
       "    </tr>\n",
       "  </thead>\n",
       "  <tbody>\n",
       "    <tr>\n",
       "      <th>0</th>\n",
       "      <td>-0.030378</td>\n",
       "      <td>-0.646419</td>\n",
       "      <td>1.507623</td>\n",
       "      <td>-1.896928</td>\n",
       "      <td>-0.642709</td>\n",
       "      <td>-0.524335</td>\n",
       "      <td>-2.192519</td>\n",
       "      <td>4.448684</td>\n",
       "      <td>0.065995</td>\n",
       "      <td>1.310752</td>\n",
       "      <td>...</td>\n",
       "      <td>0</td>\n",
       "      <td>0</td>\n",
       "      <td>0</td>\n",
       "      <td>0</td>\n",
       "      <td>0</td>\n",
       "      <td>0</td>\n",
       "      <td>0</td>\n",
       "      <td>1</td>\n",
       "      <td>0</td>\n",
       "      <td>0</td>\n",
       "    </tr>\n",
       "    <tr>\n",
       "      <th>1</th>\n",
       "      <td>0.261887</td>\n",
       "      <td>0.021290</td>\n",
       "      <td>-0.831830</td>\n",
       "      <td>-0.733281</td>\n",
       "      <td>0.006152</td>\n",
       "      <td>-0.315621</td>\n",
       "      <td>-0.829256</td>\n",
       "      <td>-0.206005</td>\n",
       "      <td>-0.447145</td>\n",
       "      <td>-2.128087</td>\n",
       "      <td>...</td>\n",
       "      <td>0</td>\n",
       "      <td>0</td>\n",
       "      <td>0</td>\n",
       "      <td>0</td>\n",
       "      <td>0</td>\n",
       "      <td>0</td>\n",
       "      <td>1</td>\n",
       "      <td>0</td>\n",
       "      <td>0</td>\n",
       "      <td>0</td>\n",
       "    </tr>\n",
       "    <tr>\n",
       "      <th>2</th>\n",
       "      <td>-1.078848</td>\n",
       "      <td>-0.646419</td>\n",
       "      <td>-0.930195</td>\n",
       "      <td>-0.662700</td>\n",
       "      <td>-0.642709</td>\n",
       "      <td>-0.524335</td>\n",
       "      <td>-2.192519</td>\n",
       "      <td>-0.315188</td>\n",
       "      <td>-0.427094</td>\n",
       "      <td>0.595404</td>\n",
       "      <td>...</td>\n",
       "      <td>0</td>\n",
       "      <td>0</td>\n",
       "      <td>0</td>\n",
       "      <td>0</td>\n",
       "      <td>0</td>\n",
       "      <td>0</td>\n",
       "      <td>0</td>\n",
       "      <td>1</td>\n",
       "      <td>0</td>\n",
       "      <td>0</td>\n",
       "    </tr>\n",
       "    <tr>\n",
       "      <th>3</th>\n",
       "      <td>-2.098447</td>\n",
       "      <td>-0.417490</td>\n",
       "      <td>-0.846133</td>\n",
       "      <td>0.315168</td>\n",
       "      <td>-0.420242</td>\n",
       "      <td>-0.381217</td>\n",
       "      <td>-0.679935</td>\n",
       "      <td>-0.510454</td>\n",
       "      <td>-0.456195</td>\n",
       "      <td>0.595404</td>\n",
       "      <td>...</td>\n",
       "      <td>0</td>\n",
       "      <td>0</td>\n",
       "      <td>0</td>\n",
       "      <td>0</td>\n",
       "      <td>0</td>\n",
       "      <td>0</td>\n",
       "      <td>0</td>\n",
       "      <td>1</td>\n",
       "      <td>0</td>\n",
       "      <td>0</td>\n",
       "    </tr>\n",
       "    <tr>\n",
       "      <th>4</th>\n",
       "      <td>-2.402089</td>\n",
       "      <td>-0.646419</td>\n",
       "      <td>-0.846133</td>\n",
       "      <td>-1.454795</td>\n",
       "      <td>-0.642709</td>\n",
       "      <td>-0.524335</td>\n",
       "      <td>-2.192519</td>\n",
       "      <td>-0.619515</td>\n",
       "      <td>-0.402222</td>\n",
       "      <td>-0.464443</td>\n",
       "      <td>...</td>\n",
       "      <td>0</td>\n",
       "      <td>0</td>\n",
       "      <td>0</td>\n",
       "      <td>0</td>\n",
       "      <td>0</td>\n",
       "      <td>0</td>\n",
       "      <td>0</td>\n",
       "      <td>1</td>\n",
       "      <td>0</td>\n",
       "      <td>0</td>\n",
       "    </tr>\n",
       "    <tr>\n",
       "      <th>...</th>\n",
       "      <td>...</td>\n",
       "      <td>...</td>\n",
       "      <td>...</td>\n",
       "      <td>...</td>\n",
       "      <td>...</td>\n",
       "      <td>...</td>\n",
       "      <td>...</td>\n",
       "      <td>...</td>\n",
       "      <td>...</td>\n",
       "      <td>...</td>\n",
       "      <td>...</td>\n",
       "      <td>...</td>\n",
       "      <td>...</td>\n",
       "      <td>...</td>\n",
       "      <td>...</td>\n",
       "      <td>...</td>\n",
       "      <td>...</td>\n",
       "      <td>...</td>\n",
       "      <td>...</td>\n",
       "      <td>...</td>\n",
       "      <td>...</td>\n",
       "    </tr>\n",
       "    <tr>\n",
       "      <th>16565</th>\n",
       "      <td>0.356914</td>\n",
       "      <td>-0.646419</td>\n",
       "      <td>-0.762070</td>\n",
       "      <td>-0.688668</td>\n",
       "      <td>-0.642709</td>\n",
       "      <td>-0.524335</td>\n",
       "      <td>-0.848000</td>\n",
       "      <td>2.287319</td>\n",
       "      <td>-0.392606</td>\n",
       "      <td>-0.749506</td>\n",
       "      <td>...</td>\n",
       "      <td>0</td>\n",
       "      <td>0</td>\n",
       "      <td>0</td>\n",
       "      <td>0</td>\n",
       "      <td>0</td>\n",
       "      <td>0</td>\n",
       "      <td>0</td>\n",
       "      <td>1</td>\n",
       "      <td>0</td>\n",
       "      <td>0</td>\n",
       "    </tr>\n",
       "    <tr>\n",
       "      <th>16566</th>\n",
       "      <td>0.795411</td>\n",
       "      <td>-0.646419</td>\n",
       "      <td>1.507623</td>\n",
       "      <td>-0.001319</td>\n",
       "      <td>-0.642709</td>\n",
       "      <td>-0.524335</td>\n",
       "      <td>0.537649</td>\n",
       "      <td>-0.206005</td>\n",
       "      <td>-0.029140</td>\n",
       "      <td>1.310752</td>\n",
       "      <td>...</td>\n",
       "      <td>0</td>\n",
       "      <td>0</td>\n",
       "      <td>0</td>\n",
       "      <td>0</td>\n",
       "      <td>0</td>\n",
       "      <td>0</td>\n",
       "      <td>0</td>\n",
       "      <td>1</td>\n",
       "      <td>0</td>\n",
       "      <td>0</td>\n",
       "    </tr>\n",
       "    <tr>\n",
       "      <th>16567</th>\n",
       "      <td>0.261887</td>\n",
       "      <td>-0.646419</td>\n",
       "      <td>-0.846133</td>\n",
       "      <td>-0.733281</td>\n",
       "      <td>-0.642709</td>\n",
       "      <td>-0.524335</td>\n",
       "      <td>-0.829256</td>\n",
       "      <td>-0.206005</td>\n",
       "      <td>0.026992</td>\n",
       "      <td>0.595404</td>\n",
       "      <td>...</td>\n",
       "      <td>0</td>\n",
       "      <td>0</td>\n",
       "      <td>0</td>\n",
       "      <td>0</td>\n",
       "      <td>0</td>\n",
       "      <td>0</td>\n",
       "      <td>1</td>\n",
       "      <td>0</td>\n",
       "      <td>0</td>\n",
       "      <td>0</td>\n",
       "    </tr>\n",
       "    <tr>\n",
       "      <th>16568</th>\n",
       "      <td>-1.913065</td>\n",
       "      <td>-0.646419</td>\n",
       "      <td>0.919184</td>\n",
       "      <td>0.416007</td>\n",
       "      <td>-0.642709</td>\n",
       "      <td>-0.524335</td>\n",
       "      <td>-0.609389</td>\n",
       "      <td>1.761456</td>\n",
       "      <td>-0.368161</td>\n",
       "      <td>-1.283700</td>\n",
       "      <td>...</td>\n",
       "      <td>0</td>\n",
       "      <td>0</td>\n",
       "      <td>0</td>\n",
       "      <td>0</td>\n",
       "      <td>0</td>\n",
       "      <td>0</td>\n",
       "      <td>0</td>\n",
       "      <td>1</td>\n",
       "      <td>0</td>\n",
       "      <td>0</td>\n",
       "    </tr>\n",
       "    <tr>\n",
       "      <th>16569</th>\n",
       "      <td>0.631172</td>\n",
       "      <td>-0.646419</td>\n",
       "      <td>-0.678007</td>\n",
       "      <td>1.064302</td>\n",
       "      <td>-0.642709</td>\n",
       "      <td>-0.524335</td>\n",
       "      <td>-0.275675</td>\n",
       "      <td>-0.510454</td>\n",
       "      <td>-0.142529</td>\n",
       "      <td>0.267603</td>\n",
       "      <td>...</td>\n",
       "      <td>0</td>\n",
       "      <td>0</td>\n",
       "      <td>0</td>\n",
       "      <td>0</td>\n",
       "      <td>0</td>\n",
       "      <td>0</td>\n",
       "      <td>0</td>\n",
       "      <td>1</td>\n",
       "      <td>0</td>\n",
       "      <td>0</td>\n",
       "    </tr>\n",
       "  </tbody>\n",
       "</table>\n",
       "<p>16570 rows × 687 columns</p>\n",
       "</div>"
      ],
      "text/plain": [
       "           f001      f002      f003      f004      f005      f006      f007  \\\n",
       "0     -0.030378 -0.646419  1.507623 -1.896928 -0.642709 -0.524335 -2.192519   \n",
       "1      0.261887  0.021290 -0.831830 -0.733281  0.006152 -0.315621 -0.829256   \n",
       "2     -1.078848 -0.646419 -0.930195 -0.662700 -0.642709 -0.524335 -2.192519   \n",
       "3     -2.098447 -0.417490 -0.846133  0.315168 -0.420242 -0.381217 -0.679935   \n",
       "4     -2.402089 -0.646419 -0.846133 -1.454795 -0.642709 -0.524335 -2.192519   \n",
       "...         ...       ...       ...       ...       ...       ...       ...   \n",
       "16565  0.356914 -0.646419 -0.762070 -0.688668 -0.642709 -0.524335 -0.848000   \n",
       "16566  0.795411 -0.646419  1.507623 -0.001319 -0.642709 -0.524335  0.537649   \n",
       "16567  0.261887 -0.646419 -0.846133 -0.733281 -0.642709 -0.524335 -0.829256   \n",
       "16568 -1.913065 -0.646419  0.919184  0.416007 -0.642709 -0.524335 -0.609389   \n",
       "16569  0.631172 -0.646419 -0.678007  1.064302 -0.642709 -0.524335 -0.275675   \n",
       "\n",
       "           f008      f009      f010  ...  f678  f679  f680  f681  f682  f683  \\\n",
       "0      4.448684  0.065995  1.310752  ...     0     0     0     0     0     0   \n",
       "1     -0.206005 -0.447145 -2.128087  ...     0     0     0     0     0     0   \n",
       "2     -0.315188 -0.427094  0.595404  ...     0     0     0     0     0     0   \n",
       "3     -0.510454 -0.456195  0.595404  ...     0     0     0     0     0     0   \n",
       "4     -0.619515 -0.402222 -0.464443  ...     0     0     0     0     0     0   \n",
       "...         ...       ...       ...  ...   ...   ...   ...   ...   ...   ...   \n",
       "16565  2.287319 -0.392606 -0.749506  ...     0     0     0     0     0     0   \n",
       "16566 -0.206005 -0.029140  1.310752  ...     0     0     0     0     0     0   \n",
       "16567 -0.206005  0.026992  0.595404  ...     0     0     0     0     0     0   \n",
       "16568  1.761456 -0.368161 -1.283700  ...     0     0     0     0     0     0   \n",
       "16569 -0.510454 -0.142529  0.267603  ...     0     0     0     0     0     0   \n",
       "\n",
       "       f684  f685  f686  f687  \n",
       "0         0     1     0     0  \n",
       "1         1     0     0     0  \n",
       "2         0     1     0     0  \n",
       "3         0     1     0     0  \n",
       "4         0     1     0     0  \n",
       "...     ...   ...   ...   ...  \n",
       "16565     0     1     0     0  \n",
       "16566     0     1     0     0  \n",
       "16567     1     0     0     0  \n",
       "16568     0     1     0     0  \n",
       "16569     0     1     0     0  \n",
       "\n",
       "[16570 rows x 687 columns]"
      ]
     },
     "execution_count": 15,
     "metadata": {},
     "output_type": "execute_result"
    }
   ],
   "source": [
    "X_train"
   ]
  },
  {
   "cell_type": "code",
   "execution_count": 16,
   "id": "2d66811f",
   "metadata": {},
   "outputs": [],
   "source": [
    "# 학습 데이터를 다시 학습과 검증 데이터로 분할\n",
    "X_train, X_valid, y_train, y_valid = train_test_split(X_train, y_train, test_size=0.1, random_state=SEED)"
   ]
  },
  {
   "cell_type": "markdown",
   "id": "3806eb8c",
   "metadata": {},
   "source": [
    "<font color=\"blue\"><p>\n",
    "#### DNN 모형 생성"
   ]
  },
  {
   "cell_type": "markdown",
   "id": "e4635c86",
   "metadata": {},
   "source": [
    "<font color=\"blue\"><p>\n",
    "- 1단계: 모형 정의하기 (입력층/은닉층/출력층 쌓기)"
   ]
  },
  {
   "cell_type": "code",
   "execution_count": 18,
   "id": "96e6937c",
   "metadata": {},
   "outputs": [],
   "source": [
    "inputs = keras.Input(shape=(X_train.shape[1], ))          # 입력층\n",
    "x = keras.layers.Dense(128, activation='relu')(inputs)  # 첫번째 은닉층\n",
    "x = keras.layers.Dense(64, activation='relu')(x)        # 두번째 은닉층\n",
    "output = keras.layers.Dense(1, activation='linear')(x)  # 출력층\n",
    "\n",
    "model = keras.Model(inputs=inputs, outputs=output)      # 입력층과 출력층을 지정함으로써 전체모형 정의"
   ]
  },
  {
   "cell_type": "code",
   "execution_count": 21,
   "id": "c4e13cea",
   "metadata": {},
   "outputs": [
    {
     "data": {
      "text/html": [
       "<pre style=\"white-space:pre;overflow-x:auto;line-height:normal;font-family:Menlo,'DejaVu Sans Mono',consolas,'Courier New',monospace\"><span style=\"font-weight: bold\">Model: \"functional\"</span>\n",
       "</pre>\n"
      ],
      "text/plain": [
       "\u001b[1mModel: \"functional\"\u001b[0m\n"
      ]
     },
     "metadata": {},
     "output_type": "display_data"
    },
    {
     "data": {
      "text/html": [
       "<pre style=\"white-space:pre;overflow-x:auto;line-height:normal;font-family:Menlo,'DejaVu Sans Mono',consolas,'Courier New',monospace\">┏━━━━━━━━━━━━━━━━━━━━━━━━━━━━━━━━━┳━━━━━━━━━━━━━━━━━━━━━━━━┳━━━━━━━━━━━━━━━┓\n",
       "┃<span style=\"font-weight: bold\"> Layer (type)                    </span>┃<span style=\"font-weight: bold\"> Output Shape           </span>┃<span style=\"font-weight: bold\">       Param # </span>┃\n",
       "┡━━━━━━━━━━━━━━━━━━━━━━━━━━━━━━━━━╇━━━━━━━━━━━━━━━━━━━━━━━━╇━━━━━━━━━━━━━━━┩\n",
       "│ input_layer_1 (<span style=\"color: #0087ff; text-decoration-color: #0087ff\">InputLayer</span>)      │ (<span style=\"color: #00d7ff; text-decoration-color: #00d7ff\">None</span>, <span style=\"color: #00af00; text-decoration-color: #00af00\">687</span>)            │             <span style=\"color: #00af00; text-decoration-color: #00af00\">0</span> │\n",
       "├─────────────────────────────────┼────────────────────────┼───────────────┤\n",
       "│ dense (<span style=\"color: #0087ff; text-decoration-color: #0087ff\">Dense</span>)                   │ (<span style=\"color: #00d7ff; text-decoration-color: #00d7ff\">None</span>, <span style=\"color: #00af00; text-decoration-color: #00af00\">128</span>)            │        <span style=\"color: #00af00; text-decoration-color: #00af00\">88,064</span> │\n",
       "├─────────────────────────────────┼────────────────────────┼───────────────┤\n",
       "│ dense_1 (<span style=\"color: #0087ff; text-decoration-color: #0087ff\">Dense</span>)                 │ (<span style=\"color: #00d7ff; text-decoration-color: #00d7ff\">None</span>, <span style=\"color: #00af00; text-decoration-color: #00af00\">64</span>)             │         <span style=\"color: #00af00; text-decoration-color: #00af00\">8,256</span> │\n",
       "├─────────────────────────────────┼────────────────────────┼───────────────┤\n",
       "│ dense_2 (<span style=\"color: #0087ff; text-decoration-color: #0087ff\">Dense</span>)                 │ (<span style=\"color: #00d7ff; text-decoration-color: #00d7ff\">None</span>, <span style=\"color: #00af00; text-decoration-color: #00af00\">1</span>)              │            <span style=\"color: #00af00; text-decoration-color: #00af00\">65</span> │\n",
       "└─────────────────────────────────┴────────────────────────┴───────────────┘\n",
       "</pre>\n"
      ],
      "text/plain": [
       "┏━━━━━━━━━━━━━━━━━━━━━━━━━━━━━━━━━┳━━━━━━━━━━━━━━━━━━━━━━━━┳━━━━━━━━━━━━━━━┓\n",
       "┃\u001b[1m \u001b[0m\u001b[1mLayer (type)                   \u001b[0m\u001b[1m \u001b[0m┃\u001b[1m \u001b[0m\u001b[1mOutput Shape          \u001b[0m\u001b[1m \u001b[0m┃\u001b[1m \u001b[0m\u001b[1m      Param #\u001b[0m\u001b[1m \u001b[0m┃\n",
       "┡━━━━━━━━━━━━━━━━━━━━━━━━━━━━━━━━━╇━━━━━━━━━━━━━━━━━━━━━━━━╇━━━━━━━━━━━━━━━┩\n",
       "│ input_layer_1 (\u001b[38;5;33mInputLayer\u001b[0m)      │ (\u001b[38;5;45mNone\u001b[0m, \u001b[38;5;34m687\u001b[0m)            │             \u001b[38;5;34m0\u001b[0m │\n",
       "├─────────────────────────────────┼────────────────────────┼───────────────┤\n",
       "│ dense (\u001b[38;5;33mDense\u001b[0m)                   │ (\u001b[38;5;45mNone\u001b[0m, \u001b[38;5;34m128\u001b[0m)            │        \u001b[38;5;34m88,064\u001b[0m │\n",
       "├─────────────────────────────────┼────────────────────────┼───────────────┤\n",
       "│ dense_1 (\u001b[38;5;33mDense\u001b[0m)                 │ (\u001b[38;5;45mNone\u001b[0m, \u001b[38;5;34m64\u001b[0m)             │         \u001b[38;5;34m8,256\u001b[0m │\n",
       "├─────────────────────────────────┼────────────────────────┼───────────────┤\n",
       "│ dense_2 (\u001b[38;5;33mDense\u001b[0m)                 │ (\u001b[38;5;45mNone\u001b[0m, \u001b[38;5;34m1\u001b[0m)              │            \u001b[38;5;34m65\u001b[0m │\n",
       "└─────────────────────────────────┴────────────────────────┴───────────────┘\n"
      ]
     },
     "metadata": {},
     "output_type": "display_data"
    },
    {
     "data": {
      "text/html": [
       "<pre style=\"white-space:pre;overflow-x:auto;line-height:normal;font-family:Menlo,'DejaVu Sans Mono',consolas,'Courier New',monospace\"><span style=\"font-weight: bold\"> Total params: </span><span style=\"color: #00af00; text-decoration-color: #00af00\">96,385</span> (376.50 KB)\n",
       "</pre>\n"
      ],
      "text/plain": [
       "\u001b[1m Total params: \u001b[0m\u001b[38;5;34m96,385\u001b[0m (376.50 KB)\n"
      ]
     },
     "metadata": {},
     "output_type": "display_data"
    },
    {
     "data": {
      "text/html": [
       "<pre style=\"white-space:pre;overflow-x:auto;line-height:normal;font-family:Menlo,'DejaVu Sans Mono',consolas,'Courier New',monospace\"><span style=\"font-weight: bold\"> Trainable params: </span><span style=\"color: #00af00; text-decoration-color: #00af00\">96,385</span> (376.50 KB)\n",
       "</pre>\n"
      ],
      "text/plain": [
       "\u001b[1m Trainable params: \u001b[0m\u001b[38;5;34m96,385\u001b[0m (376.50 KB)\n"
      ]
     },
     "metadata": {},
     "output_type": "display_data"
    },
    {
     "data": {
      "text/html": [
       "<pre style=\"white-space:pre;overflow-x:auto;line-height:normal;font-family:Menlo,'DejaVu Sans Mono',consolas,'Courier New',monospace\"><span style=\"font-weight: bold\"> Non-trainable params: </span><span style=\"color: #00af00; text-decoration-color: #00af00\">0</span> (0.00 B)\n",
       "</pre>\n"
      ],
      "text/plain": [
       "\u001b[1m Non-trainable params: \u001b[0m\u001b[38;5;34m0\u001b[0m (0.00 B)\n"
      ]
     },
     "metadata": {},
     "output_type": "display_data"
    }
   ],
   "source": [
    "# 모형 구조 출력: Total params가 많을수록 복잡한 모델임.\n",
    "model.summary()"
   ]
  },
  {
   "cell_type": "code",
   "execution_count": 22,
   "id": "80d936f7",
   "metadata": {},
   "outputs": [
    {
     "name": "stdout",
     "output_type": "stream",
     "text": [
      "You must install pydot (`pip install pydot`) for `plot_model` to work.\n"
     ]
    }
   ],
   "source": [
    "# 연결 그래프 시각화: graphviz와 pydot 설치 필요 (graphviz 다운로드하고 설치한 후 pip -U install pydot)\n",
    "# conda install graphviz (MacOS)\n",
    "keras.utils.plot_model(model, show_shapes=True)"
   ]
  },
  {
   "cell_type": "markdown",
   "id": "99835f67",
   "metadata": {},
   "source": [
    "<font color=\"blue\"><p>\n",
    "- 2단계: 학습방식(손실함수/옵티마이저/평가척도) 설정하기"
   ]
  },
  {
   "cell_type": "code",
   "execution_count": 26,
   "id": "21657303",
   "metadata": {},
   "outputs": [],
   "source": [
    "model.compile(\n",
    "    loss='mse',\n",
    "#    optimizer=keras.optimizers.RMSprop(),\n",
    "    optimizer=keras.optimizers.RMSprop(), # macOS                     \n",
    "    metrics=[keras.metrics.RootMeanSquaredError(name='rmse')]\n",
    ")"
   ]
  },
  {
   "cell_type": "markdown",
   "id": "4fa9175e",
   "metadata": {},
   "source": [
    "<font color=\"blue\"><p>\n",
    "- 3단계: 모형 학습하기 (에포크, 배치사이즈, 조기중단 등 지정) "
   ]
  },
  {
   "cell_type": "code",
   "execution_count": 27,
   "id": "2d6b4dda",
   "metadata": {},
   "outputs": [
    {
     "name": "stdout",
     "output_type": "stream",
     "text": [
      "Epoch 1/200\n",
      "234/234 - 1s - 3ms/step - loss: 5280699.5000 - rmse: 2297.9773 - val_loss: 962851.6250 - val_rmse: 981.2501\n",
      "Epoch 2/200\n",
      "234/234 - 0s - 1ms/step - loss: 847890.1875 - rmse: 920.8095 - val_loss: 808724.7500 - val_rmse: 899.2913\n",
      "Epoch 3/200\n",
      "234/234 - 0s - 913us/step - loss: 766133.1250 - rmse: 875.2903 - val_loss: 781843.5625 - val_rmse: 884.2192\n",
      "Epoch 4/200\n",
      "234/234 - 0s - 807us/step - loss: 740163.4375 - rmse: 860.3275 - val_loss: 768733.9375 - val_rmse: 876.7747\n",
      "Epoch 5/200\n",
      "234/234 - 0s - 804us/step - loss: 725605.8750 - rmse: 851.8250 - val_loss: 760609.7500 - val_rmse: 872.1295\n",
      "Epoch 6/200\n",
      "234/234 - 0s - 784us/step - loss: 715644.8125 - rmse: 845.9579 - val_loss: 755193.2500 - val_rmse: 869.0186\n",
      "Epoch 7/200\n",
      "234/234 - 0s - 786us/step - loss: 708115.1250 - rmse: 841.4958 - val_loss: 751377.8750 - val_rmse: 866.8206\n",
      "Epoch 8/200\n",
      "234/234 - 0s - 789us/step - loss: 702068.5000 - rmse: 837.8953 - val_loss: 748607.8750 - val_rmse: 865.2213\n",
      "Epoch 9/200\n",
      "234/234 - 0s - 775us/step - loss: 696995.3750 - rmse: 834.8625 - val_loss: 746548.0625 - val_rmse: 864.0302\n",
      "Epoch 10/200\n",
      "234/234 - 0s - 780us/step - loss: 692555.3125 - rmse: 832.1991 - val_loss: 744874.5000 - val_rmse: 863.0611\n",
      "Epoch 11/200\n",
      "234/234 - 0s - 775us/step - loss: 688521.1250 - rmse: 829.7717 - val_loss: 743435.4375 - val_rmse: 862.2271\n",
      "Epoch 12/200\n",
      "234/234 - 0s - 777us/step - loss: 684787.8750 - rmse: 827.5191 - val_loss: 742289.2500 - val_rmse: 861.5621\n",
      "Epoch 13/200\n",
      "234/234 - 0s - 786us/step - loss: 681216.3750 - rmse: 825.3583 - val_loss: 741370.4375 - val_rmse: 861.0287\n",
      "Epoch 14/200\n",
      "234/234 - 0s - 791us/step - loss: 677724.1875 - rmse: 823.2401 - val_loss: 740504.5625 - val_rmse: 860.5258\n",
      "Epoch 15/200\n",
      "234/234 - 0s - 765us/step - loss: 674286.0000 - rmse: 821.1492 - val_loss: 739686.0625 - val_rmse: 860.0500\n",
      "Epoch 16/200\n",
      "234/234 - 0s - 995us/step - loss: 670832.8750 - rmse: 819.0439 - val_loss: 738896.8750 - val_rmse: 859.5911\n",
      "Epoch 17/200\n",
      "234/234 - 0s - 1ms/step - loss: 667357.1875 - rmse: 816.9193 - val_loss: 738016.5625 - val_rmse: 859.0789\n",
      "Epoch 18/200\n",
      "234/234 - 0s - 855us/step - loss: 663860.6875 - rmse: 814.7765 - val_loss: 737047.6875 - val_rmse: 858.5148\n",
      "Epoch 19/200\n",
      "234/234 - 0s - 775us/step - loss: 660295.8125 - rmse: 812.5859 - val_loss: 736125.9375 - val_rmse: 857.9778\n",
      "Epoch 20/200\n",
      "234/234 - 0s - 759us/step - loss: 656650.5625 - rmse: 810.3398 - val_loss: 735120.5000 - val_rmse: 857.3917\n",
      "Epoch 21/200\n",
      "234/234 - 0s - 758us/step - loss: 652911.0625 - rmse: 808.0291 - val_loss: 734121.3125 - val_rmse: 856.8088\n",
      "Epoch 22/200\n",
      "234/234 - 0s - 767us/step - loss: 649100.0625 - rmse: 805.6675 - val_loss: 733178.8125 - val_rmse: 856.2586\n",
      "Epoch 23/200\n",
      "234/234 - 0s - 781us/step - loss: 645163.8125 - rmse: 803.2209 - val_loss: 732202.1875 - val_rmse: 855.6881\n",
      "Epoch 24/200\n",
      "234/234 - 0s - 833us/step - loss: 641108.3125 - rmse: 800.6924 - val_loss: 731191.0000 - val_rmse: 855.0970\n",
      "Epoch 25/200\n",
      "234/234 - 0s - 845us/step - loss: 636900.1875 - rmse: 798.0602 - val_loss: 730246.2500 - val_rmse: 854.5445\n",
      "Epoch 26/200\n",
      "234/234 - 0s - 988us/step - loss: 632666.4375 - rmse: 795.4033 - val_loss: 729414.6875 - val_rmse: 854.0578\n",
      "Epoch 27/200\n",
      "234/234 - 0s - 840us/step - loss: 628355.0625 - rmse: 792.6885 - val_loss: 728430.8750 - val_rmse: 853.4816\n",
      "Epoch 28/200\n",
      "234/234 - 0s - 772us/step - loss: 624022.3125 - rmse: 789.9508 - val_loss: 727449.2500 - val_rmse: 852.9064\n",
      "Epoch 29/200\n",
      "234/234 - 0s - 850us/step - loss: 619622.7500 - rmse: 787.1612 - val_loss: 726626.1875 - val_rmse: 852.4237\n",
      "Epoch 30/200\n",
      "234/234 - 0s - 1ms/step - loss: 615163.2500 - rmse: 784.3234 - val_loss: 725669.8750 - val_rmse: 851.8626\n",
      "Epoch 31/200\n",
      "234/234 - 0s - 811us/step - loss: 610637.9375 - rmse: 781.4333 - val_loss: 724747.1250 - val_rmse: 851.3208\n",
      "Epoch 32/200\n",
      "234/234 - 0s - 868us/step - loss: 606097.9375 - rmse: 778.5229 - val_loss: 723660.1875 - val_rmse: 850.6822\n",
      "Epoch 33/200\n",
      "234/234 - 0s - 1ms/step - loss: 601489.0625 - rmse: 775.5573 - val_loss: 722631.6875 - val_rmse: 850.0775\n",
      "Epoch 34/200\n",
      "234/234 - 0s - 1ms/step - loss: 596816.3750 - rmse: 772.5389 - val_loss: 721292.5625 - val_rmse: 849.2894\n",
      "Epoch 35/200\n",
      "234/234 - 0s - 853us/step - loss: 592090.5000 - rmse: 769.4742 - val_loss: 720095.0000 - val_rmse: 848.5841\n",
      "Epoch 36/200\n",
      "234/234 - 0s - 1ms/step - loss: 587364.5625 - rmse: 766.3972 - val_loss: 718853.5000 - val_rmse: 847.8523\n",
      "Epoch 37/200\n",
      "234/234 - 0s - 797us/step - loss: 582642.8750 - rmse: 763.3105 - val_loss: 717869.8750 - val_rmse: 847.2720\n",
      "Epoch 38/200\n",
      "234/234 - 0s - 833us/step - loss: 577954.5625 - rmse: 760.2332 - val_loss: 716890.1250 - val_rmse: 846.6937\n",
      "Epoch 39/200\n",
      "234/234 - 0s - 826us/step - loss: 573242.5625 - rmse: 757.1278 - val_loss: 715824.6875 - val_rmse: 846.0642\n",
      "Epoch 40/200\n",
      "234/234 - 0s - 806us/step - loss: 568597.1250 - rmse: 754.0538 - val_loss: 714937.5625 - val_rmse: 845.5398\n",
      "Epoch 41/200\n",
      "234/234 - 0s - 799us/step - loss: 564002.1875 - rmse: 751.0008 - val_loss: 713837.8750 - val_rmse: 844.8893\n",
      "Epoch 42/200\n",
      "234/234 - 0s - 818us/step - loss: 559434.1250 - rmse: 747.9533 - val_loss: 712928.5000 - val_rmse: 844.3510\n",
      "Epoch 43/200\n",
      "234/234 - 0s - 877us/step - loss: 554917.0625 - rmse: 744.9276 - val_loss: 712040.6875 - val_rmse: 843.8250\n",
      "Epoch 44/200\n",
      "234/234 - 0s - 811us/step - loss: 550459.4375 - rmse: 741.9296 - val_loss: 711043.8125 - val_rmse: 843.2341\n",
      "Epoch 45/200\n",
      "234/234 - 0s - 828us/step - loss: 546022.8750 - rmse: 738.9336 - val_loss: 710265.6875 - val_rmse: 842.7726\n",
      "Epoch 46/200\n",
      "234/234 - 0s - 815us/step - loss: 541652.1875 - rmse: 735.9702 - val_loss: 709651.9375 - val_rmse: 842.4084\n",
      "Epoch 47/200\n",
      "234/234 - 0s - 783us/step - loss: 537313.6250 - rmse: 733.0168 - val_loss: 709356.5625 - val_rmse: 842.2331\n",
      "Epoch 48/200\n",
      "234/234 - 0s - 873us/step - loss: 533016.6875 - rmse: 730.0799 - val_loss: 708676.1875 - val_rmse: 841.8291\n",
      "Epoch 49/200\n",
      "234/234 - 0s - 784us/step - loss: 528771.6250 - rmse: 727.1669 - val_loss: 707975.8125 - val_rmse: 841.4130\n",
      "Epoch 50/200\n",
      "234/234 - 0s - 806us/step - loss: 524660.9375 - rmse: 724.3348 - val_loss: 707074.2500 - val_rmse: 840.8771\n",
      "Epoch 51/200\n",
      "234/234 - 0s - 2ms/step - loss: 520519.5625 - rmse: 721.4704 - val_loss: 706347.7500 - val_rmse: 840.4449\n",
      "Epoch 52/200\n",
      "234/234 - 0s - 954us/step - loss: 516461.3438 - rmse: 718.6525 - val_loss: 706090.3125 - val_rmse: 840.2918\n",
      "Epoch 53/200\n",
      "234/234 - 0s - 1ms/step - loss: 512405.4688 - rmse: 715.8250 - val_loss: 705446.6250 - val_rmse: 839.9087\n",
      "Epoch 54/200\n",
      "234/234 - 0s - 1ms/step - loss: 508335.9375 - rmse: 712.9768 - val_loss: 705075.1875 - val_rmse: 839.6876\n",
      "Epoch 55/200\n",
      "234/234 - 0s - 814us/step - loss: 504345.7812 - rmse: 710.1730 - val_loss: 704723.5000 - val_rmse: 839.4781\n",
      "Epoch 56/200\n",
      "234/234 - 0s - 712us/step - loss: 500291.9688 - rmse: 707.3132 - val_loss: 704695.2500 - val_rmse: 839.4613\n",
      "Epoch 57/200\n",
      "234/234 - 0s - 792us/step - loss: 496223.2812 - rmse: 704.4312 - val_loss: 704602.3125 - val_rmse: 839.4059\n",
      "Epoch 58/200\n",
      "234/234 - 0s - 933us/step - loss: 492126.9688 - rmse: 701.5176 - val_loss: 704750.6250 - val_rmse: 839.4943\n",
      "Epoch 59/200\n",
      "234/234 - 0s - 1ms/step - loss: 487974.9688 - rmse: 698.5521 - val_loss: 705004.1250 - val_rmse: 839.6453\n",
      "Epoch 60/200\n",
      "234/234 - 0s - 908us/step - loss: 483789.8125 - rmse: 695.5500 - val_loss: 705042.0000 - val_rmse: 839.6678\n",
      "Epoch 61/200\n",
      "234/234 - 0s - 817us/step - loss: 479573.1875 - rmse: 692.5122 - val_loss: 705369.1250 - val_rmse: 839.8625\n",
      "Epoch 62/200\n",
      "234/234 - 0s - 776us/step - loss: 475335.1875 - rmse: 689.4456 - val_loss: 705790.6250 - val_rmse: 840.1135\n"
     ]
    }
   ],
   "source": [
    "hist = model.fit(\n",
    "    x=X_train,\n",
    "    y=y_train,\n",
    "    validation_data=(X_valid,y_valid), # DNN 학습시 검증데이터가 필요함 => 미리 학습과 검증 데이터로 나누었을 경우\n",
    "#    validation_split=0.1,             # DNN 학습시 검증데이터가 필요함 => 미리 나누지 않을 경우\n",
    "    batch_size=64, \n",
    "    epochs=200, \n",
    "    callbacks=[keras.callbacks.EarlyStopping(monitor='val_loss', patience=5)], # 검증데이터의 Loss가 5회연속 감소하지 않으면 학습 중단.\n",
    "    shuffle=False,       # 재현을 위해 False로 설정.\n",
    "    verbose=2,\n",
    ")"
   ]
  },
  {
   "cell_type": "code",
   "execution_count": 28,
   "id": "00d819fc",
   "metadata": {},
   "outputs": [
    {
     "data": {
      "image/png": "[encoded data removed]",
      "text/plain": [
       "<Figure size 640x480 with 1 Axes>"
      ]
     },
     "metadata": {},
     "output_type": "display_data"
    }
   ],
   "source": [
    "# 러닝커브 그리기: 학습이 잘되었는지 어느정도 판단할 수 있음.\n",
    "\n",
    "plt.plot(hist.history['rmse'], label=\"train\")\n",
    "plt.plot(hist.history['val_rmse'], label=\"valid\")\n",
    "plt.xlabel('epoch')\n",
    "plt.ylabel('RMSE')\n",
    "plt.legend()\n",
    "plt.show()"
   ]
  },
  {
   "cell_type": "code",
   "execution_count": 29,
   "id": "80548c74",
   "metadata": {},
   "outputs": [
    {
     "name": "stdout",
     "output_type": "stream",
     "text": [
      "\u001b[1m52/52\u001b[0m \u001b[32m━━━━━━━━━━━━━━━━━━━━\u001b[0m\u001b[37m\u001b[0m \u001b[1m0s\u001b[0m 595us/step - loss: 702095.8125 - rmse: 836.9898\n",
      "valid loss, valid rmse: [705790.625, 840.1134643554688]\n"
     ]
    }
   ],
   "source": [
    "results = model.evaluate(X_valid, y_valid)\n",
    "print(\"valid loss, valid rmse:\", results)"
   ]
  },
  {
   "cell_type": "markdown",
   "id": "34f2fbba",
   "metadata": {},
   "source": [
    "<font color=\"blue\"><p>\n",
    "- 4단계: 예측하기"
   ]
  },
  {
   "cell_type": "code",
   "execution_count": 30,
   "id": "9b91a1b1",
   "metadata": {},
   "outputs": [
    {
     "name": "stdout",
     "output_type": "stream",
     "text": [
      "\u001b[1m346/346\u001b[0m \u001b[32m━━━━━━━━━━━━━━━━━━━━\u001b[0m\u001b[37m\u001b[0m \u001b[1m0s\u001b[0m 419us/step\n",
      "dnn_1.0_840.11.csv is ready to submit.\n"
     ]
    }
   ],
   "source": [
    "# 예측값 얻기: sklearn 과 달리 2차원 array로 출력 => 1차원으로 변경 필요.\n",
    "pred = model.predict(X_test).flatten()\n",
    "\n",
    "# submission 화일 생성\n",
    "filename = f'dnn_{DNN_VERSION}_{hist.history[\"val_rmse\"][-1]:.2f}.csv'\n",
    "pd.DataFrame({'ID':test_id, 'Salary':pred}).to_csv(filename, index=False)\n",
    "\n",
    "print(f'{filename} is ready to submit.')"
   ]
  },
  {
   "cell_type": "markdown",
   "id": "e79de56d",
   "metadata": {},
   "source": [
    "<font color=\"#CC3D3D\"><p>\n",
    "# End"
   ]
  }
 ],
 "metadata": {
  "kernelspec": {
   "display_name": "moontorch",
   "language": "python",
   "name": "python3"
  },
  "language_info": {
   "codemirror_mode": {
    "name": "ipython",
    "version": 3
   },
   "file_extension": ".py",
   "mimetype": "text/x-python",
   "name": "python",
   "nbconvert_exporter": "python",
   "pygments_lexer": "ipython3",
   "version": "3.12.4"
  }
 },
 "nbformat": 4,
 "nbformat_minor": 5
}
