{
 "cells": [
  {
   "cell_type": "markdown",
   "metadata": {},
   "source": [
    "<font color='tomato'><font color=\"#CC3D3D\"><p>\n",
    "# Neural Collaborative Filtering (NCF): Basic Model"
   ]
  },
  {
   "cell_type": "markdown",
   "metadata": {},
   "source": [
    "- 행렬분해(MF)의 MLP 변환    \n",
    "\n",
    "<img src='NCF_Basics.jpeg' align=\"left\" width=800>"
   ]
  },
  {
   "cell_type": "markdown",
   "metadata": {},
   "source": [
    "- NCF 아키텍처   \n",
    "\n",
    "<img src='NCF_Basic_architecture.jpeg' align=\"left\" width=800/>"
   ]
  },
  {
   "cell_type": "markdown",
   "metadata": {},
   "source": [
    "### Import modules"
   ]
  },
  {
   "cell_type": "code",
   "execution_count": 1,
   "metadata": {},
   "outputs": [
    {
     "name": "stdout",
     "output_type": "stream",
     "text": [
      "2.13.0\n"
     ]
    }
   ],
   "source": [
    "import pandas as pd\n",
    "import numpy as np\n",
    "import pickle, random, os\n",
    "import warnings; warnings.filterwarnings(\"ignore\")\n",
    "import matplotlib.pylab as plt\n",
    "%matplotlib inline\n",
    "\n",
    "from msr.python_splitters import (\n",
    "    python_random_split, \n",
    "    python_chrono_split, \n",
    "    python_stratified_split\n",
    ")\n",
    "\n",
    "from sklearn.model_selection import train_test_split\n",
    "from sklearn.metrics import mean_squared_error\n",
    "\n",
    "import tensorflow as tf\n",
    "from tensorflow import keras\n",
    "print(tf.__version__)"
   ]
  },
  {
   "cell_type": "markdown",
   "metadata": {},
   "source": [
    "### Set random seeds to make your results reproducible"
   ]
  },
  {
   "cell_type": "code",
   "execution_count": 2,
   "metadata": {},
   "outputs": [
    {
     "name": "stdout",
     "output_type": "stream",
     "text": [
      "RANDOM SEEDS RESET\n"
     ]
    }
   ],
   "source": [
    "# 매번 모델링을 할 때마다 동일한 결과를 얻으려면 아래 코드를 실행해야 함.\n",
    "\n",
    "def reset_seeds(reset_graph_with_backend=None):\n",
    "    if reset_graph_with_backend is not None:\n",
    "        K = reset_graph_with_backend\n",
    "        K.clear_session()\n",
    "        tf.compat.v1.reset_default_graph()\n",
    "        print(\"KERAS AND TENSORFLOW GRAPHS RESET\")\n",
    "\n",
    "    np.random.seed(1)\n",
    "    random.seed(2)\n",
    "    tf.compat.v1.set_random_seed(3)\n",
    "#    os.environ['CUDA_VISIBLE_DEVICES'] = ''  # for GPU\n",
    "    print(\"RANDOM SEEDS RESET\") \n",
    "   \n",
    "reset_seeds()"
   ]
  },
  {
   "cell_type": "markdown",
   "metadata": {},
   "source": [
    "### Step 1: Load and process the data"
   ]
  },
  {
   "cell_type": "markdown",
   "metadata": {},
   "source": [
    "##### Read data"
   ]
  },
  {
   "cell_type": "code",
   "execution_count": 3,
   "metadata": {},
   "outputs": [
    {
     "data": {
      "text/plain": [
       "((9724, 3), (100836, 4))"
      ]
     },
     "execution_count": 3,
     "metadata": {},
     "output_type": "execute_result"
    }
   ],
   "source": [
    "movies = pd.read_csv('movies.csv')    # 영화 정보\n",
    "ratings = pd.read_csv('ratings.csv')  # 사용자가 영화에 대해 남긴 평점 데이터\n",
    "\n",
    "movies.shape, ratings.shape"
   ]
  },
  {
   "cell_type": "markdown",
   "metadata": {},
   "source": [
    "##### Split data into train & test set "
   ]
  },
  {
   "cell_type": "code",
   "execution_count": 4,
   "metadata": {},
   "outputs": [],
   "source": [
    "#train, test = python_random_split(ratings, ratio=0.75)\n",
    "train, test = train_test_split(ratings, test_size=0.25, shuffle=True, random_state=0)"
   ]
  },
  {
   "cell_type": "markdown",
   "metadata": {},
   "source": [
    "### Step 2: Define the model architecture"
   ]
  },
  {
   "cell_type": "markdown",
   "metadata": {},
   "source": [
    "##### Stack layers from input to output"
   ]
  },
  {
   "cell_type": "code",
   "execution_count": 5,
   "metadata": {},
   "outputs": [
    {
     "data": {
      "text/plain": [
       "(611, 9725)"
      ]
     },
     "execution_count": 5,
     "metadata": {},
     "output_type": "execute_result"
    }
   ],
   "source": [
    "# Variable 초기화 \n",
    "K = 200                             # Latent factor 수 \n",
    "mu = train.rating.mean()            # 전체 평균 \n",
    "M = ratings.userId.nunique() + 1    # Number of users\n",
    "N = ratings.movieId.nunique() + 1   # Number of movies\n",
    "\n",
    "M, N"
   ]
  },
  {
   "cell_type": "code",
   "execution_count": 6,
   "metadata": {},
   "outputs": [
    {
     "data": {
      "text/plain": [
       "0           1\n",
       "1           1\n",
       "2           1\n",
       "3           1\n",
       "4           1\n",
       "         ... \n",
       "100831    610\n",
       "100832    610\n",
       "100833    610\n",
       "100834    610\n",
       "100835    610\n",
       "Name: userId, Length: 100836, dtype: int64"
      ]
     },
     "execution_count": 6,
     "metadata": {},
     "output_type": "execute_result"
    }
   ],
   "source": [
    "ratings.userId"
   ]
  },
  {
   "cell_type": "code",
   "execution_count": 7,
   "metadata": {},
   "outputs": [],
   "source": [
    "user = keras.Input(shape=(1, ))                          # User input: userID\n",
    "item = keras.Input(shape=(1, ))                          # Item input: movieId\n",
    "\n",
    "P_embedding = keras.layers.Embedding(M, K)(user)         # M: Number of users, K: Latent factor 수 \n",
    "Q_embedding = keras.layers.Embedding(N, K)(item)         # M: Number of movies, K: Latent factor 수 \n",
    "\n",
    "user_bias = keras.layers.Embedding(M, 1)(user)           # User bias term \n",
    "item_bias = keras.layers.Embedding(N, 1)(item)           # Item bias term\n",
    "\n",
    "R = keras.layers.Dot(axes=2)([P_embedding, Q_embedding]) # 행렬곱: P * Q \n",
    "R = keras.layers.Add()([R, user_bias, item_bias])\n",
    "R = keras.layers.Flatten()(R)\n",
    "\n",
    "#R = Dense(32, activation='relu')(R)\n",
    "#R = Dense(16, activation='relu')(R)\n",
    "#R = Dense(1, activation='linear')(R)\n",
    "\n",
    "model = keras.Model(inputs=[user, item], outputs=R)"
   ]
  },
  {
   "cell_type": "markdown",
   "metadata": {},
   "source": [
    "##### Summarize & visualize the model"
   ]
  },
  {
   "cell_type": "code",
   "execution_count": 8,
   "metadata": {},
   "outputs": [
    {
     "name": "stdout",
     "output_type": "stream",
     "text": [
      "Model: \"model\"\n",
      "__________________________________________________________________________________________________\n",
      " Layer (type)                Output Shape                 Param #   Connected to                  \n",
      "==================================================================================================\n",
      " input_1 (InputLayer)        [(None, 1)]                  0         []                            \n",
      "                                                                                                  \n",
      " input_2 (InputLayer)        [(None, 1)]                  0         []                            \n",
      "                                                                                                  \n",
      " embedding (Embedding)       (None, 1, 200)               122200    ['input_1[0][0]']             \n",
      "                                                                                                  \n",
      " embedding_1 (Embedding)     (None, 1, 200)               1945000   ['input_2[0][0]']             \n",
      "                                                                                                  \n",
      " dot (Dot)                   (None, 1, 1)                 0         ['embedding[0][0]',           \n",
      "                                                                     'embedding_1[0][0]']         \n",
      "                                                                                                  \n",
      " embedding_2 (Embedding)     (None, 1, 1)                 611       ['input_1[0][0]']             \n",
      "                                                                                                  \n",
      " embedding_3 (Embedding)     (None, 1, 1)                 9725      ['input_2[0][0]']             \n",
      "                                                                                                  \n",
      " add (Add)                   (None, 1, 1)                 0         ['dot[0][0]',                 \n",
      "                                                                     'embedding_2[0][0]',         \n",
      "                                                                     'embedding_3[0][0]']         \n",
      "                                                                                                  \n",
      " flatten (Flatten)           (None, 1)                    0         ['add[0][0]']                 \n",
      "                                                                                                  \n",
      "==================================================================================================\n",
      "Total params: 2077536 (7.93 MB)\n",
      "Trainable params: 2077536 (7.93 MB)\n",
      "Non-trainable params: 0 (0.00 Byte)\n",
      "__________________________________________________________________________________________________\n"
     ]
    }
   ],
   "source": [
    "model.summary()"
   ]
  },
  {
   "cell_type": "code",
   "execution_count": 9,
   "metadata": {},
   "outputs": [
    {
     "data": {
      "image/png": "[encoded data removed]",
      "text/plain": [
       "<IPython.core.display.Image object>"
      ]
     },
     "execution_count": 9,
     "metadata": {},
     "output_type": "execute_result"
    }
   ],
   "source": [
    "# 연결 그래프 시각화: graphviz와 pydot 설치 필요 (graphviz 다운로드하고 설치한 후 pip install pydot)\n",
    "keras.utils.plot_model(model, show_shapes=True, rankdir='BT')"
   ]
  },
  {
   "cell_type": "markdown",
   "metadata": {},
   "source": [
    "### Step 3: Choose the optimizer and the cost function"
   ]
  },
  {
   "cell_type": "code",
   "execution_count": 10,
   "metadata": {},
   "outputs": [],
   "source": [
    "# loss, optimizer, metrics 설정\n",
    "model.compile(\n",
    "    loss='mse',\n",
    "    optimizer=keras.optimizers.legacy.Adam(), \n",
    "    metrics=[keras.metrics.RootMeanSquaredError(name='rmse')]\n",
    ")"
   ]
  },
  {
   "cell_type": "markdown",
   "metadata": {},
   "source": [
    "### Step 4: Train the model"
   ]
  },
  {
   "cell_type": "markdown",
   "metadata": {},
   "source": [
    "##### Set learning conditions & fit the model "
   ]
  },
  {
   "cell_type": "code",
   "execution_count": 11,
   "metadata": {},
   "outputs": [
    {
     "name": "stdout",
     "output_type": "stream",
     "text": [
      "Epoch 1/50\n",
      "266/266 - 1s - loss: 1.0352 - rmse: 1.0174 - val_loss: 0.9786 - val_rmse: 0.9892 - 1s/epoch - 5ms/step\n",
      "Epoch 2/50\n",
      "266/266 - 1s - loss: 0.8385 - rmse: 0.9157 - val_loss: 0.8381 - val_rmse: 0.9155 - 1s/epoch - 4ms/step\n",
      "Epoch 3/50\n",
      "266/266 - 1s - loss: 0.5374 - rmse: 0.7331 - val_loss: 0.7611 - val_rmse: 0.8724 - 1s/epoch - 4ms/step\n",
      "Epoch 4/50\n",
      "266/266 - 1s - loss: 0.3014 - rmse: 0.5490 - val_loss: 0.7497 - val_rmse: 0.8658 - 1s/epoch - 4ms/step\n",
      "Epoch 5/50\n",
      "266/266 - 1s - loss: 0.1615 - rmse: 0.4019 - val_loss: 0.7566 - val_rmse: 0.8698 - 1s/epoch - 4ms/step\n",
      "Epoch 6/50\n",
      "266/266 - 1s - loss: 0.0882 - rmse: 0.2969 - val_loss: 0.7660 - val_rmse: 0.8752 - 1s/epoch - 5ms/step\n",
      "Epoch 7/50\n",
      "266/266 - 1s - loss: 0.0497 - rmse: 0.2229 - val_loss: 0.7750 - val_rmse: 0.8803 - 1s/epoch - 5ms/step\n",
      "Epoch 8/50\n",
      "266/266 - 1s - loss: 0.0296 - rmse: 0.1721 - val_loss: 0.7810 - val_rmse: 0.8838 - 1s/epoch - 5ms/step\n",
      "Epoch 9/50\n",
      "266/266 - 1s - loss: 0.0189 - rmse: 0.1374 - val_loss: 0.7862 - val_rmse: 0.8867 - 1s/epoch - 5ms/step\n"
     ]
    }
   ],
   "source": [
    "hist = model.fit(\n",
    "    x=[train.userId, train.movieId],\n",
    "    y=train.rating - mu,\n",
    "    validation_split=0.1,\n",
    "    batch_size=256, \n",
    "    epochs=50, \n",
    "    callbacks=[keras.callbacks.EarlyStopping(monitor='val_loss', patience=5)],\n",
    "    shuffle=False,\n",
    "    verbose=2\n",
    ")"
   ]
  },
  {
   "cell_type": "markdown",
   "metadata": {},
   "source": [
    "##### Visualize training history "
   ]
  },
  {
   "cell_type": "code",
   "execution_count": 12,
   "metadata": {},
   "outputs": [
    {
     "data": {
      "image/png": "[encoded data removed]",
      "text/plain": [
       "<Figure size 640x480 with 1 Axes>"
      ]
     },
     "metadata": {},
     "output_type": "display_data"
    }
   ],
   "source": [
    "# Plot RMSE\n",
    "\n",
    "plt.plot(hist.history['rmse'], label=\"train\")\n",
    "plt.plot(hist.history['val_rmse'], label=\"valid\")\n",
    "plt.xlabel('epoch')\n",
    "plt.ylabel('RMSE')\n",
    "plt.legend()\n",
    "plt.show()"
   ]
  },
  {
   "cell_type": "markdown",
   "metadata": {},
   "source": [
    "### Step 5: Make predictions"
   ]
  },
  {
   "cell_type": "markdown",
   "metadata": {},
   "source": [
    "##### Evaluate the model"
   ]
  },
  {
   "cell_type": "code",
   "execution_count": 13,
   "metadata": {},
   "outputs": [
    {
     "name": "stdout",
     "output_type": "stream",
     "text": [
      "788/788 [==============================] - 0s 237us/step\n",
      "RMSE = 0.901\n"
     ]
    }
   ],
   "source": [
    "# 평가데이터에 대한 RMSE 측정\n",
    "\n",
    "y_pred = model.predict([test.userId, test.movieId]) + mu\n",
    "y_pred = y_pred.flatten()\n",
    "y_true = test.rating\n",
    "\n",
    "rmse = np.sqrt(mean_squared_error(y_true, y_pred))\n",
    "print(f'RMSE = {rmse:.3f}')"
   ]
  },
  {
   "cell_type": "markdown",
   "metadata": {},
   "source": [
    "##### Make recommendations"
   ]
  },
  {
   "cell_type": "code",
   "execution_count": 14,
   "metadata": {},
   "outputs": [],
   "source": [
    "# Top-N 영화 추천\n",
    "\n",
    "N = 10\n",
    "targetUser = 276\n",
    "\n",
    "# 본 영화 제외\n",
    "seen_movies = ratings.query('userId == @targetUser').movieId.unique()\n",
    "movie_ids = pd.Series(np.array(list(set(ratings.movieId.unique()) - set(seen_movies))))"
   ]
  },
  {
   "cell_type": "code",
   "execution_count": 15,
   "metadata": {},
   "outputs": [
    {
     "data": {
      "text/plain": [
       "(9683,)"
      ]
     },
     "execution_count": 15,
     "metadata": {},
     "output_type": "execute_result"
    }
   ],
   "source": [
    "movie_ids.shape"
   ]
  },
  {
   "cell_type": "code",
   "execution_count": 16,
   "metadata": {},
   "outputs": [
    {
     "data": {
      "text/plain": [
       "(9683,)"
      ]
     },
     "execution_count": 16,
     "metadata": {},
     "output_type": "execute_result"
    }
   ],
   "source": [
    "# 평점 예측 대상 영화수만큼 userId 반복\n",
    "user_ids = pd.Series(np.array([targetUser]*len(movie_ids)))\n",
    "user_ids.shape"
   ]
  },
  {
   "cell_type": "code",
   "execution_count": 17,
   "metadata": {},
   "outputs": [
    {
     "name": "stdout",
     "output_type": "stream",
     "text": [
      "  1/303 [..............................] - ETA: 2s"
     ]
    },
    {
     "name": "stdout",
     "output_type": "stream",
     "text": [
      "303/303 [==============================] - 0s 280us/step\n"
     ]
    },
    {
     "data": {
      "text/html": [
       "<div>\n",
       "<style scoped>\n",
       "    .dataframe tbody tr th:only-of-type {\n",
       "        vertical-align: middle;\n",
       "    }\n",
       "\n",
       "    .dataframe tbody tr th {\n",
       "        vertical-align: top;\n",
       "    }\n",
       "\n",
       "    .dataframe thead th {\n",
       "        text-align: right;\n",
       "    }\n",
       "</style>\n",
       "<table border=\"1\" class=\"dataframe\">\n",
       "  <thead>\n",
       "    <tr style=\"text-align: right;\">\n",
       "      <th></th>\n",
       "      <th>movieId</th>\n",
       "      <th>pred</th>\n",
       "    </tr>\n",
       "  </thead>\n",
       "  <tbody>\n",
       "    <tr>\n",
       "      <th>758</th>\n",
       "      <td>793</td>\n",
       "      <td>5.222309</td>\n",
       "    </tr>\n",
       "    <tr>\n",
       "      <th>2312</th>\n",
       "      <td>2353</td>\n",
       "      <td>5.092922</td>\n",
       "    </tr>\n",
       "    <tr>\n",
       "      <th>1244</th>\n",
       "      <td>1285</td>\n",
       "      <td>5.045713</td>\n",
       "    </tr>\n",
       "    <tr>\n",
       "      <th>2153</th>\n",
       "      <td>2194</td>\n",
       "      <td>4.960724</td>\n",
       "    </tr>\n",
       "    <tr>\n",
       "      <th>775</th>\n",
       "      <td>811</td>\n",
       "      <td>4.957056</td>\n",
       "    </tr>\n",
       "    <tr>\n",
       "      <th>1875</th>\n",
       "      <td>1916</td>\n",
       "      <td>4.944647</td>\n",
       "    </tr>\n",
       "    <tr>\n",
       "      <th>1444</th>\n",
       "      <td>1485</td>\n",
       "      <td>4.926727</td>\n",
       "    </tr>\n",
       "    <tr>\n",
       "      <th>1996</th>\n",
       "      <td>2037</td>\n",
       "      <td>4.924952</td>\n",
       "    </tr>\n",
       "    <tr>\n",
       "      <th>486</th>\n",
       "      <td>506</td>\n",
       "      <td>4.915617</td>\n",
       "    </tr>\n",
       "    <tr>\n",
       "      <th>900</th>\n",
       "      <td>938</td>\n",
       "      <td>4.908442</td>\n",
       "    </tr>\n",
       "  </tbody>\n",
       "</table>\n",
       "</div>"
      ],
      "text/plain": [
       "      movieId      pred\n",
       "758       793  5.222309\n",
       "2312     2353  5.092922\n",
       "1244     1285  5.045713\n",
       "2153     2194  4.960724\n",
       "775       811  4.957056\n",
       "1875     1916  4.944647\n",
       "1444     1485  4.926727\n",
       "1996     2037  4.924952\n",
       "486       506  4.915617\n",
       "900       938  4.908442"
      ]
     },
     "execution_count": 17,
     "metadata": {},
     "output_type": "execute_result"
    }
   ],
   "source": [
    "# 평점 예측\n",
    "predictions = model.predict([user_ids, movie_ids]) + mu\n",
    "\n",
    "# 가장 평점이 높은 N개의 영화를 추천\n",
    "pd.DataFrame({'movieId':movie_ids, 'pred': predictions.flatten()}).sort_values(by='pred', ascending=False).head(N)"
   ]
  },
  {
   "cell_type": "markdown",
   "metadata": {},
   "source": [
    "###  Step 6: Save the model"
   ]
  },
  {
   "cell_type": "code",
   "execution_count": 18,
   "metadata": {},
   "outputs": [],
   "source": [
    "# pickle 형식으로 저장\n",
    "# with open('ncf_model.pkl', 'wb') as f:\n",
    "#    pickle.dump(model, f)\n",
    "\n",
    "# 추후 저장한 모형 불러올 때: \n",
    "# model = pd.read_pickle('ncf_model.pkl')"
   ]
  },
  {
   "cell_type": "markdown",
   "metadata": {},
   "source": [
    "<font color=\"#CC3D3D\"><p>\n",
    "# End"
   ]
  }
 ],
 "metadata": {
  "kernelspec": {
   "display_name": "moontorch",
   "language": "python",
   "name": "python3"
  },
  "language_info": {
   "codemirror_mode": {
    "name": "ipython",
    "version": 3
   },
   "file_extension": ".py",
   "mimetype": "text/x-python",
   "name": "python",
   "nbconvert_exporter": "python",
   "pygments_lexer": "ipython3",
   "version": "3.8.19"
  }
 },
 "nbformat": 4,
 "nbformat_minor": 4
}
