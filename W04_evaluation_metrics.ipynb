{
 "cells": [
  {
   "cell_type": "markdown",
   "metadata": {
    "id": "bt279XzUARiB"
   },
   "source": [
    "# Recommender System Evaluations\n",
    "This lab code is an adaptation of the code below:   \n",
    "https://colab.research.google.com/github/recohut/notebook/blob/master/_notebooks/2021-07-07-recsys-evaluation-metrics-part-2.ipynb"
   ]
  },
  {
   "cell_type": "code",
   "execution_count": null,
   "metadata": {
    "id": "_pWvCiiDdjr_"
   },
   "outputs": [],
   "source": [
    "import  numpy  as  np\n",
    "import  pandas  as  pd\n",
    "import  math"
   ]
  },
  {
   "cell_type": "markdown",
   "metadata": {
    "id": "XXtU4GFqdn3G"
   },
   "source": [
    "## HR@K"
   ]
  },
  {
   "cell_type": "code",
   "execution_count": null,
   "metadata": {
    "id": "xEck0b3EeWCz"
   },
   "outputs": [],
   "source": [
    "# For one user:\n",
    "recommended_list = [156, 1134, 27, 1543, 3345, 143, 32, 533, 11, 43]  #items ids\n",
    "bought_list = [521, 32, 143, 991]"
   ]
  },
  {
   "cell_type": "code",
   "execution_count": null,
   "metadata": {
    "id": "MwcAl3w3dm-w"
   },
   "outputs": [],
   "source": [
    "def hit_rate_at_k(recommended_list, bought_list, k=5):\n",
    "  bought_list = np.array(bought_list)\n",
    "  recommended_list = np.array(recommended_list)[:k]\n",
    "  flags = np.isin(bought_list, recommended_list)\n",
    "  return (flags.sum() > 0) * 1"
   ]
  },
  {
   "cell_type": "code",
   "execution_count": null,
   "metadata": {
    "colab": {
     "base_uri": "https://localhost:8080/"
    },
    "id": "Mzw-ZKndeqrW",
    "outputId": "94a28725-61fb-4167-ebe2-54fd33919d4e"
   },
   "outputs": [],
   "source": [
    "hit_rate_at_k(recommended_list, bought_list, 5)"
   ]
  },
  {
   "cell_type": "code",
   "execution_count": null,
   "metadata": {
    "colab": {
     "base_uri": "https://localhost:8080/"
    },
    "id": "a5M85f-ffGhO",
    "outputId": "79b59344-0f3b-4000-960f-8480a029fe8d"
   },
   "outputs": [],
   "source": [
    "hit_rate_at_k(recommended_list, bought_list, 10)"
   ]
  },
  {
   "cell_type": "markdown",
   "metadata": {
    "id": "h_d4yXPCgS67"
   },
   "source": [
    "## Precision@K"
   ]
  },
  {
   "cell_type": "code",
   "execution_count": null,
   "metadata": {
    "id": "gtweDIeDgZWw"
   },
   "outputs": [],
   "source": [
    "def precision_at_k(recommended_list, bought_list, k=5):\n",
    "  bought_list = np.array(bought_list)\n",
    "  recommended_list = np.array(recommended_list)[:k]\n",
    "\n",
    "  flags = np.isin(bought_list, recommended_list)\n",
    "  return flags.sum() / len(recommended_list)"
   ]
  },
  {
   "cell_type": "code",
   "execution_count": null,
   "metadata": {
    "colab": {
     "base_uri": "https://localhost:8080/"
    },
    "id": "ISqhoHgwksM6",
    "outputId": "2a6b2232-a4d9-4436-f038-b026c7bdd9d0"
   },
   "outputs": [],
   "source": [
    "precision_at_k(recommended_list, bought_list, 5)"
   ]
  },
  {
   "cell_type": "code",
   "execution_count": null,
   "metadata": {
    "colab": {
     "base_uri": "https://localhost:8080/"
    },
    "id": "6ukYqJRHkxGO",
    "outputId": "14f26a85-6e9e-4269-f3ee-5f154ffdb34c"
   },
   "outputs": [],
   "source": [
    "precision_at_k(recommended_list, bought_list, 10)"
   ]
  },
  {
   "cell_type": "markdown",
   "metadata": {
    "id": "34bVpwgslYcp"
   },
   "source": [
    "## Recall@K"
   ]
  },
  {
   "cell_type": "code",
   "execution_count": null,
   "metadata": {
    "id": "Ni6hjugKlkkM"
   },
   "outputs": [],
   "source": [
    "def recall_at_k(recommended_list, bought_list, k=5):\n",
    "  bought_list = np.array(bought_list)\n",
    "  recommended_list = np.array(recommended_list)[:k]\n",
    "\n",
    "  flags = np.isin(bought_list, recommended_list)\n",
    "  return flags.sum() / len(bought_list)"
   ]
  },
  {
   "cell_type": "code",
   "execution_count": null,
   "metadata": {
    "colab": {
     "base_uri": "https://localhost:8080/"
    },
    "id": "f5fepPoqmP2l",
    "outputId": "65d4ae56-af27-4e86-9bc6-935ddccec26a"
   },
   "outputs": [],
   "source": [
    "recall_at_k(recommended_list, bought_list, 5)"
   ]
  },
  {
   "cell_type": "code",
   "execution_count": null,
   "metadata": {
    "colab": {
     "base_uri": "https://localhost:8080/"
    },
    "id": "eiVBQBvfmP2m",
    "outputId": "72056673-b92f-44c3-e8ee-d275cec7d247"
   },
   "outputs": [],
   "source": [
    "recall_at_k(recommended_list, bought_list, 10)"
   ]
  },
  {
   "cell_type": "markdown",
   "metadata": {
    "id": "FsR6hHRembdu"
   },
   "source": [
    "## MAP@K"
   ]
  },
  {
   "cell_type": "code",
   "execution_count": null,
   "metadata": {
    "id": "x8GehNJDmpKA"
   },
   "outputs": [],
   "source": [
    "# list of 3 users\n",
    "recommended_list_3_users = [[143,156,1134,991,27,1543,3345,533,11,43],\n",
    "                            [1134,533,14,4,15,1543,1,99,27,3345],\n",
    "                            [991,3345,27,533,43,143,1543,156,1134,11]]\n",
    "\n",
    "bought_list_3_users= [[521,32,143], #user1\n",
    "                      [143,156,991,43,11], #user2\n",
    "                      [1,2]] #user3"
   ]
  },
  {
   "cell_type": "code",
   "execution_count": null,
   "metadata": {
    "id": "g1C1deyvmhba"
   },
   "outputs": [],
   "source": [
    "def ap_k(recommended_list, bought_list, k=5):\n",
    "\n",
    "    bought_list = np.array(bought_list)\n",
    "    recommended_list = np.array(recommended_list)[:k]\n",
    "\n",
    "    relevant_indexes = np.nonzero(np.isin(recommended_list, bought_list))[0]\n",
    "    if len(relevant_indexes) == 0:\n",
    "        return 0\n",
    "\n",
    "    amount_relevant = len(relevant_indexes)\n",
    "\n",
    "    sum_ = sum([precision_at_k(recommended_list, bought_list, k=index_relevant+1) for index_relevant in relevant_indexes])\n",
    "    return sum_/amount_relevant"
   ]
  },
  {
   "cell_type": "code",
   "execution_count": null,
   "metadata": {
    "id": "x6m00Jc3mjWF"
   },
   "outputs": [],
   "source": [
    "def map_k(recommended_list, bought_list, k=5):\n",
    "\n",
    "    amount_user = len(bought_list)\n",
    "    list_ap_k = [ap_k(recommended_list[i], bought_list[i], k) for i in np.arange(amount_user)]\n",
    "\n",
    "    sum_ap_k = sum(list_ap_k)\n",
    "    return sum_ap_k/amount_user"
   ]
  },
  {
   "cell_type": "code",
   "execution_count": null,
   "metadata": {
    "colab": {
     "base_uri": "https://localhost:8080/"
    },
    "id": "UnHTv6kvm0LX",
    "outputId": "0dd9f665-5a8e-4bbb-9580-8b04619df0fd"
   },
   "outputs": [],
   "source": [
    "map_k(recommended_list_3_users, bought_list_3_users, 5)"
   ]
  },
  {
   "cell_type": "markdown",
   "metadata": {
    "id": "tlb3LmFunVEK"
   },
   "source": [
    "## NDCG@K"
   ]
  },
  {
   "cell_type": "code",
   "execution_count": null,
   "metadata": {
    "id": "5blGg05wfSB8"
   },
   "outputs": [],
   "source": [
    "def ndcg_at_k(recommended_list, bought_list, k=5):\n",
    "    rec = recommended_list\n",
    "    b = bought_list\n",
    "\n",
    "    recommended_list = np.array(recommended_list)[:k]\n",
    "    bought_list = np.array(bought_list)\n",
    "\n",
    "    flags = np.isin(recommended_list, bought_list)\n",
    "    rank_list = []\n",
    "    for i in np.arange(len(recommended_list)):\n",
    "        if i < 2:\n",
    "            rank_list.append(i+1)\n",
    "        else:\n",
    "            rank_list.append(math.log2(i+1))\n",
    "    if len(recommended_list) == 0:\n",
    "        return 0\n",
    "    dcg = sum(np.divide(flags, rank_list)) / len(recommended_list)\n",
    "\n",
    "    i_dcg = sum(np.divide(1, rank_list)) / len(recommended_list)\n",
    "    return dcg/i_dcg"
   ]
  },
  {
   "cell_type": "code",
   "execution_count": null,
   "metadata": {
    "colab": {
     "base_uri": "https://localhost:8080/"
    },
    "id": "6fqcvbvMnfUC",
    "outputId": "a135ea43-30d6-48a4-af03-f4d68565f2dc"
   },
   "outputs": [],
   "source": [
    "ndcg_at_k(recommended_list, bought_list, 5)"
   ]
  },
  {
   "cell_type": "code",
   "execution_count": null,
   "metadata": {},
   "outputs": [],
   "source": [
    "ndcg_at_k(recommended_list, bought_list, 10)"
   ]
  },
  {
   "cell_type": "markdown",
   "metadata": {},
   "source": [
    "# Using MS Recommender (msr package)\n",
    "This lab code is an adaptation of the code below:   \n",
    "https://github.com/recommenders-team/recommenders/blob/main/examples/03_evaluate/evaluation.ipynb"
   ]
  },
  {
   "cell_type": "code",
   "execution_count": null,
   "metadata": {},
   "outputs": [],
   "source": [
    "# MS Recommender 패키지에서 제공하는 추천시스템 평가함수\n",
    "from msr.python_evaluation import rmse, mae, map_at_k, ndcg_at_k, precision_at_k, recall_at_k"
   ]
  },
  {
   "cell_type": "code",
   "execution_count": null,
   "metadata": {},
   "outputs": [],
   "source": [
    "COL_USER = \"UserId\"\n",
    "COL_ITEM = \"MovieId\"\n",
    "COL_RATING = \"Rating\"\n",
    "COL_PREDICTION = \"Rating\""
   ]
  },
  {
   "cell_type": "markdown",
   "metadata": {},
   "source": [
    "#### Prepare dummy data"
   ]
  },
  {
   "cell_type": "code",
   "execution_count": null,
   "metadata": {},
   "outputs": [],
   "source": [
    "df_true = pd.DataFrame(\n",
    "        {\n",
    "            COL_USER: [1, 1, 1, 2, 2, 2, 2, 2, 3, 3, 3, 3, 3, 3, 3, 3, 3, 3],\n",
    "            COL_ITEM: [1, 2, 3, 1, 4, 5, 6, 7, 2, 5, 6, 8, 9, 10, 11, 12, 13, 14],\n",
    "            COL_RATING: [5, 4, 3, 5, 5, 3, 3, 1, 5, 5, 5, 4, 4, 3, 3, 3, 2, 1],\n",
    "        }\n",
    "    )\n",
    "df_pred = pd.DataFrame(\n",
    "    {\n",
    "        COL_USER: [1, 1, 1, 2, 2, 2, 2, 2, 3, 3, 3, 3, 3, 3, 3, 3, 3, 3],\n",
    "        COL_ITEM: [3, 10, 12, 10, 3, 5, 11, 13, 4, 10, 7, 13, 1, 3, 5, 2, 11, 14],\n",
    "        COL_PREDICTION: [14, 13, 12, 14, 13, 12, 11, 10, 14, 13, 12, 11, 10, 9, 8, 7, 6, 5]\n",
    "    }\n",
    ")"
   ]
  },
  {
   "cell_type": "code",
   "execution_count": null,
   "metadata": {},
   "outputs": [],
   "source": [
    "df_true"
   ]
  },
  {
   "cell_type": "code",
   "execution_count": null,
   "metadata": {},
   "outputs": [],
   "source": [
    "df_pred"
   ]
  },
  {
   "cell_type": "code",
   "execution_count": null,
   "metadata": {},
   "outputs": [],
   "source": [
    "args = [df_true, df_pred]"
   ]
  },
  {
   "cell_type": "markdown",
   "metadata": {},
   "source": [
    "#### Rating metrics"
   ]
  },
  {
   "cell_type": "code",
   "execution_count": null,
   "metadata": {},
   "outputs": [],
   "source": [
    "kwargs = dict(col_user=COL_USER, \n",
    "              col_item=COL_ITEM, \n",
    "              col_rating=COL_RATING, \n",
    "              col_prediction=COL_PREDICTION)\n",
    "\n",
    "eval_rmse = rmse(*args, **kwargs)\n",
    "eval_mae = mae(*args, **kwargs)"
   ]
  },
  {
   "cell_type": "code",
   "execution_count": null,
   "metadata": {},
   "outputs": [],
   "source": [
    "print(f\"RMSE:\\t {eval_rmse:f}\",\n",
    "      f\"MAE:\\t {eval_mae:f}\", sep='\\n')"
   ]
  },
  {
   "cell_type": "markdown",
   "metadata": {},
   "source": [
    "#### Ranking metrics"
   ]
  },
  {
   "cell_type": "code",
   "execution_count": null,
   "metadata": {},
   "outputs": [],
   "source": [
    "top_k = 5\n",
    "kwargs = dict(col_user=COL_USER, \n",
    "              col_item=COL_ITEM, \n",
    "              col_rating=COL_RATING, \n",
    "              col_prediction=COL_PREDICTION, \n",
    "              k=top_k)\n",
    "\n",
    "eval_precision = precision_at_k(*args, **kwargs)\n",
    "eval_recall = recall_at_k(*args, **kwargs)\n",
    "eval_map = map_at_k(*args, **kwargs)\n",
    "eval_ndcg = ndcg_at_k(*args, **kwargs)"
   ]
  },
  {
   "cell_type": "code",
   "execution_count": null,
   "metadata": {},
   "outputs": [],
   "source": [
    "print(f\"Precision@{top_k}:\\t {eval_precision:f}\",\n",
    "      f\"Recall@{top_k}:\\t {eval_recall:f}\", \n",
    "      f\"MAP@{top_k}:\\t\\t {eval_map:f}\",\n",
    "      f\"NDCG@{top_k}:\\t {eval_ndcg:f}\", sep='\\n')"
   ]
  },
  {
   "cell_type": "markdown",
   "metadata": {},
   "source": [
    "# End"
   ]
  }
 ],
 "metadata": {
  "colab": {
   "name": "recsys-evaluation-metrics-part-2.ipynb",
   "provenance": []
  },
  "kernelspec": {
   "display_name": "Python 3 (ipykernel)",
   "language": "python",
   "name": "python3"
  },
  "language_info": {
   "codemirror_mode": {
    "name": "ipython",
    "version": 3
   },
   "file_extension": ".py",
   "mimetype": "text/x-python",
   "name": "python",
   "nbconvert_exporter": "python",
   "pygments_lexer": "ipython3",
   "version": "3.9.16"
  }
 },
 "nbformat": 4,
 "nbformat_minor": 1
}
